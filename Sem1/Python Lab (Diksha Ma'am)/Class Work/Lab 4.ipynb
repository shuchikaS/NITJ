{
 "cells": [
  {
   "cell_type": "code",
   "execution_count": 1,
   "id": "d2d640bd",
   "metadata": {},
   "outputs": [
    {
     "name": "stdout",
     "output_type": "stream",
     "text": [
      "[1, 9, 25, 49, 81]\n"
     ]
    }
   ],
   "source": [
    "# List Comprehension\n",
    "# Syntax - [expression(element) for element in oddList if condition]\n",
    "\n",
    "l1 = [x**2 for x in range(1,11) if x%2 == 1]\n",
    "print(l1)"
   ]
  },
  {
   "cell_type": "code",
   "execution_count": 3,
   "id": "841b1451",
   "metadata": {},
   "outputs": [
    {
     "name": "stdout",
     "output_type": "stream",
     "text": [
      "1\n",
      "a\n",
      "abc\n",
      "[2, 3, 4, 5]\n",
      "8.9\n"
     ]
    }
   ],
   "source": [
    "ls = [1,'a',\"abc\",[2,3,4,5],8.9]\n",
    "i = 0\n",
    "while i < (len(ls)):\n",
    "    print(ls[i])\n",
    "    i+=1"
   ]
  },
  {
   "cell_type": "code",
   "execution_count": 4,
   "id": "5f2c2a55",
   "metadata": {},
   "outputs": [
    {
     "name": "stdout",
     "output_type": "stream",
     "text": [
      "[3, 4, 5]\n"
     ]
    }
   ],
   "source": [
    "# List cloning\n",
    "\n",
    "ls = [1,2,3,4,5,6,7]\n",
    "ls2 = ls[2:5]\n",
    "print(ls2)"
   ]
  },
  {
   "cell_type": "code",
   "execution_count": 5,
   "id": "0aa523cf",
   "metadata": {},
   "outputs": [
    {
     "name": "stdout",
     "output_type": "stream",
     "text": [
      "Original stack:  [1, 2, 3, 4, 5, 6]\n",
      "Stack after push operation:  [1, 2, 3, 4, 5, 6, 7]\n",
      "Stack after pop operation:  [1, 2, 3, 4, 5, 6]\n",
      "Value obtained after peep operation:  6\n"
     ]
    }
   ],
   "source": [
    "# Stack operations - List as a stack\n",
    "\n",
    "stack = [1,2,3,4,5,6]\n",
    "print(\"Original stack: \", stack)\n",
    "stack.append(7)\n",
    "print(\"Stack after push operation: \", stack)\n",
    "stack.pop()\n",
    "print(\"Stack after pop operation: \", stack)\n",
    "l2 = len(stack) - 1\n",
    "print(\"Value obtained after peep operation: \", stack[l2])"
   ]
  },
  {
   "cell_type": "code",
   "execution_count": 7,
   "id": "59a4d8b5",
   "metadata": {},
   "outputs": [
    {
     "name": "stdout",
     "output_type": "stream",
     "text": [
      "Original Queue is:  [1, 2, 3, 4, 5, 6]\n",
      "Queue after push operation:  [1, 2, 3, 4, 5, 6, 7]\n",
      "Queue after pop operation:  [2, 3, 4, 5, 6, 7]\n",
      "Value obtained after peep operation:  7\n"
     ]
    }
   ],
   "source": [
    "# Queue Operations - List as a Queue\n",
    "queue = [1,2,3,4,5,6]\n",
    "print(\"Original Queue is: \", queue)\n",
    "queue.append(7)\n",
    "print(\"Queue after push operation: \", queue)\n",
    "queue.pop(0)\n",
    "print(\"Queue after pop operation: \", queue)\n",
    "print(\"Value obtained after peep operation: \", queue[len(queue) - 1])"
   ]
  },
  {
   "cell_type": "code",
   "execution_count": null,
   "id": "c470cecb",
   "metadata": {},
   "outputs": [],
   "source": [
    "# HW - read about list as queue and List as stack"
   ]
  },
  {
   "cell_type": "code",
   "execution_count": 10,
   "id": "f3aed766",
   "metadata": {},
   "outputs": [
    {
     "name": "stdout",
     "output_type": "stream",
     "text": [
      "Sum =  55\n",
      "Avg =  5.5\n"
     ]
    }
   ],
   "source": [
    "# Looping in lists\n",
    "\n",
    "l1 = [1,2,3,4,5,6,7,8,9,10]\n",
    "s = 0\n",
    "for i in l1:\n",
    "    s+=i\n",
    "print(\"Sum = \", s)\n",
    "print(\"Avg = \", s/len(l1))"
   ]
  },
  {
   "cell_type": "code",
   "execution_count": 11,
   "id": "d833448d",
   "metadata": {},
   "outputs": [
    {
     "name": "stdout",
     "output_type": "stream",
     "text": [
      "1 is at index:  0\n",
      "2 is at index:  1\n",
      "3 is at index:  2\n",
      "4 is at index:  3\n",
      "5 is at index:  4\n"
     ]
    }
   ],
   "source": [
    "# Enumerate function - Returns an enumerate object which contains the index and value of all items in the list as a tuple\n",
    "\n",
    "l1 = [1,2,3,4,5]\n",
    "for index, i in enumerate(l1):\n",
    "    print(i, \"is at index: \", index)"
   ]
  },
  {
   "cell_type": "code",
   "execution_count": 13,
   "id": "c004370a",
   "metadata": {},
   "outputs": [
    {
     "name": "stdout",
     "output_type": "stream",
     "text": [
      "index:  0\n",
      "index:  1\n",
      "index:  2\n",
      "index:  3\n",
      "index:  4\n"
     ]
    }
   ],
   "source": [
    "# Program to print index of values in a list\n",
    "\n",
    "l1 = [1,2,3,4,5]\n",
    "for i in range(len(l1)):\n",
    "    print(\"index: \", i)"
   ]
  },
  {
   "cell_type": "code",
   "execution_count": 15,
   "id": "94b82540",
   "metadata": {},
   "outputs": [
    {
     "name": "stdout",
     "output_type": "stream",
     "text": [
      "Element at index 0 is:  1\n",
      "Element at index 1 is:  2\n",
      "Element at index 2 is:  3\n",
      "Element at index 3 is:  4\n",
      "Element at index 4 is:  5\n"
     ]
    }
   ],
   "source": [
    "# Using iterators\n",
    "\n",
    "l1 = [1,2,3,4,5]\n",
    "it = iter(l1)\n",
    "for i in range(len(l1)):\n",
    "    print(\"Element at index\", i , \"is: \", next(it))"
   ]
  },
  {
   "cell_type": "code",
   "execution_count": null,
   "id": "677c2133",
   "metadata": {},
   "outputs": [],
   "source": [
    "# PYTHON FUNCTIONS\n",
    "\n",
    "''' HW - \n",
    "\n",
    "What do you mean by python functions?\n",
    "What do you mean by function overheading?\n",
    "\n",
    "'''\n",
    "\n"
   ]
  },
  {
   "cell_type": "code",
   "execution_count": 16,
   "id": "8c50e4d4",
   "metadata": {},
   "outputs": [
    {
     "name": "stdout",
     "output_type": "stream",
     "text": [
      "36\n"
     ]
    }
   ],
   "source": [
    "# User defined function\n",
    "\n",
    "\n",
    "# Defining the function\n",
    "def square(num):\n",
    "#     Returns the square of the number\n",
    "    return num**2\n",
    "\n",
    "obj = square(6)\n",
    "print(obj)"
   ]
  },
  {
   "cell_type": "code",
   "execution_count": 19,
   "id": "e8b56ef7",
   "metadata": {},
   "outputs": [
    {
     "name": "stdout",
     "output_type": "stream",
     "text": [
      "[1, 4, 9, 16, 25]\n",
      "[1, 4, 9, 16, 25]\n"
     ]
    }
   ],
   "source": [
    "# Pass by Reference and Pass by value\n",
    "\n",
    "def square(item_list):\n",
    "#     Returns the square of the number\n",
    "    squares = []\n",
    "    for i in item_list:\n",
    "        squares.append(i**2)\n",
    "    return squares\n",
    "\n",
    "# Pass by reference\n",
    "num = [1,2,3,4,5]\n",
    "obj = square(num)\n",
    "print(obj)\n",
    "\n",
    "# Pass by value\n",
    "obj = square([1,2,3,4,5])\n",
    "print(obj)"
   ]
  },
  {
   "cell_type": "code",
   "execution_count": 21,
   "id": "9755cc39",
   "metadata": {},
   "outputs": [
    {
     "name": "stdout",
     "output_type": "stream",
     "text": [
      "even\n",
      "odd\n"
     ]
    }
   ],
   "source": [
    "# Python function arguments\n",
    "\n",
    "def evenOdd(x):\n",
    "    if(x%2 == 0):\n",
    "        print(\"even\")\n",
    "    else:\n",
    "        print(\"odd\")\n",
    "evenOdd(2)\n",
    "evenOdd(3)"
   ]
  },
  {
   "cell_type": "code",
   "execution_count": 23,
   "id": "1fd9a4a3",
   "metadata": {},
   "outputs": [
    {
     "name": "stdout",
     "output_type": "stream",
     "text": [
      "x =  5\n",
      "y =  50\n",
      "End of Function call!\n",
      "x =  5\n",
      "y =  10\n",
      "End of Function call!\n"
     ]
    }
   ],
   "source": [
    "# Default arguments\n",
    "\n",
    "def myFun(x, y=50):\n",
    "    print(\"x = \", x)\n",
    "    print(\"y = \", y)\n",
    "    print(\"End of Function call!\")\n",
    "    \n",
    "myFun(5)\n",
    "myFun(5,10)"
   ]
  },
  {
   "cell_type": "code",
   "execution_count": 25,
   "id": "edd3586c",
   "metadata": {},
   "outputs": [
    {
     "name": "stdout",
     "output_type": "stream",
     "text": [
      "Case 1: \n",
      "Hi I am Suraj\n",
      "My age is 27\n",
      "\n",
      "Case 2: \n",
      "Hi I am 27\n",
      "My age is Suraj\n"
     ]
    }
   ],
   "source": [
    "# Positional arguments\n",
    "\n",
    "def nameage(name, age):\n",
    "    print(\"Hi I am\", name)\n",
    "    print(\"My age is\", age)\n",
    "\n",
    "print(\"Case 1: \")\n",
    "nameage(\"Suraj\", 27)\n",
    "\n",
    "print(\"\\nCase 2: \")\n",
    "nameage(27, \"Suraj\")"
   ]
  },
  {
   "cell_type": "code",
   "execution_count": 26,
   "id": "90413f0a",
   "metadata": {},
   "outputs": [
    {
     "name": "stdout",
     "output_type": "stream",
     "text": [
      "Hello\n",
      "Welcome\n",
      "to\n"
     ]
    }
   ],
   "source": [
    "# Arbitrary Keyword Arguments - *args and **kwargs\n",
    "\n",
    "'''\n",
    "\n",
    "*args = Non Keyword arguments\n",
    "**kwargs = Keyword arguments\n",
    "\n",
    "'''\n",
    "\n",
    "def myFun(*argv):\n",
    "    for arg in argv:\n",
    "        print(arg)\n",
    "\n",
    "myFun('Hello', 'Welcome', 'to')\n",
    "\n",
    "\n"
   ]
  },
  {
   "cell_type": "code",
   "execution_count": 31,
   "id": "fa2ffe4d",
   "metadata": {},
   "outputs": [
    {
     "name": "stdout",
     "output_type": "stream",
     "text": [
      "Function to check if number is even or odd\n"
     ]
    }
   ],
   "source": [
    "# Docstring\n",
    "\n",
    "'''\n",
    "Syntax:\n",
    "print(function_name.__doc__)\n",
    "\n",
    "'''\n",
    "\n",
    "\n",
    "def evenodd(x):\n",
    "    '''Function to check if number is even or odd'''\n",
    "    if(x%2==o):\n",
    "        print(\"Even\")\n",
    "    else:\n",
    "        print(\"odd\")\n",
    "\n",
    "print(evenodd.__doc__)"
   ]
  },
  {
   "cell_type": "code",
   "execution_count": 35,
   "id": "e6fe6a96",
   "metadata": {},
   "outputs": [
    {
     "name": "stdout",
     "output_type": "stream",
     "text": [
      "14\n",
      "20\n"
     ]
    }
   ],
   "source": [
    "# Anonymous Functions - A function without a name\n",
    "# Eg - Using Lambdas\n",
    "\n",
    "'''\n",
    "Syntax of Lambdas - \n",
    "lambda arguments: expression\n",
    "\n",
    "'''\n",
    "\n",
    "# Program to add 4 numbers using Lambdas\n",
    "\n",
    "s = lambda a,b,c: a+b+c\n",
    "print(s(4,5,5))\n",
    "\n",
    "a = lambda x,y: x*y\n",
    "print(a(4,5))\n"
   ]
  },
  {
   "cell_type": "code",
   "execution_count": 36,
   "id": "7b4ba2b1",
   "metadata": {},
   "outputs": [
    {
     "name": "stdout",
     "output_type": "stream",
     "text": [
      "[35, 69, 55, 75, 73]\n"
     ]
    }
   ],
   "source": [
    "# Using lambdas with filter\n",
    "\n",
    "'''\n",
    "Filter is a function that accepts 2 args: a function and an iterable\n",
    "\n",
    "'''\n",
    "\n",
    "l = [35, 12, 69, 55, 75, 14, 73]\n",
    "odd_nums = list(filter(lambda num: (num%2 != 0), l))\n",
    "print(odd_nums)"
   ]
  },
  {
   "cell_type": "code",
   "execution_count": null,
   "id": "95539779",
   "metadata": {},
   "outputs": [],
   "source": []
  },
  {
   "cell_type": "code",
   "execution_count": 44,
   "id": "e61b4d0e",
   "metadata": {},
   "outputs": [
    {
     "name": "stdout",
     "output_type": "stream",
     "text": [
      "Outside function var1:  Sunday\n",
      "car is Good\n"
     ]
    }
   ],
   "source": [
    "# GLOBAL VARIABLES AND LOCAL VARIABLES\n",
    "\n",
    "var = \"Good\"  #Global Variable\n",
    "def show():\n",
    "    global var1\n",
    "    var1 = \"Sunday\"\n",
    "show()\n",
    "print(\"Outside function var1: \", var1)\n",
    "print(\"car is\", var)"
   ]
  },
  {
   "cell_type": "code",
   "execution_count": 47,
   "id": "99267b84",
   "metadata": {},
   "outputs": [
    {
     "name": "stdout",
     "output_type": "stream",
     "text": [
      "Enter num1: 5\n",
      "Enter num1: 2\n",
      "num1 - num2 =  3\n"
     ]
    }
   ],
   "source": [
    "# WAP that subtracts two numbers using a function\n",
    "\n",
    "def func(a,b):\n",
    "    return a - b\n",
    "\n",
    "a = int(input(\"Enter num1: \"))\n",
    "b =  int(input(\"Enter num1: \"))\n",
    "print(\"num1 - num2 = \", func(a,b))"
   ]
  },
  {
   "cell_type": "code",
   "execution_count": 51,
   "id": "1972e6a2",
   "metadata": {},
   "outputs": [
    {
     "name": "stdout",
     "output_type": "stream",
     "text": [
      "Enter num1: 3\n",
      "Number is Odd\n"
     ]
    }
   ],
   "source": [
    "# WAP using functions and return statements to check whether a number is even or odd\n",
    "\n",
    "def func(a):\n",
    "    if (a%2 == 0):\n",
    "        return \"Even\"\n",
    "    else:\n",
    "        return \"Odd\"\n",
    "\n",
    "a = int(input(\"Enter num1: \"))\n",
    "print(\"Number is\", func(a))"
   ]
  },
  {
   "cell_type": "code",
   "execution_count": 56,
   "id": "815ebd23",
   "metadata": {},
   "outputs": [
    {
     "name": "stdout",
     "output_type": "stream",
     "text": [
      "Enter time (HH:MM:SS) - 2:33:40\n",
      "Equivalent time in minutes:  153.66666666666666\n"
     ]
    }
   ],
   "source": [
    "# WAP to convert time into minutes\n",
    "\n",
    "time = input(\"Enter time (HH:MM:SS) - \")\n",
    "\n",
    "ls = time.split(':')\n",
    "\n",
    "total_min = int(ls[0])*60 + int(ls[1]) + int(ls[2])/60\n",
    "\n",
    "print(\"Equivalent time in minutes: \", total_min)"
   ]
  },
  {
   "cell_type": "code",
   "execution_count": 54,
   "id": "f8ebfe33",
   "metadata": {},
   "outputs": [
    {
     "name": "stdout",
     "output_type": "stream",
     "text": [
      "Enter num1: 2\n",
      "Enter num2: 3\n",
      "Num1 now is:  3\n",
      "Num2 now is:  2\n"
     ]
    }
   ],
   "source": [
    "# WAP to swap two numbers\n",
    "\n",
    "a = int(input(\"Enter num1: \"))\n",
    "b = int(input(\"Enter num2: \"))\n",
    "\n",
    "# Swapping the numbers\n",
    "c = a\n",
    "a = b\n",
    "b = c\n",
    "print(\"Num1 now is: \", a)\n",
    "print(\"Num2 now is: \", b)\n"
   ]
  },
  {
   "cell_type": "code",
   "execution_count": 62,
   "id": "e52ac3d0",
   "metadata": {},
   "outputs": [
    {
     "name": "stdout",
     "output_type": "stream",
     "text": [
      "Enter age of person: 66\n",
      "Enter principal amount: 10000\n",
      "Enter time in years: 1\n",
      "Simple Interest is:  1200.0\n"
     ]
    }
   ],
   "source": [
    "# WAP to calculate simple interest. \n",
    "# Suppose the customer is a Senior citizen and is being offered 12% ROI. For all other customers, ROI is 10%.\n",
    "\n",
    "age = int(input(\"Enter age of person: \"))\n",
    "principal = float(input(\"Enter principal amount: \"))\n",
    "time = int(input(\"Enter time in years: \"))\n",
    "\n",
    "if age>=60:\n",
    "    r=12\n",
    "else:\n",
    "    r=10\n",
    "si = principal*r*time/100\n",
    "print(\"Simple Interest is: \", si)"
   ]
  },
  {
   "cell_type": "code",
   "execution_count": null,
   "id": "e938b656",
   "metadata": {},
   "outputs": [],
   "source": []
  },
  {
   "cell_type": "code",
   "execution_count": null,
   "id": "9f90aa3c",
   "metadata": {},
   "outputs": [],
   "source": []
  },
  {
   "cell_type": "code",
   "execution_count": null,
   "id": "57c71a16",
   "metadata": {},
   "outputs": [],
   "source": []
  },
  {
   "cell_type": "code",
   "execution_count": null,
   "id": "a4bb0c29",
   "metadata": {},
   "outputs": [],
   "source": []
  }
 ],
 "metadata": {
  "kernelspec": {
   "display_name": "Python 3",
   "language": "python",
   "name": "python3"
  },
  "language_info": {
   "codemirror_mode": {
    "name": "ipython",
    "version": 3
   },
   "file_extension": ".py",
   "mimetype": "text/x-python",
   "name": "python",
   "nbconvert_exporter": "python",
   "pygments_lexer": "ipython3",
   "version": "3.7.3"
  }
 },
 "nbformat": 4,
 "nbformat_minor": 5
}
