{
 "cells": [
  {
   "cell_type": "code",
   "execution_count": 12,
   "id": "b61d06f0",
   "metadata": {},
   "outputs": [
    {
     "name": "stdout",
     "output_type": "stream",
     "text": [
      "Tuple is:  (2, 3)\n",
      "Before swap: \n",
      "Value of a is 2 and value of b is 3\n",
      "After swap: \n",
      "Value of a is 3 and value of b is 2\n"
     ]
    }
   ],
   "source": [
    "# WAP to swap two values using tuple assignment\n",
    "\n",
    "t1 = (2,3)\n",
    "print(\"Tuple is: \", t1)\n",
    "print(\"Before swap: \")\n",
    "a, b = t1\n",
    "print(f'Value of a is {a} and value of b is {b}')\n",
    "\n",
    "print(\"After swap: \")\n",
    "(a, b) = (b, a)\n",
    "print(f'Value of a is {a} and value of b is {b}')\n"
   ]
  },
  {
   "cell_type": "code",
   "execution_count": 5,
   "id": "85fe8f48",
   "metadata": {},
   "outputs": [
    {
     "name": "stdout",
     "output_type": "stream",
     "text": [
      "Enter radius: 7\n",
      "Area is:  153.93804002589985\n",
      "Circumference is:  43.982297150257104\n"
     ]
    }
   ],
   "source": [
    "# WAP using a function that returns the area and circumference of a circle whose radius is passed as an argument\n",
    "\n",
    "import math\n",
    "def func1(r):\n",
    "    area = math.pi * r * r\n",
    "    circum = 2 *math.pi *r\n",
    "    return (area, circum)\n",
    "\n",
    "\n",
    "rad = int(input(\"Enter radius: \"))\n",
    "(ar, circum) = func1(rad)\n",
    "print(\"Area is: \", ar)\n",
    "print(\"Circumference is: \", circum)"
   ]
  },
  {
   "cell_type": "code",
   "execution_count": 21,
   "id": "22b5f56c",
   "metadata": {},
   "outputs": [
    {
     "name": "stdout",
     "output_type": "stream",
     "text": [
      "Enter the email address: ieu@iosdf\n",
      "('ieu', 'iosdf')\n"
     ]
    }
   ],
   "source": [
    "# WAP that scans an email address and forms a tuple of username and domain\n",
    "\n",
    "email = input(\"Enter the email address: \")\n",
    "email = email.split(\"@\")\n",
    "email_tuple = tuple(email)\n",
    "print(email_tuple)\n",
    "\n"
   ]
  },
  {
   "cell_type": "code",
   "execution_count": 20,
   "id": "0083499c",
   "metadata": {},
   "outputs": [
    {
     "name": "stdout",
     "output_type": "stream",
     "text": [
      "Enter the email address: isof@iuefi\n",
      "('isof', 'iuefi')\n"
     ]
    }
   ],
   "source": [
    "\n",
    "# Alternatively\n",
    "email = input(\"Enter the email address: \")\n",
    "n = len(email)\n",
    "for i in range(n):\n",
    "    if email[i] == \"@\":\n",
    "        a = email[0:i]\n",
    "        b = email[i+1: n]\n",
    "t1 = (a, b)\n",
    "print(t1)"
   ]
  },
  {
   "cell_type": "code",
   "execution_count": 25,
   "id": "e403bc70",
   "metadata": {},
   "outputs": [
    {
     "name": "stdout",
     "output_type": "stream",
     "text": [
      "The original list of toppers is:  [['Arav', 'MSC', 92], ['Student2', 'MBA', 99], ['Student3', 'MTech', 94], ['Student4', 'BSC', 95]]\n",
      "Enter the metadata you wish to edit: \n",
      "\n",
      "Choose the name of the student you wish to edit the details for. Press\n",
      "0. To edit the details of student Arav\n",
      "1. To edit the details of student Student2\n",
      "2. To edit the details of student Student3\n",
      "3. To edit the details of student Student4\n",
      "Enter your choice: 0\n",
      "Press\n",
      "1. To edit the name\n",
      "2. To edit the branch\n",
      "3. To edit the marks\n",
      "Enter your choice (1/2/3): 1\n",
      "Enter the new name: student1\n",
      "New list is:  [['student1', 'MSC', 92], ['Student2', 'MBA', 99], ['Student3', 'MTech', 94], ['Student4', 'BSC', 95]]\n"
     ]
    }
   ],
   "source": [
    "# WAP that has a nested list to store toppers details. Edit the details and reprint the details.\n",
    "# Eg - l1 = [\"Arav\", \"MSC\", 92]\n",
    "\n",
    "l1 = [[\"Arav\", \"MSC\", 92], [\"Student2\", \"MBA\", 99], [\"Student3\", \"MTech\", 94], [\"Student4\", \"BSC\", 95]]\n",
    "\n",
    "print(\"The original list of toppers is: \", l1)\n",
    "print(\"Enter the metadata you wish to edit: \")\n",
    "print(\"\\nChoose the name of the student you wish to edit the details for. Press\")\n",
    "for i in range(len(l1)):\n",
    "    print(f'{i}. To edit the details of student {l1[i][0]}')\n",
    "ch1 = int(input(\"Enter your choice: \"))\n",
    "\n",
    "print(\"Press\\n1. To edit the name\\n2. To edit the branch\\n3. To edit the marks\")\n",
    "ch2 = int(input(\"Enter your choice (1/2/3): \"))\n",
    "\n",
    "if ch1 not in range(len(l1)):\n",
    "    print(\"Wrong Student index chosen!\")\n",
    "else:\n",
    "\n",
    "    if ch2 == 1:\n",
    "        new_name = input(\"Enter the new name: \")\n",
    "        l1[ch1][0] = new_name\n",
    "    elif ch2 == 1:\n",
    "        new_name = input(\"Enter the new branch: \")\n",
    "        l1[ch1][1] = new_name\n",
    "    elif ch2 == 1:\n",
    "        new_name = input(\"Enter the new marks: \")\n",
    "        l1[ch1][2] = new_name\n",
    "    else:\n",
    "        print(\"Wrong choice entered!\")\n",
    "        \n",
    "    print(\"New list is: \", l1)"
   ]
  },
  {
   "cell_type": "code",
   "execution_count": null,
   "id": "196f454a",
   "metadata": {},
   "outputs": [],
   "source": []
  },
  {
   "cell_type": "code",
   "execution_count": null,
   "id": "9ddaa6f2",
   "metadata": {},
   "outputs": [],
   "source": []
  }
 ],
 "metadata": {
  "kernelspec": {
   "display_name": "Python 3",
   "language": "python",
   "name": "python3"
  },
  "language_info": {
   "codemirror_mode": {
    "name": "ipython",
    "version": 3
   },
   "file_extension": ".py",
   "mimetype": "text/x-python",
   "name": "python",
   "nbconvert_exporter": "python",
   "pygments_lexer": "ipython3",
   "version": "3.7.3"
  }
 },
 "nbformat": 4,
 "nbformat_minor": 5
}
