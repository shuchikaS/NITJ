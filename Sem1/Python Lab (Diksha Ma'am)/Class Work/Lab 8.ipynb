{
 "cells": [
  {
   "cell_type": "markdown",
   "id": "6116367c",
   "metadata": {},
   "source": [
    "# SETS"
   ]
  },
  {
   "cell_type": "code",
   "execution_count": 40,
   "id": "08166255",
   "metadata": {},
   "outputs": [
    {
     "name": "stdout",
     "output_type": "stream",
     "text": [
      "<class 'set'>\n",
      "True\n"
     ]
    }
   ],
   "source": [
    "# SETS\n",
    "\n",
    "thisset = {\"apple\", \"banana\", \"cherry\"}\n",
    "print(type(thisset))\n",
    "\n",
    "print(\"banana\" in thisset)"
   ]
  },
  {
   "cell_type": "code",
   "execution_count": 41,
   "id": "3ed23491",
   "metadata": {},
   "outputs": [
    {
     "name": "stdout",
     "output_type": "stream",
     "text": [
      "{'orange', 'apple', 'banana', 'cherry'}\n"
     ]
    }
   ],
   "source": [
    "# Add items in set\n",
    "thisset.add(\"orange\")\n",
    "print(thisset)"
   ]
  },
  {
   "cell_type": "code",
   "execution_count": 42,
   "id": "9f53f242",
   "metadata": {},
   "outputs": [
    {
     "name": "stdout",
     "output_type": "stream",
     "text": [
      "{'apple', 'banana', 'mango', 'orange', 'papaya', 'cherry'}\n"
     ]
    }
   ],
   "source": [
    "# Add items from another set into this set\n",
    "tropical = {\"mango\", \"papaya\"}\n",
    "thisset.update(tropical)\n",
    "print(thisset)\n",
    "\n",
    "# Check why this is the order after concatenation"
   ]
  },
  {
   "cell_type": "code",
   "execution_count": 43,
   "id": "313ddb6a",
   "metadata": {},
   "outputs": [
    {
     "name": "stdout",
     "output_type": "stream",
     "text": [
      "{'apple', 'banana', 'mango', 'papaya2', 'orange', 'papaya', 'mango2', 'cherry'}\n"
     ]
    }
   ],
   "source": [
    "# Add elements of a list to the set\n",
    "l1 = [\"mango2\", \"papaya2\"]\n",
    "thisset.update(l1)\n",
    "print(thisset)"
   ]
  },
  {
   "cell_type": "code",
   "execution_count": 44,
   "id": "08a28f7f",
   "metadata": {},
   "outputs": [
    {
     "name": "stdout",
     "output_type": "stream",
     "text": [
      "{'apple', 'banana', 'mango', 'papaya2', 'orange', 'papaya', 'cherry'}\n"
     ]
    }
   ],
   "source": [
    "# Remove item\n",
    "\n",
    "thisset.remove(\"mango2\")\n",
    "print(thisset)"
   ]
  },
  {
   "cell_type": "code",
   "execution_count": 45,
   "id": "51ab6634",
   "metadata": {},
   "outputs": [
    {
     "name": "stdout",
     "output_type": "stream",
     "text": [
      "{'apple', 'mango', 'papaya2', 'orange', 'papaya', 'cherry'}\n"
     ]
    }
   ],
   "source": [
    "# Remove item using discard() --- It will not raise an error if item does not exist in the set. remove() raises an error if it does not find the element to remove\n",
    "\n",
    "thisset.discard(\"banana\")\n",
    "print(thisset)"
   ]
  },
  {
   "cell_type": "markdown",
   "id": "cab032d1",
   "metadata": {},
   "source": [
    "POP function  --- You will not know which item will be popped\n",
    "\n",
    "CLEAR Function --- Empties the set\n",
    "\n",
    "DEL function --- Deletes the set completely\n",
    "Usage - del thisset"
   ]
  },
  {
   "cell_type": "markdown",
   "id": "30e68bc3",
   "metadata": {},
   "source": [
    "JOIN SETS --- union() and update()\n",
    "intersection() --- keeps duplicates\n",
    "difference() --- keeps items from first set that are not in other sets\n",
    "symmetric_difference() --- keeps all items except duplicates\n",
    "\n",
    "\n",
    "You can also use | operator instead of union. Example - \n",
    "set3 = set1.union(set2)\n",
    "set3 = set1 | set2\n",
    "\n",
    "You can also use set5 = set1.union(set2, set3, set4) to join multiple sets\n",
    "OR, you can write --- set5 = set1 | set2 | set3 | set4"
   ]
  },
  {
   "cell_type": "markdown",
   "id": "cd24b450",
   "metadata": {},
   "source": [
    "Difference between union() and |  ---\n",
    "Union will join set with tuple, but | will join only set with set"
   ]
  },
  {
   "cell_type": "markdown",
   "id": "80882954",
   "metadata": {},
   "source": [
    "In union() the updates will be stored in set1\n",
    "However, in intersection(), you will have to create a new set and store the result in it\n",
    "\n",
    "YOu can use intersection_update() to store the intersection results in set1"
   ]
  },
  {
   "cell_type": "markdown",
   "id": "ef618822",
   "metadata": {},
   "source": [
    "You can also use & operator instead of intersection. \n"
   ]
  },
  {
   "cell_type": "code",
   "execution_count": 2,
   "id": "353d46d4",
   "metadata": {},
   "outputs": [
    {
     "name": "stdout",
     "output_type": "stream",
     "text": [
      "{False, 1, 2, 'apple', 'google'}\n",
      "5\n",
      "{False, 1, 'apple'}\n"
     ]
    }
   ],
   "source": [
    "# Join sets that contains the values belwo and see what is considered duplicates\n",
    "\n",
    "set1 = {\"apple\", 1, \"banana\", 0, \"cherry\"}\n",
    "set2 = {False, \"google\", 1, \"apple\", 2, True}\n",
    "\n",
    "print(set2)\n",
    "print(len(set2))\n",
    "set3 = set1.intersection(set2)\n",
    "print(set3)"
   ]
  },
  {
   "cell_type": "code",
   "execution_count": 47,
   "id": "230d50e4",
   "metadata": {},
   "outputs": [
    {
     "name": "stdout",
     "output_type": "stream",
     "text": [
      "{'banana', 'cherry'}\n"
     ]
    }
   ],
   "source": [
    "# Difference example - \n",
    "set3 = set1 - set2\n",
    "print(set3)"
   ]
  },
  {
   "cell_type": "code",
   "execution_count": null,
   "id": "187a588c",
   "metadata": {},
   "outputs": [],
   "source": [
    "# Symmteric Difference --- You can also use ^ operator\n",
    "\n"
   ]
  },
  {
   "cell_type": "code",
   "execution_count": null,
   "id": "aec43647",
   "metadata": {},
   "outputs": [],
   "source": [
    "# PYTHON NOTES FOR PROFESSIONALS - Data sciene and ML bootcamp --- goalkicker.com"
   ]
  },
  {
   "cell_type": "code",
   "execution_count": 48,
   "id": "cd9a1f69",
   "metadata": {},
   "outputs": [
    {
     "name": "stdout",
     "output_type": "stream",
     "text": [
      "False\n"
     ]
    }
   ],
   "source": [
    "print({1,2}.issuperset({1,2,3}))"
   ]
  },
  {
   "cell_type": "code",
   "execution_count": 49,
   "id": "2b589670",
   "metadata": {},
   "outputs": [
    {
     "name": "stdout",
     "output_type": "stream",
     "text": [
      "True\n"
     ]
    }
   ],
   "source": [
    "print({1,2}.isdisjoint({3,4}))"
   ]
  },
  {
   "cell_type": "code",
   "execution_count": 50,
   "id": "9991898d",
   "metadata": {},
   "outputs": [
    {
     "name": "stdout",
     "output_type": "stream",
     "text": [
      "{'Burger King', 'McDonals'}\n"
     ]
    }
   ],
   "source": [
    "# Get unique elemets of a list using sets\n",
    "\n",
    "restaurants = [\"McDonals\", \"Burger King\", \"McDonals\"]\n",
    "print(set(restaurants))"
   ]
  },
  {
   "cell_type": "code",
   "execution_count": 51,
   "id": "aef3547e",
   "metadata": {},
   "outputs": [
    {
     "ename": "TypeError",
     "evalue": "unhashable type: 'set'",
     "output_type": "error",
     "traceback": [
      "\u001b[1;31m---------------------------------------------------------------------------\u001b[0m",
      "\u001b[1;31mTypeError\u001b[0m                                 Traceback (most recent call last)",
      "\u001b[1;32m<ipython-input-51-93fc898628e9>\u001b[0m in \u001b[0;36m<module>\u001b[1;34m\u001b[0m\n\u001b[0;32m      1\u001b[0m \u001b[1;31m# Set of sets\u001b[0m\u001b[1;33m\u001b[0m\u001b[1;33m\u001b[0m\u001b[1;33m\u001b[0m\u001b[0m\n\u001b[1;32m----> 2\u001b[1;33m \u001b[1;33m{\u001b[0m\u001b[1;33m{\u001b[0m\u001b[1;36m1\u001b[0m\u001b[1;33m,\u001b[0m\u001b[1;36m2\u001b[0m\u001b[1;33m}\u001b[0m\u001b[1;33m,\u001b[0m \u001b[1;33m{\u001b[0m\u001b[1;36m2\u001b[0m\u001b[1;33m,\u001b[0m\u001b[1;36m3\u001b[0m\u001b[1;33m}\u001b[0m\u001b[1;33m}\u001b[0m\u001b[1;33m\u001b[0m\u001b[1;33m\u001b[0m\u001b[0m\n\u001b[0m",
      "\u001b[1;31mTypeError\u001b[0m: unhashable type: 'set'"
     ]
    }
   ],
   "source": [
    "# Set of sets\n",
    "{{1,2}, {2,3}}"
   ]
  },
  {
   "cell_type": "code",
   "execution_count": 21,
   "id": "b6e1ba87",
   "metadata": {},
   "outputs": [
    {
     "data": {
      "text/plain": [
       "{frozenset({3, 4}), frozenset({1, 2})}"
      ]
     },
     "execution_count": 21,
     "metadata": {},
     "output_type": "execute_result"
    }
   ],
   "source": [
    "# Instead, use frozenset\n",
    "\n",
    "{frozenset({1,2}), frozenset({3,4})}"
   ]
  },
  {
   "cell_type": "code",
   "execution_count": null,
   "id": "d76cb063",
   "metadata": {},
   "outputs": [],
   "source": [
    "# a.issubset(b) --- OR use  a <= b\n",
    "\n",
    "\n",
    "# and a.issuperset(b)  --- OR use  a>=b"
   ]
  },
  {
   "cell_type": "code",
   "execution_count": null,
   "id": "b4153ca2",
   "metadata": {},
   "outputs": [],
   "source": [
    "# Length function"
   ]
  },
  {
   "cell_type": "code",
   "execution_count": 52,
   "id": "8ebdeb5a",
   "metadata": {},
   "outputs": [
    {
     "name": "stdout",
     "output_type": "stream",
     "text": [
      "Set1 after adding squares:  {64, 1, 4, 36, 100, 9, 16, 49, 81, 25}\n",
      "Set2 after adding cubes:  {64, 1, 512, 8, 1000, 343, 216, 729, 27, 125}\n",
      "\n",
      "Demonstrating the use of update function: \n",
      "Set1 after update:  {64, 1, 4, 36, 100, 'mango', 9, 16, 49, 81, 25}\n",
      "\n",
      "Demonstrating the use of pop function: \n",
      "64\n",
      "\n",
      "Demonstrating the use of remove function: \n",
      "{1, 4, 36, 100, 9, 16, 49, 81, 25}\n",
      "\n",
      "Demonstrating the use of clear function: \n",
      "set()\n"
     ]
    }
   ],
   "source": [
    "# WAP that creates 2 sets squares and cubes in range 1 to 10. Demonstrate the use of update, pop, remove and clear function\n",
    "\n",
    "set1 = set()\n",
    "set2 = set()\n",
    "for i in range(1, 11):\n",
    "    set1.add(i*i)\n",
    "    set2.add(i*i*i)\n",
    "print(\"Set1 after adding squares: \", set1)\n",
    "print(\"Set2 after adding cubes: \", set2)\n",
    "\n",
    "print(\"\\nDemonstrating the use of update function: \")\n",
    "set3 = {\"mango\"}\n",
    "set1.update(set3)\n",
    "print(\"Set1 after update: \", set1)\n",
    "\n",
    "print(\"\\nDemonstrating the use of pop function: \")\n",
    "print(set1.pop())\n",
    "\n",
    "print(\"\\nDemonstrating the use of remove function: \")\n",
    "set1.remove(\"mango\")\n",
    "print(set1)\n",
    "\n",
    "print(\"\\nDemonstrating the use of clear function: \")\n",
    "set1.clear()\n",
    "print(set1)"
   ]
  },
  {
   "cell_type": "code",
   "execution_count": 35,
   "id": "720a41ec",
   "metadata": {},
   "outputs": [
    {
     "name": "stdout",
     "output_type": "stream",
     "text": [
      "{64, 1, 512, 8, 343, 216, 729, 27, 125}\n",
      "<class 'set'>\n"
     ]
    }
   ],
   "source": [
    "# Create set using list comprehension\n",
    "\n",
    "set4 = {i*i*i for i in range(1,10)}\n",
    "print(set4)\n",
    "print(type(set4))"
   ]
  },
  {
   "cell_type": "code",
   "execution_count": 65,
   "id": "8eb92c9f",
   "metadata": {},
   "outputs": [
    {
     "name": "stdout",
     "output_type": "stream",
     "text": [
      "Set of even numbers:  {2, 4, 6, 8, 10}\n",
      "Set of composite numbers:  {4, 6, 8, 9, 10, 12, 14, 15, 16, 18, 20}\n",
      "\n",
      "Demonstrating use of all() function: \n",
      "True\n",
      "\n",
      "Removing '2' from set1:  {4, 6, 8, 10}\n",
      "\n",
      "Demonstrating use of issuperset() function: \n",
      "True\n",
      "\n",
      "Demonstrating use of len() function: \n",
      "11\n",
      "\n",
      "Demonstrating use of sum() function: \n",
      "Sum of elements of set1:  28\n"
     ]
    }
   ],
   "source": [
    "# WAP that creates two sets one of even numbers in the range 1 to 10 and the other as all composite numbers in range 1 to 20\n",
    "# Demonstrate the use of all(), issuperset(), len() and sum() on the sets.\n",
    "\n",
    "set1 = {i for i in range(1, 11) if i % 2 == 0 }\n",
    "print(\"Set of even numbers: \",set1)\n",
    "\n",
    "set2 = set()\n",
    "\n",
    "c = 0\n",
    "for i in range(2, 21):\n",
    "    for j in range(2, i):\n",
    "        if i%j ==0:\n",
    "            c+=1\n",
    "    if c!=0:\n",
    "        set2.add(i)\n",
    "    c = 0\n",
    "print(\"Set of composite numbers: \", set2)\n",
    "\n",
    "# all() function returns True if all elements are True, else returns False\n",
    "print(\"\\nDemonstrating use of all() function: \")\n",
    "print(all(set1))\n",
    "\n",
    "set1.remove(2)\n",
    "print(\"\\nRemoving '2' from set1: \", set1)\n",
    "\n",
    "print(\"\\nDemonstrating use of issuperset() function: \")\n",
    "print(set2.issuperset(set1))\n",
    "\n",
    "print(\"\\nDemonstrating use of len() function: \")\n",
    "print(len(set2))\n",
    "\n",
    "print(\"\\nDemonstrating use of sum() function: \")\n",
    "print(\"Sum of elements of set1: \", sum(set1))"
   ]
  },
  {
   "cell_type": "markdown",
   "id": "b9276e62",
   "metadata": {},
   "source": [
    "# NUMPY"
   ]
  },
  {
   "cell_type": "code",
   "execution_count": 66,
   "id": "d5015e79",
   "metadata": {},
   "outputs": [
    {
     "name": "stdout",
     "output_type": "stream",
     "text": [
      "1.18.1\n"
     ]
    }
   ],
   "source": [
    "import numpy as np\n",
    "print(np.__version__)"
   ]
  },
  {
   "cell_type": "code",
   "execution_count": 67,
   "id": "7be67e6e",
   "metadata": {},
   "outputs": [
    {
     "name": "stdout",
     "output_type": "stream",
     "text": [
      "[1 2 3 4 5]\n",
      "<class 'numpy.ndarray'>\n"
     ]
    }
   ],
   "source": [
    "# Numpy ndarray\n",
    "\n",
    "arr = np.array([1,2,3,4,5])\n",
    "print(arr)\n",
    "print(type(arr))\n",
    "\n"
   ]
  },
  {
   "cell_type": "code",
   "execution_count": 69,
   "id": "d64a28a0",
   "metadata": {},
   "outputs": [
    {
     "name": "stdout",
     "output_type": "stream",
     "text": [
      "[]\n",
      "<class 'numpy.ndarray'>\n"
     ]
    }
   ],
   "source": [
    "# Create empty numpy array\n",
    "a1 = np.array([])\n",
    "print(a1)\n",
    "print(type(a1))"
   ]
  },
  {
   "cell_type": "code",
   "execution_count": 70,
   "id": "a3b2c14c",
   "metadata": {},
   "outputs": [
    {
     "name": "stdout",
     "output_type": "stream",
     "text": [
      "42\n"
     ]
    }
   ],
   "source": [
    "# O dimensional (0-D) array\n",
    "\n",
    "a1 = np.array(42)\n",
    "print(a1)"
   ]
  },
  {
   "cell_type": "code",
   "execution_count": 71,
   "id": "6d292565",
   "metadata": {},
   "outputs": [
    {
     "name": "stdout",
     "output_type": "stream",
     "text": [
      "[1 2 3]\n"
     ]
    }
   ],
   "source": [
    "# 1-D array\n",
    "\n",
    "a1 = np.array([1,2,3])\n",
    "print(a1)"
   ]
  },
  {
   "cell_type": "code",
   "execution_count": 74,
   "id": "ecfcbab5",
   "metadata": {},
   "outputs": [
    {
     "name": "stdout",
     "output_type": "stream",
     "text": [
      "[[1 2 3]\n",
      " [4 5 6]]\n"
     ]
    }
   ],
   "source": [
    "# 2-D array\n",
    "a1 = np.array([\n",
    "    [1,2,3], \n",
    "    [4,5,6]\n",
    "])\n",
    "print(a1)"
   ]
  },
  {
   "cell_type": "code",
   "execution_count": 76,
   "id": "b2649c77",
   "metadata": {},
   "outputs": [
    {
     "name": "stdout",
     "output_type": "stream",
     "text": [
      "[[[1 2 3]\n",
      "  [4 5 6]]\n",
      "\n",
      " [[1 2 1]\n",
      "  [4 5 1]]]\n"
     ]
    }
   ],
   "source": [
    "# 3-D array\n",
    "\n",
    "a1 = np.array([\n",
    "    [\n",
    "        [1,2,3], \n",
    "        [4,5,6]\n",
    "    ],\n",
    "    [\n",
    "        [1,2,1], \n",
    "        [4,5,1]\n",
    "    ]\n",
    "])\n",
    "print(a1)"
   ]
  },
  {
   "cell_type": "code",
   "execution_count": 77,
   "id": "d9e15559",
   "metadata": {},
   "outputs": [
    {
     "name": "stdout",
     "output_type": "stream",
     "text": [
      "3\n"
     ]
    }
   ],
   "source": [
    "# Check number of dimensions of array\n",
    "\n",
    "print(a1.ndim)"
   ]
  },
  {
   "cell_type": "code",
   "execution_count": 78,
   "id": "2be1ee2a",
   "metadata": {},
   "outputs": [
    {
     "name": "stdout",
     "output_type": "stream",
     "text": [
      "[[[[[1 2 3 4]]]]]\n",
      "5\n"
     ]
    }
   ],
   "source": [
    "# Create an array with 5 dim and verify it has 5 dim\n",
    "\n",
    "a2 = np.array([1,2,3,4], ndmin=5)\n",
    "print(a2)\n",
    "print(a2.ndim)"
   ]
  },
  {
   "cell_type": "code",
   "execution_count": 85,
   "id": "0f9717e7",
   "metadata": {},
   "outputs": [
    {
     "name": "stdout",
     "output_type": "stream",
     "text": [
      "2\n"
     ]
    }
   ],
   "source": [
    "a2 = np.array([[1,2,3,4], [4,5,6,7]])\n",
    "print(a2[0,1])"
   ]
  },
  {
   "cell_type": "code",
   "execution_count": 86,
   "id": "01df97cf",
   "metadata": {},
   "outputs": [
    {
     "name": "stdout",
     "output_type": "stream",
     "text": [
      "6\n"
     ]
    }
   ],
   "source": [
    "a3 = np.array([[[1,2,3], [4,5,6]], [[7,8,9], [10,11,12]]])\n",
    "print(a3[0,1,2])"
   ]
  },
  {
   "cell_type": "code",
   "execution_count": null,
   "id": "5a9d654a",
   "metadata": {},
   "outputs": [],
   "source": []
  },
  {
   "cell_type": "code",
   "execution_count": null,
   "id": "6867c4d8",
   "metadata": {},
   "outputs": [],
   "source": []
  },
  {
   "cell_type": "code",
   "execution_count": null,
   "id": "bc5b9964",
   "metadata": {},
   "outputs": [],
   "source": []
  }
 ],
 "metadata": {
  "kernelspec": {
   "display_name": "Python 3",
   "language": "python",
   "name": "python3"
  },
  "language_info": {
   "codemirror_mode": {
    "name": "ipython",
    "version": 3
   },
   "file_extension": ".py",
   "mimetype": "text/x-python",
   "name": "python",
   "nbconvert_exporter": "python",
   "pygments_lexer": "ipython3",
   "version": "3.7.3"
  }
 },
 "nbformat": 4,
 "nbformat_minor": 5
}
