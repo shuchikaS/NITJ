{
 "cells": [
  {
   "cell_type": "code",
   "execution_count": 1,
   "id": "b200402f",
   "metadata": {},
   "outputs": [
    {
     "name": "stdout",
     "output_type": "stream",
     "text": [
      "2 * 1 = 2\n",
      "2 * 2 = 4\n",
      "2 * 3 = 6\n",
      "2 * 4 = 8\n",
      "2 * 5 = 10\n",
      "2 * 6 = 12\n",
      "2 * 7 = 14\n",
      "2 * 8 = 16\n",
      "2 * 9 = 18\n",
      "2 * 10 = 20\n",
      "\n",
      "3 * 1 = 3\n",
      "3 * 2 = 6\n",
      "3 * 3 = 9\n",
      "3 * 4 = 12\n",
      "3 * 5 = 15\n",
      "3 * 6 = 18\n",
      "3 * 7 = 21\n",
      "3 * 8 = 24\n",
      "3 * 9 = 27\n",
      "3 * 10 = 30\n",
      "\n"
     ]
    }
   ],
   "source": [
    "# Nested loop\n",
    "for i in range(2,4):\n",
    "    for j in range(1,11):\n",
    "        print(i, \"*\", j, \"=\", i*j)\n",
    "    print()"
   ]
  },
  {
   "cell_type": "code",
   "execution_count": 1,
   "id": "ab2fa52c",
   "metadata": {},
   "outputs": [
    {
     "name": "stdout",
     "output_type": "stream",
     "text": [
      "* \n",
      "* * \n",
      "* * * \n",
      "* * * * \n",
      "* * * * * \n"
     ]
    }
   ],
   "source": [
    "# Nested loop to print pattern\n",
    "\n",
    "for i in range(1,6):\n",
    "    for j in range(1, i+1):\n",
    "        print(\"*\", end = \" \")\n",
    "    print()"
   ]
  },
  {
   "cell_type": "code",
   "execution_count": 4,
   "id": "0b744d52",
   "metadata": {},
   "outputs": [
    {
     "name": "stdout",
     "output_type": "stream",
     "text": [
      "Kelly Kelly Kelly Kelly Kelly \n",
      "Jessa Jessa Jessa Jessa Jessa \n",
      "Emma Emma Emma Emma Emma \n"
     ]
    }
   ],
   "source": [
    "# WHile loop inside for loop\n",
    "\n",
    "names = [\"Kelly\", \"Jessa\", \"Emma\"]\n",
    "for name in names:\n",
    "    count = 0\n",
    "    while(count<5):\n",
    "        print(name, end=' ')\n",
    "        count+=1\n",
    "    print()"
   ]
  },
  {
   "cell_type": "code",
   "execution_count": 28,
   "id": "fa1c0bea",
   "metadata": {},
   "outputs": [
    {
     "name": "stdout",
     "output_type": "stream",
     "text": [
      "        1   \n",
      "      2   2   \n",
      "    3   3   3   \n",
      "  4   4   4   4   \n",
      "5   5   5   5   5   \n",
      "        1   \n",
      "      2   2   \n",
      "    3   3   3   \n",
      "  4   4   4   4   \n",
      "5   5   5   5   5   \n"
     ]
    }
   ],
   "source": [
    "# WAP to print the pattern\n",
    "\n",
    "for i in range(1, 6):\n",
    "    for k in range(1, 6-i):\n",
    "        print(\" \", end=\" \")\n",
    "    for j in range(1,i+1):\n",
    "        print(i, \" \", end=\" \")\n",
    "\n",
    "    print()\n",
    "    \n",
    "# Alternate approach\n",
    "n=5\n",
    "for i in range(1, n+1):\n",
    "    for k in range(n, i, -1):\n",
    "        print(\" \", end=\" \")\n",
    "    for j in range(1,i+1):\n",
    "        print(i, \" \", end=\" \")\n",
    "    print()"
   ]
  },
  {
   "cell_type": "code",
   "execution_count": 25,
   "id": "c9043d63",
   "metadata": {},
   "outputs": [
    {
     "name": "stdout",
     "output_type": "stream",
     "text": [
      "***\n",
      "***\n",
      "***\n",
      "***\n",
      "***\n"
     ]
    }
   ],
   "source": [
    "# WAP to print a rectangle pattern with 5 rows and 3 columns of stars\n",
    "\n",
    "for i in range(5):\n",
    "    for j in range(3):\n",
    "        print(\"*\", end=\"\")\n",
    "    print()"
   ]
  },
  {
   "cell_type": "code",
   "execution_count": 14,
   "id": "59139208",
   "metadata": {},
   "outputs": [
    {
     "name": "stdout",
     "output_type": "stream",
     "text": [
      "Enter the number to check whether prime or composite: 4\n",
      "Number is composite\n",
      "Factorial is:  24\n"
     ]
    }
   ],
   "source": [
    "##### WAP to classify a given number as prime or composite\n",
    "# WAP using for loop to calculate factorial of a number\n",
    "\n",
    "n = int(input(\"Enter the number to check whether prime or composite: \"))\n",
    "c = 0\n",
    "for i in range(2,n):\n",
    "    if n%i == 0:\n",
    "        c+=1\n",
    "if c!=0:\n",
    "    print(\"Number is composite\")\n",
    "else:\n",
    "    print(\"Number is prime\")\n",
    "    \n",
    "# Calculating factorial\n",
    "fact = 1\n",
    "for i in range(2,n+1):\n",
    "    fact *= i\n",
    "print(\"Factorial is: \", fact)"
   ]
  },
  {
   "cell_type": "code",
   "execution_count": 22,
   "id": "1149e16d",
   "metadata": {},
   "outputs": [
    {
     "name": "stdout",
     "output_type": "stream",
     "text": [
      "Enter the year (1900-2101) to check whether leap year: 2004\n",
      "Leap year\n"
     ]
    }
   ],
   "source": [
    "# WAP that displays all leap years from 1900 to 2101\n",
    "\n",
    "year = int(input(\"Enter the year (1900-2101) to check whether leap year: \"))\n",
    "if year%100 == 0:\n",
    "    if year%400 == 0:\n",
    "        print(\"Leap year\")\n",
    "    else:\n",
    "        print(\"Not leap year\")\n",
    "else:\n",
    "    if year%4 == 0:\n",
    "        print(\"Leap year\")\n",
    "    else:\n",
    "        print(\"Not leap year\")\n",
    "        "
   ]
  },
  {
   "cell_type": "code",
   "execution_count": 24,
   "id": "b499c110",
   "metadata": {},
   "outputs": [
    {
     "name": "stdout",
     "output_type": "stream",
     "text": [
      "Enter the number: 3\n",
      "Sum of series is:  1.8333333333333333\n"
     ]
    }
   ],
   "source": [
    "# WAP to sum the series numbers - 1 + 1/2 + ... + 1/n using for loop\n",
    "\n",
    "n = int(input(\"Enter the number: \"))\n",
    "s = 0\n",
    "for i in range(1, n+1):\n",
    "    s += (1/i)\n",
    "print(\"Sum of series is: \", s)"
   ]
  },
  {
   "cell_type": "code",
   "execution_count": 25,
   "id": "d9f1b880",
   "metadata": {},
   "outputs": [
    {
     "name": "stdout",
     "output_type": "stream",
     "text": [
      "1 0\n",
      "2 0\n",
      "2 1\n",
      "3 0\n",
      "3 1\n",
      "3 2\n"
     ]
    }
   ],
   "source": [
    "# Break statement\n",
    "for i in range(4):\n",
    "    for j in range(4):\n",
    "        if j==i:\n",
    "            break\n",
    "        print(i,j)"
   ]
  },
  {
   "cell_type": "code",
   "execution_count": 31,
   "id": "fda36f01",
   "metadata": {},
   "outputs": [
    {
     "name": "stdout",
     "output_type": "stream",
     "text": [
      "2 * 4 = 8\n",
      "2 * 6 = 12\n",
      "4 * 2 = 8\n",
      "4 * 6 = 24\n",
      "6 * 2 = 12\n",
      "6 * 4 = 24\n",
      "\n",
      "0 1\n",
      "0 2\n",
      "0 3\n",
      "1 0\n",
      "1 2\n",
      "1 3\n",
      "2 0\n",
      "2 1\n",
      "2 3\n",
      "3 0\n",
      "3 1\n",
      "3 2\n"
     ]
    }
   ],
   "source": [
    "# Continue statement\n",
    "first = [2,4,6]\n",
    "second = [2,4,6]\n",
    "for i in first:\n",
    "    for j in second:\n",
    "        if i==j:\n",
    "            continue\n",
    "        print(i, \"*\", j, \"=\", i*j)\n",
    "\n",
    "# Example 2 - \n",
    "print()\n",
    "for i in range(4):\n",
    "    for j in range(4):\n",
    "        if j==i:\n",
    "            continue\n",
    "        print(i,j)"
   ]
  },
  {
   "cell_type": "code",
   "execution_count": 32,
   "id": "0b9107f1",
   "metadata": {},
   "outputs": [
    {
     "name": "stdout",
     "output_type": "stream",
     "text": [
      "[2, 3, 4, 5]\n"
     ]
    }
   ],
   "source": [
    "# List slicing\n",
    "\n",
    "list1 = ['physics', 'chem', 1997, 2000]\n",
    "list2 = [1,2,3,4,5,6,7,8]\n",
    "print(list2[1:5])"
   ]
  },
  {
   "cell_type": "code",
   "execution_count": 33,
   "id": "e20e4ca4",
   "metadata": {},
   "outputs": [
    {
     "name": "stdout",
     "output_type": "stream",
     "text": [
      "john\n",
      "harry\n"
     ]
    }
   ],
   "source": [
    "# Multidimensional arrays\n",
    "\n",
    "list1 = [['marry','john'],['harry']]\n",
    "print(list1[0][1])\n",
    "print(list1[1][0])"
   ]
  },
  {
   "cell_type": "code",
   "execution_count": 37,
   "id": "07e332f5",
   "metadata": {},
   "outputs": [
    {
     "name": "stdout",
     "output_type": "stream",
     "text": [
      "['G', 'E', 'E', 'K', 'S', 'F', 'O', 'R', 'G', 'E', 'E', 'K', 'S']\n",
      "Sliced:  ['G', 'E', 'E', 'K', 'S', 'F', 'O']\n",
      "['R', 'G', 'E', 'E', 'K']\n",
      "['S', 'K', 'E', 'E', 'G', 'R', 'O', 'F', 'S', 'K', 'E', 'E', 'G']\n"
     ]
    }
   ],
   "source": [
    "# List methods- insert, append, extend, reverse, reversed, remove, pop, slicing, \n",
    "\n",
    "# HW - Read about slice operations on list\n",
    "\n",
    "List = ['G', 'E', 'E', 'K', 'S', 'F', 'O', 'R', 'G', 'E', 'E', 'K', 'S']\n",
    "print(List)\n",
    "\n",
    "Sliced_list = List[:-6]\n",
    "print(\"Sliced: \", Sliced_list)\n",
    "\n",
    "l2 = List[-6:-1]\n",
    "print(l2)\n",
    "\n",
    "l3 = List[::-1]\n",
    "print(l3)"
   ]
  },
  {
   "cell_type": "code",
   "execution_count": null,
   "id": "2ad49bb6",
   "metadata": {},
   "outputs": [],
   "source": []
  },
  {
   "cell_type": "code",
   "execution_count": null,
   "id": "d99804a2",
   "metadata": {},
   "outputs": [],
   "source": []
  },
  {
   "cell_type": "code",
   "execution_count": null,
   "id": "a25d9da5",
   "metadata": {},
   "outputs": [],
   "source": []
  },
  {
   "cell_type": "code",
   "execution_count": null,
   "id": "2eb20ecb",
   "metadata": {},
   "outputs": [],
   "source": []
  },
  {
   "cell_type": "code",
   "execution_count": null,
   "id": "4797b5f5",
   "metadata": {},
   "outputs": [],
   "source": []
  }
 ],
 "metadata": {
  "kernelspec": {
   "display_name": "Python 3",
   "language": "python",
   "name": "python3"
  },
  "language_info": {
   "codemirror_mode": {
    "name": "ipython",
    "version": 3
   },
   "file_extension": ".py",
   "mimetype": "text/x-python",
   "name": "python",
   "nbconvert_exporter": "python",
   "pygments_lexer": "ipython3",
   "version": "3.7.3"
  }
 },
 "nbformat": 4,
 "nbformat_minor": 5
}
