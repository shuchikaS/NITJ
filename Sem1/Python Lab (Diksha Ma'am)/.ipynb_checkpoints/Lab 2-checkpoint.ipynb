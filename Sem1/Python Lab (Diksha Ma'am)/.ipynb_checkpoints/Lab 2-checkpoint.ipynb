{
 "cells": [
  {
   "cell_type": "code",
   "execution_count": 3,
   "id": "fef7f6f6",
   "metadata": {},
   "outputs": [
    {
     "name": "stdout",
     "output_type": "stream",
     "text": [
      "*** Program to determine whether a person is eligible to vote ***\n",
      "Enter the age of the person: 12\n",
      "Person is not eligible\n"
     ]
    }
   ],
   "source": [
    "# WAP to determine whether a person is eligible to vote\n",
    "\n",
    "print(\"*** Program to determine whether a person is eligible to vote ***\")\n",
    "\n",
    "age = int(input(\"Enter the age of the person: \"))\n",
    "if age >=18:\n",
    "    print(\"Person is eligible\")\n",
    "else:\n",
    "    print(\"Person is not eligible\")"
   ]
  },
  {
   "cell_type": "code",
   "execution_count": 8,
   "id": "2946ce27",
   "metadata": {},
   "outputs": [
    {
     "name": "stdout",
     "output_type": "stream",
     "text": [
      "*** Program to test whether the number entered by user is positive, negetive or zero ***\n",
      "Enter the number: -10\n",
      "Negative\n"
     ]
    }
   ],
   "source": [
    "# WAP to test whether the number entered by user is positive, negetive or zero\n",
    "\n",
    "print(\"*** Program to test whether the number entered by user is positive, negetive or zero ***\")\n",
    "\n",
    "num = int(input(\"Enter the number: \"))\n",
    "if num > 0:\n",
    "    print(\"Positive\")\n",
    "elif num < 0:\n",
    "    print(\"Negative\")\n",
    "else:\n",
    "    print(\"Zero\")"
   ]
  },
  {
   "cell_type": "code",
   "execution_count": 14,
   "id": "ad089d03",
   "metadata": {},
   "outputs": [
    {
     "name": "stdout",
     "output_type": "stream",
     "text": [
      "*** Program that displays the user to enter a number between 1 to 7 and then displays the corr day of the week ***\n",
      "Enter the number: 4\n",
      "Thursday\n"
     ]
    }
   ],
   "source": [
    "# WAP that displays the user to enter a number between 1 to 7 and then displays the corr day of the week\n",
    "\n",
    "print(\"*** Program that displays the user to enter a number between 1 to 7 and then displays the corr day of the week ***\")\n",
    "\n",
    "num = int(input(\"Enter the number: \"))\n",
    "if num >= 1 and num <= 7:\n",
    "    if num == 1:\n",
    "        print (\"Monday\")\n",
    "    if num == 2:\n",
    "        print (\"Tuesday\")\n",
    "    if num == 3:\n",
    "        print (\"Wednesday\")\n",
    "    if num == 4:\n",
    "        print (\"Thursday\")\n",
    "    if num == 5:\n",
    "        print (\"Friday\")\n",
    "    if num == 6:\n",
    "        print (\"Saturday\")\n",
    "    if num == 7:\n",
    "        print (\"Sunday\")\n",
    "else:\n",
    "    print(\"Incorrect number\")"
   ]
  },
  {
   "cell_type": "code",
   "execution_count": 35,
   "id": "3aa48ca2",
   "metadata": {},
   "outputs": [
    {
     "name": "stdout",
     "output_type": "stream",
     "text": [
      "Enter the input: iauidyA\n",
      "\n",
      "*** USING IN-BUILT LIBRARIES ***\n",
      "It's a Char\n",
      "and has both cases\n",
      "\n",
      "*** USING CODE ***\n",
      "It's a Char\n",
      "and has both cases\n"
     ]
    }
   ],
   "source": [
    "# WAP to take input from a user and then check whether it is a number or a character. \n",
    "# If it is a char, determine whether it is Upper case or lower case\n",
    "\n",
    "inp = input(\"Enter the input: \")\n",
    "\n",
    "\n",
    "''' USING IN-BUILT LIBRARIES '''\n",
    "print()\n",
    "print(\"*** USING IN-BUILT LIBRARIES ***\")\n",
    "if (inp.isalpha()):\n",
    "    print(\"It's a Char\")\n",
    "    if inp.isupper():\n",
    "        print(\"and in upper case\")\n",
    "    elif inp.islower():\n",
    "        print(\"and in lower case\")\n",
    "    else:\n",
    "        print(\"and has both cases\")\n",
    "elif(inp.isnumeric()):\n",
    "    print(\"It's a number\")\n",
    "else:\n",
    "    print(\"Invalid Input\")\n",
    "    \n",
    "\n",
    "''' ALTERNATE APPROACH '''\n",
    "print()\n",
    "print(\"*** USING CODE ***\")\n",
    "l1 = [0,0,0] #It will have 3 elements. First is No. of upper case char, second is no. of lower case chars, third is no. of integers\n",
    "len1 = len(inp)\n",
    "flag = 0\n",
    "for i in inp:\n",
    "    in_ascii = ord(i)\n",
    "    if in_ascii in range(65,91) or in_ascii in range(97, 123):\n",
    "        flag = 1\n",
    "        if in_ascii in range(65,91):\n",
    "            l1[0] +=1\n",
    "        else:\n",
    "            l1[1] +=1\n",
    "    elif in_ascii in range(48, 58):\n",
    "        flag = 2\n",
    "        l1[2] +=1\n",
    "        \n",
    "        \n",
    "if flag == 1:\n",
    "    if l1[0] == len1:\n",
    "        print(\"It's a Char\")\n",
    "        print(\"and in upper case\")\n",
    "    elif l1[1] == len1:\n",
    "        print(\"It's a Char\")\n",
    "        print(\"and in lower case\")\n",
    "    elif l1[0]+l1[1] == len1:\n",
    "        print(\"It's a Char\")\n",
    "        print(\"and has both cases\")\n",
    "    else:\n",
    "        print(\"Invalid Input\")\n",
    "elif flag == 2:\n",
    "    if l1[2] == len1:\n",
    "        print(\"It's a number\")\n",
    "    else:\n",
    "        print(\"Invalid Input\")\n",
    "else:\n",
    "        print(\"Invalid Input\")"
   ]
  },
  {
   "cell_type": "code",
   "execution_count": 18,
   "id": "33208521",
   "metadata": {},
   "outputs": [
    {
     "name": "stdout",
     "output_type": "stream",
     "text": [
      "Sum = 55\n",
      "Avg = 5.5\n"
     ]
    }
   ],
   "source": [
    "# WAP to calculate the sum and avg of first ten numbers\n",
    "\n",
    "sum = 0\n",
    "for i in range(10):\n",
    "    sum+=(i+1)\n",
    "avg = sum/10\n",
    "print(f'Sum = {sum}')\n",
    "print(f'Avg = {avg}')"
   ]
  },
  {
   "cell_type": "code",
   "execution_count": 38,
   "id": "81337c60",
   "metadata": {
    "scrolled": true
   },
   "outputs": [
    {
     "name": "stdout",
     "output_type": "stream",
     "text": [
      "Enter value of m: 3\n",
      "Enter value of n: 5\n",
      "12\n"
     ]
    }
   ],
   "source": [
    "# WAP to calc sum of nos from m to n\n",
    "\n",
    "m = int(input(\"Enter value of m: \"))\n",
    "n = int(input(\"Enter value of n: \"))\n",
    "\n",
    "s = 0\n",
    "\n",
    "# if (m<=n):\n",
    "#     for i in range (m, n):\n",
    "#         s += i\n",
    "#     print(\"Sum = \", s)\n",
    "# else:\n",
    "#     for i in range (m, n, -1):\n",
    "#         s += i\n",
    "#     print(\"Sum = \", s)\n",
    "    \n",
    "    \n",
    "    \n",
    "if (m <=n):\n",
    "    c = 1\n",
    "elif (m>n):\n",
    "    c = -1\n",
    "for i in range (m, n+1, c):\n",
    "    s += i\n",
    "print (s)"
   ]
  },
  {
   "cell_type": "code",
   "execution_count": 43,
   "id": "f00def71",
   "metadata": {},
   "outputs": [
    {
     "name": "stdout",
     "output_type": "stream",
     "text": [
      "Enter the number: 2\n",
      "Enter the number: 3\n",
      "Enter the number: 4\n",
      "Enter the number: -2\n",
      "Enter the number: -3\n",
      "Enter the number: -4\n",
      "Enter the number: -5\n",
      "Enter the number: 5\n",
      "Enter the number: 6\n",
      "Enter the number: -1\n",
      "Average of positive numbers:  4.0\n",
      "Average of negative numbers:  -3.5\n"
     ]
    }
   ],
   "source": [
    "# WAP to read the nos until -1 is encountered.  Find the avg of positive and negetive numbers entered by the user\n",
    "\n",
    "sum_pos = 0\n",
    "sum_neg = 0\n",
    "c1 = 0\n",
    "c2 = 0\n",
    "\n",
    "while(True):\n",
    "    inp = int(input(\"Enter the number: \"))\n",
    "    if inp == -1:\n",
    "        break\n",
    "    if(inp > 0):\n",
    "        sum_pos += inp\n",
    "        c1 += 1\n",
    "    elif(inp < 0):\n",
    "        sum_neg += inp\n",
    "        c2 += 1\n",
    "    \n",
    "\n",
    "print(\"Average of positive numbers: \", sum_pos/c1)\n",
    "print(\"Average of negative numbers: \", sum_neg/c2)\n",
    "    \n",
    "    \n",
    "    "
   ]
  },
  {
   "cell_type": "code",
   "execution_count": 52,
   "id": "c5dcd8b4",
   "metadata": {},
   "outputs": [
    {
     "name": "stdout",
     "output_type": "stream",
     "text": [
      "1\t2\t3\t4\t5\t6\t7\t8\t9\t10\t"
     ]
    }
   ],
   "source": [
    "# WAP to print first 10 nos using while loop\n",
    "\n",
    "i = 1\n",
    "while(i<=10):\n",
    "    print(i, end='\\t')\n",
    "    i+=1"
   ]
  },
  {
   "cell_type": "code",
   "execution_count": null,
   "id": "74d63c9f",
   "metadata": {},
   "outputs": [],
   "source": []
  },
  {
   "cell_type": "code",
   "execution_count": null,
   "id": "37722d47",
   "metadata": {},
   "outputs": [],
   "source": []
  },
  {
   "cell_type": "code",
   "execution_count": null,
   "id": "c71db1a4",
   "metadata": {},
   "outputs": [],
   "source": []
  },
  {
   "cell_type": "code",
   "execution_count": null,
   "id": "0bc8a899",
   "metadata": {},
   "outputs": [],
   "source": []
  },
  {
   "cell_type": "code",
   "execution_count": null,
   "id": "2d857eef",
   "metadata": {},
   "outputs": [],
   "source": []
  },
  {
   "cell_type": "code",
   "execution_count": null,
   "id": "d0b1f722",
   "metadata": {},
   "outputs": [],
   "source": []
  },
  {
   "cell_type": "code",
   "execution_count": null,
   "id": "6fb0b27d",
   "metadata": {},
   "outputs": [],
   "source": []
  },
  {
   "cell_type": "code",
   "execution_count": null,
   "id": "69de828d",
   "metadata": {},
   "outputs": [],
   "source": []
  }
 ],
 "metadata": {
  "kernelspec": {
   "display_name": "Python 3",
   "language": "python",
   "name": "python3"
  },
  "language_info": {
   "codemirror_mode": {
    "name": "ipython",
    "version": 3
   },
   "file_extension": ".py",
   "mimetype": "text/x-python",
   "name": "python",
   "nbconvert_exporter": "python",
   "pygments_lexer": "ipython3",
   "version": "3.7.3"
  }
 },
 "nbformat": 4,
 "nbformat_minor": 5
}
