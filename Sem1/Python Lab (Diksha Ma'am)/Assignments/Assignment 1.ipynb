{
 "cells": [
  {
   "cell_type": "code",
   "execution_count": 6,
   "id": "727011f4",
   "metadata": {},
   "outputs": [
    {
     "name": "stdout",
     "output_type": "stream",
     "text": [
      "Enter x coordinate of point 1: 3\n",
      "Enter y coordinate of point 1: 2\n",
      "Enter x coordinate of point 2: 9\n",
      "Enter y coordinate of point 2: 7\n",
      "Distance between (3, 2) and (9, 7) is: 7.810249675906654\n"
     ]
    }
   ],
   "source": [
    "# Write a program to calculate the distance between two points\n",
    "\n",
    "import math\n",
    "\n",
    "x1 = int(input(\"Enter x coordinate of point 1: \"))\n",
    "y1 = int(input(\"Enter y coordinate of point 1: \"))\n",
    "x2 = int(input(\"Enter x coordinate of point 2: \"))\n",
    "y2 = int(input(\"Enter y coordinate of point 2: \"))\n",
    "\n",
    "dist = math.sqrt((abs(x1 - x2) **2) + (abs(y1 - y2) **2))\n",
    "print(f'Distance between ({x1}, {y1}) and ({x2}, {y2}) is: {dist}')"
   ]
  },
  {
   "cell_type": "code",
   "execution_count": 8,
   "id": "f810174b",
   "metadata": {},
   "outputs": [
    {
     "name": "stdout",
     "output_type": "stream",
     "text": [
      "Enter length of side 1: 14\n",
      "Enter length of side 2: 14\n",
      "Enter length of side 3: 10\n",
      "Area of triangle with sides 14, 14 and 10 is: 65.3834841531101\n"
     ]
    }
   ],
   "source": [
    "# Write a program to calculate the area of a triangle using Heron's formula\n",
    "\n",
    "import math\n",
    "\n",
    "a = int(input(\"Enter length of side 1: \"))\n",
    "b = int(input(\"Enter length of side 2: \"))\n",
    "c = int(input(\"Enter length of side 3: \"))\n",
    "\n",
    "s = (a + b + c)/2\n",
    "\n",
    "area = math.sqrt(s * (s-a) * (s-b) * (s-c))\n",
    "print(f'Area of triangle with sides {a}, {b} and {c} is: {area}')"
   ]
  },
  {
   "cell_type": "code",
   "execution_count": 14,
   "id": "5ec89648",
   "metadata": {},
   "outputs": [
    {
     "name": "stdout",
     "output_type": "stream",
     "text": [
      "*** PART1 - Write a program to calculate the bill amount for an item given its quantity sold, value, discount, and tax. ***\n",
      "\n",
      "Enter the quantity sold: 80\n",
      "Enter the value: 100\n",
      "Enter the discount percentage: 10\n",
      "Enter the tax: 14\n",
      "Amount to be after discount and tax is:  8208.0\n",
      "\n",
      "\n",
      "\n",
      "*** PART2 - Given a string s = '1234' and an integer n = 5678, concatenate them as a single string and then convert the result back to an integer. What is the final integer value? ***\n",
      "\n",
      "Value after combining s and n as string:  12345678\n",
      "Datatype of the above value:  <class 'str'>\n",
      "After converting this to int, value =  12345678  and Datatype =  <class 'int'>\n"
     ]
    }
   ],
   "source": [
    "'''Write a program to calculate the bill amount for an item given its quantity sold, value, discount, and tax.\n",
    "Given a string s = \"1234\" and an integer n = 5678, concatenate them as a single string and then convert the \n",
    "result back to an integer. \n",
    "What is the final integer value?\n",
    "''' \n",
    "\n",
    "print(\"*** PART1 - Write a program to calculate the bill amount for an item given its quantity sold, value, discount, and tax. ***\")\n",
    "quan = int(input(\"\\nEnter the quantity sold: \"))\n",
    "val = float(input(\"Enter the value: \"))\n",
    "discount = float(input(\"Enter the discount percentage: \"))\n",
    "tax = float(input(\"Enter the tax: \"))\n",
    "\n",
    "amt = quan*val*(100-discount)/100\n",
    "\n",
    "amt_after_tax = amt *(100+tax)/100\n",
    "\n",
    "print(\"Amount to be after discount and tax is: \", amt_after_tax)\n",
    "\n",
    "\n",
    "\n",
    "print(\"\\n\\n\\n*** PART2 - Given a string s = '1234' and an integer n = 5678, concatenate them as a single string and then convert the result back to an integer. What is the final integer value? ***\")\n",
    "s = \"1234\"\n",
    "n = 5678\n",
    "\n",
    "c1 = s + str(n)\n",
    "print(\"\\nValue after combining s and n as string: \", c1)\n",
    "print(\"Datatype of the above value: \", type(c1))\n",
    "\n",
    "c2 = int(c1)\n",
    "print(\"After converting this to int, value = \", c2, \" and Datatype = \", type(c2))"
   ]
  },
  {
   "cell_type": "code",
   "execution_count": 17,
   "id": "090af03f",
   "metadata": {},
   "outputs": [
    {
     "name": "stdout",
     "output_type": "stream",
     "text": [
      "Original value of a:  7\n",
      "Original value of b:  3\n",
      "New value of a:  3\n",
      "New value of b:  7\n"
     ]
    }
   ],
   "source": [
    "'''\n",
    "Given two variables, a = 7 and b = 3, write a Python code snippet to swap their values without using a temporary variable. \n",
    "What will be the values of a and b after the swap?\n",
    "'''\n",
    "\n",
    "a = 7\n",
    "b = 3\n",
    "print(\"Original value of a: \", a)\n",
    "print(\"Original value of b: \", b)\n",
    "\n",
    "a = a + b\n",
    "b = a - b\n",
    "a = a - b\n",
    "print(\"New value of a: \", a)\n",
    "print(\"New value of b: \", b)"
   ]
  },
  {
   "cell_type": "code",
   "execution_count": 18,
   "id": "a707b0b9",
   "metadata": {},
   "outputs": [
    {
     "name": "stdout",
     "output_type": "stream",
     "text": [
      "Average of elements of list  [10, 20, 30, 40, 50] is:  30.0\n"
     ]
    }
   ],
   "source": [
    "'''\n",
    "Given a list of numbers = [10, 20, 30, 40, 50], \n",
    "write a Python code snippet to calculate the average of these numbers using arithmetic operators.\n",
    "'''\n",
    "\n",
    "ls = [10, 20, 30, 40, 50]\n",
    "\n",
    "sum = 0\n",
    "for i in ls:\n",
    "    sum += i\n",
    "avg = sum/len(ls)\n",
    "print(\"Average of elements of list \", ls, \"is: \", avg)"
   ]
  },
  {
   "cell_type": "code",
   "execution_count": 28,
   "id": "1020c7a2",
   "metadata": {},
   "outputs": [
    {
     "name": "stdout",
     "output_type": "stream",
     "text": [
      "Enter first number: 2\n",
      "Enter second number: 3\n",
      "\n",
      "\n",
      "*******************\n",
      "Press 1 for Addition\n",
      "Press 2 for Difference\n",
      "Press 3 for Multiplication\n",
      "Press 4 for Division\n",
      "Press 5 for Modulus\n",
      "Press 6 for Floor\n",
      "Press 7 for Power\n",
      "Choose the operation between 1 to 7 (Press any other number to exit): 1\n",
      "Sum:  5\n",
      "\n",
      "\n",
      "*******************\n",
      "Press 1 for Addition\n",
      "Press 2 for Difference\n",
      "Press 3 for Multiplication\n",
      "Press 4 for Division\n",
      "Press 5 for Modulus\n",
      "Press 6 for Floor\n",
      "Press 7 for Power\n",
      "Choose the operation between 1 to 7 (Press any other number to exit): 5\n",
      "Mod:  2\n",
      "\n",
      "\n",
      "*******************\n",
      "Press 1 for Addition\n",
      "Press 2 for Difference\n",
      "Press 3 for Multiplication\n",
      "Press 4 for Division\n",
      "Press 5 for Modulus\n",
      "Press 6 for Floor\n",
      "Press 7 for Power\n",
      "Choose the operation between 1 to 7 (Press any other number to exit): 7\n",
      "Power:  8\n",
      "\n",
      "\n",
      "*******************\n",
      "Press 1 for Addition\n",
      "Press 2 for Difference\n",
      "Press 3 for Multiplication\n",
      "Press 4 for Division\n",
      "Press 5 for Modulus\n",
      "Press 6 for Floor\n",
      "Press 7 for Power\n",
      "Choose the operation between 1 to 7 (Press any other number to exit): -1\n",
      "\n",
      "Wrong Operation Entered! Exitting the Program !!\n"
     ]
    }
   ],
   "source": [
    "# Write a simple basic calculator program in python\n",
    "\n",
    "a = int(input(\"Enter first number: \"))\n",
    "b = int(input(\"Enter second number: \"))\n",
    "\n",
    "def add(x, y):\n",
    "    print(\"Sum: \", x+y)\n",
    "\n",
    "def diff(x, y):\n",
    "    print(\"Diff: \", x-y)\n",
    "    \n",
    "def mult(x, y):\n",
    "    print(\"Mult: \", x*y)\n",
    "    \n",
    "def div(x, y):\n",
    "    print(\"Div: \", x/y)\n",
    "    \n",
    "def mod(x, y):\n",
    "    print(\"Mod: \", x%y)\n",
    "    \n",
    "def floor(x, y):\n",
    "    print(\"Floor: \", x//y)\n",
    "    \n",
    "def power(x, y):\n",
    "    print(\"Power: \", a**b)\n",
    "\n",
    "inp = 1\n",
    "while(1 <= inp <= 7):\n",
    "    print(\"\\n\\n*******************\\nPress 1 for Addition\")\n",
    "    print(\"Press 2 for Difference\")\n",
    "    print(\"Press 3 for Multiplication\")\n",
    "    print(\"Press 4 for Division\")\n",
    "    print(\"Press 5 for Modulus\")\n",
    "    print(\"Press 6 for Floor\")\n",
    "    print(\"Press 7 for Power\")\n",
    "    inp = int(input(\"Choose the operation between 1 to 7 (Press any other number to exit): \"))\n",
    "    \n",
    "    if inp == 1: \n",
    "        add(a, b)\n",
    "    elif inp == 2: \n",
    "        diff(a, b)\n",
    "    elif inp == 3: \n",
    "        mult(a, b)\n",
    "    elif inp == 4: \n",
    "        div(a, b)\n",
    "    elif inp == 5: \n",
    "        mod(a, b)\n",
    "    elif inp == 6: \n",
    "        floor(a, b)\n",
    "    elif inp == 7: \n",
    "        power(a, b)\n",
    "    else:\n",
    "        print(\"\\nWrong Operation Entered! Exitting the Program !!\")\n",
    "\n",
    "\n"
   ]
  },
  {
   "cell_type": "code",
   "execution_count": null,
   "id": "0736e7d0",
   "metadata": {},
   "outputs": [],
   "source": []
  },
  {
   "cell_type": "code",
   "execution_count": null,
   "id": "5454d770",
   "metadata": {},
   "outputs": [],
   "source": []
  }
 ],
 "metadata": {
  "kernelspec": {
   "display_name": "Python 3",
   "language": "python",
   "name": "python3"
  },
  "language_info": {
   "codemirror_mode": {
    "name": "ipython",
    "version": 3
   },
   "file_extension": ".py",
   "mimetype": "text/x-python",
   "name": "python",
   "nbconvert_exporter": "python",
   "pygments_lexer": "ipython3",
   "version": "3.7.3"
  }
 },
 "nbformat": 4,
 "nbformat_minor": 5
}
