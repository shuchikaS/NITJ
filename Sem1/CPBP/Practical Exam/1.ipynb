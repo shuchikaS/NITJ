{
 "cells": [
  {
   "cell_type": "code",
   "execution_count": 11,
   "id": "45bce0f1-5285-4bf5-a439-c3685c537b2f",
   "metadata": {},
   "outputs": [
    {
     "name": "stdout",
     "output_type": "stream",
     "text": [
      "\n",
      "***********************************************************\n"
     ]
    },
    {
     "name": "stdin",
     "output_type": "stream",
     "text": [
      "Enter your choice:\n",
      "1. Press 1 to enter a new book into the system.\n",
      "2. Press 2 to display all records.\n",
      "3. Press 3 to search book by title and print its details\n",
      "4. Press 4 to remove a book\n",
      "5. Press anything else to exit\n",
      "Enter your choice:  1\n"
     ]
    },
    {
     "name": "stdout",
     "output_type": "stream",
     "text": [
      "\n"
     ]
    },
    {
     "name": "stdin",
     "output_type": "stream",
     "text": [
      "Enter title of book:  Programming Basics with Python\n",
      "Enter name of author of book:  Deepa Sharma\n",
      "Enter price of book:  100\n"
     ]
    },
    {
     "name": "stdout",
     "output_type": "stream",
     "text": [
      "\n",
      "***********************************************************\n"
     ]
    },
    {
     "name": "stdin",
     "output_type": "stream",
     "text": [
      "Enter your choice:\n",
      "1. Press 1 to enter a new book into the system.\n",
      "2. Press 2 to display all records.\n",
      "3. Press 3 to search book by title and print its details\n",
      "4. Press 4 to remove a book\n",
      "5. Press anything else to exit\n",
      "Enter your choice:  1\n"
     ]
    },
    {
     "name": "stdout",
     "output_type": "stream",
     "text": [
      "\n"
     ]
    },
    {
     "name": "stdin",
     "output_type": "stream",
     "text": [
      "Enter title of book:  Principles of Soft Computing using Python\n",
      "Enter name of author of book:  S. N. Sivanandam\n",
      "Enter price of book:  200\n"
     ]
    },
    {
     "name": "stdout",
     "output_type": "stream",
     "text": [
      "\n",
      "***********************************************************\n"
     ]
    },
    {
     "name": "stdin",
     "output_type": "stream",
     "text": [
      "Enter your choice:\n",
      "1. Press 1 to enter a new book into the system.\n",
      "2. Press 2 to display all records.\n",
      "3. Press 3 to search book by title and print its details\n",
      "4. Press 4 to remove a book\n",
      "5. Press anything else to exit\n",
      "Enter your choice:  1\n"
     ]
    },
    {
     "name": "stdout",
     "output_type": "stream",
     "text": [
      "\n"
     ]
    },
    {
     "name": "stdin",
     "output_type": "stream",
     "text": [
      "Enter title of book:  Let Us C\n",
      "Enter name of author of book:  Yashavant Kanetkar\n",
      "Enter price of book:  300\n"
     ]
    },
    {
     "name": "stdout",
     "output_type": "stream",
     "text": [
      "\n",
      "***********************************************************\n"
     ]
    },
    {
     "name": "stdin",
     "output_type": "stream",
     "text": [
      "Enter your choice:\n",
      "1. Press 1 to enter a new book into the system.\n",
      "2. Press 2 to display all records.\n",
      "3. Press 3 to search book by title and print its details\n",
      "4. Press 4 to remove a book\n",
      "5. Press anything else to exit\n",
      "Enter your choice:  2\n"
     ]
    },
    {
     "name": "stdout",
     "output_type": "stream",
     "text": [
      "---------Printing all books in Library---------\n",
      "-----------\n",
      "Title of book:  Programming Basics with Python\n",
      "Author of book:  Deepa Sharma\n",
      "Price of book:  100\n",
      "-----------\n",
      "-----------\n",
      "Title of book:  Principles of Soft Computing using Python\n",
      "Author of book:  S. N. Sivanandam\n",
      "Price of book:  200\n",
      "-----------\n",
      "-----------\n",
      "Title of book:  Let Us C\n",
      "Author of book:  Yashavant Kanetkar\n",
      "Price of book:  300\n",
      "-----------\n",
      "\n",
      "***********************************************************\n"
     ]
    },
    {
     "name": "stdin",
     "output_type": "stream",
     "text": [
      "Enter your choice:\n",
      "1. Press 1 to enter a new book into the system.\n",
      "2. Press 2 to display all records.\n",
      "3. Press 3 to search book by title and print its details\n",
      "4. Press 4 to remove a book\n",
      "5. Press anything else to exit\n",
      "Enter your choice:  3\n",
      "Enter the title of the book to be searched:  Principles of Soft Computing using Python\n"
     ]
    },
    {
     "name": "stdout",
     "output_type": "stream",
     "text": [
      "\n",
      "Book found in records. Details are - \n",
      "Title of book:  Principles of Soft Computing using Python\n",
      "Author of book:  S. N. Sivanandam\n",
      "Price of book:  200\n",
      "\n",
      "***********************************************************\n"
     ]
    },
    {
     "name": "stdin",
     "output_type": "stream",
     "text": [
      "Enter your choice:\n",
      "1. Press 1 to enter a new book into the system.\n",
      "2. Press 2 to display all records.\n",
      "3. Press 3 to search book by title and print its details\n",
      "4. Press 4 to remove a book\n",
      "5. Press anything else to exit\n",
      "Enter your choice:  4\n",
      "Enter the title of the book to be removed:  Principles of Soft Computing using Python\n"
     ]
    },
    {
     "name": "stdout",
     "output_type": "stream",
     "text": [
      "\n",
      "Book found in records. Details are - \n",
      "Title of book:  Principles of Soft Computing using Python\n",
      "Author of book:  S. N. Sivanandam\n",
      "Price of book:  200\n",
      "Deleting the book: \n",
      "\n",
      "***********************************************************\n"
     ]
    },
    {
     "name": "stdin",
     "output_type": "stream",
     "text": [
      "Enter your choice:\n",
      "1. Press 1 to enter a new book into the system.\n",
      "2. Press 2 to display all records.\n",
      "3. Press 3 to search book by title and print its details\n",
      "4. Press 4 to remove a book\n",
      "5. Press anything else to exit\n",
      "Enter your choice:  2\n"
     ]
    },
    {
     "name": "stdout",
     "output_type": "stream",
     "text": [
      "---------Printing all books in Library---------\n",
      "-----------\n",
      "Title of book:  Programming Basics with Python\n",
      "Author of book:  Deepa Sharma\n",
      "Price of book:  100\n",
      "-----------\n",
      "-----------\n",
      "Title of book:  Let Us C\n",
      "Author of book:  Yashavant Kanetkar\n",
      "Price of book:  300\n",
      "-----------\n",
      "\n",
      "***********************************************************\n"
     ]
    },
    {
     "name": "stdin",
     "output_type": "stream",
     "text": [
      "Enter your choice:\n",
      "1. Press 1 to enter a new book into the system.\n",
      "2. Press 2 to display all records.\n",
      "3. Press 3 to search book by title and print its details\n",
      "4. Press 4 to remove a book\n",
      "5. Press anything else to exit\n",
      "Enter your choice:  5\n"
     ]
    },
    {
     "name": "stdout",
     "output_type": "stream",
     "text": [
      "Invalid choice! Exiting the program\n"
     ]
    }
   ],
   "source": [
    "\n",
    "class Library():\n",
    "    def __init__(self):\n",
    "        self.list_of_books = []\n",
    "        \n",
    "    def add(self):\n",
    "        print()\n",
    "        title = input(\"Enter title of book: \")\n",
    "        author = input(\"Enter name of author of book: \")\n",
    "        price = input(\"Enter price of book: \")\n",
    "        self.list_of_books.append([title, author, price])\n",
    "        \n",
    "    def search_by_title(self):\n",
    "        search_title = input(\"Enter the title of the book to be searched: \")\n",
    "        found = 0\n",
    "        for i in self.list_of_books:\n",
    "            if search_title.lower() in str(i[0]).lower():\n",
    "                print()\n",
    "                print(\"Book found in records. Details are - \")\n",
    "                print(\"Title of book: \", i[0])\n",
    "                print(\"Author of book: \", i[1])\n",
    "                print(\"Price of book: \", i[2])\n",
    "                found +=1\n",
    "        if found == 0:\n",
    "            print(\"No records found!!\")\n",
    "    def remove_record(self):\n",
    "        search_title = input(\"Enter the title of the book to be removed: \")\n",
    "        found = 0\n",
    "        for i in self.list_of_books:\n",
    "            if search_title == i[0]:\n",
    "                print()\n",
    "                print(\"Book found in records. Details are - \")\n",
    "                print(\"Title of book: \", i[0])\n",
    "                print(\"Author of book: \", i[1])\n",
    "                print(\"Price of book: \", i[2])\n",
    "                print(\"Deleting the book: \")\n",
    "                self.list_of_books.remove(i)\n",
    "                found +=1\n",
    "        if found == 0:\n",
    "            print(\"No records found!!\")\n",
    "            \n",
    "    def display(self):\n",
    "        print(\"---------Printing all books in Library---------\")\n",
    "        for i in self.list_of_books:\n",
    "            print(\"-----------\")\n",
    "            print(\"Title of book: \", i[0])\n",
    "            print(\"Author of book: \", i[1])\n",
    "            print(\"Price of book: \", i[2])\n",
    "            print(\"-----------\")\n",
    "\n",
    "obj = Library()\n",
    "while True:\n",
    "    print()\n",
    "    print(\"***********************************************************\")\n",
    "    ch = input(\"Enter your choice:\\n1. Press 1 to enter a new book into the system.\\n2. Press 2 to display all records.\\n3. Press 3 to search book by title and print its details\\n4. Press 4 to remove a book\\n5. Press anything else to exit\\nEnter your choice: \")\n",
    "    if int(ch) == 1:\n",
    "        obj.add()\n",
    "    elif int(ch) == 2:\n",
    "        obj.display()\n",
    "    elif int(ch) == 3:\n",
    "        obj.search_by_title()\n",
    "    elif int(ch) == 4:\n",
    "        obj.remove_record()\n",
    "    else:\n",
    "        print(\"Invalid choice! Exiting the program\")\n",
    "        break\n",
    "    "
   ]
  }
 ],
 "metadata": {
  "kernelspec": {
   "display_name": "Python 3 (ipykernel)",
   "language": "python",
   "name": "python3"
  },
  "language_info": {
   "codemirror_mode": {
    "name": "ipython",
    "version": 3
   },
   "file_extension": ".py",
   "mimetype": "text/x-python",
   "name": "python",
   "nbconvert_exporter": "python",
   "pygments_lexer": "ipython3",
   "version": "3.12.5"
  }
 },
 "nbformat": 4,
 "nbformat_minor": 5
}
