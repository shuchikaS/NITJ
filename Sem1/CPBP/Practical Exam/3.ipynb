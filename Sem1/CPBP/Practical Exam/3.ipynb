{
 "cells": [
  {
   "cell_type": "code",
   "execution_count": 15,
   "id": "02aedeab-15e6-4a04-b046-f92787a13130",
   "metadata": {},
   "outputs": [
    {
     "name": "stdout",
     "output_type": "stream",
     "text": [
      "###############################################################\n"
     ]
    },
    {
     "name": "stdin",
     "output_type": "stream",
     "text": [
      "Press -1 to exit. Press anything else to continue:  1\n",
      "Enter the list of elements separated by space:  1 2 3 4 5\n",
      "Enter the value of k to rotate the list:  2\n",
      "Press 1 to rotate to the right and -1 to rotate to the left:  -1\n"
     ]
    },
    {
     "name": "stdout",
     "output_type": "stream",
     "text": [
      "Updated list is:  ['3', '4', '5', '1', '2']\n",
      "###############################################################\n"
     ]
    },
    {
     "name": "stdin",
     "output_type": "stream",
     "text": [
      "Press -1 to exit. Press anything else to continue:  1\n",
      "Enter the list of elements separated by space:  1 2 3 4 5\n",
      "Enter the value of k to rotate the list:  2\n",
      "Press 1 to rotate to the right and -1 to rotate to the left:  1\n"
     ]
    },
    {
     "name": "stdout",
     "output_type": "stream",
     "text": [
      "Updated list is:  ['4', '5', '1', '2', '3']\n",
      "###############################################################\n"
     ]
    },
    {
     "name": "stdin",
     "output_type": "stream",
     "text": [
      "Press -1 to exit. Press anything else to continue:  -1\n"
     ]
    }
   ],
   "source": [
    "def rotate(lst, k, direction):\n",
    "    if direction == 1:\n",
    "        # Rotate right\n",
    "        for i in range(k):\n",
    "            a = lst.pop()\n",
    "            lst.insert(0, a)\n",
    "        return lst\n",
    "    elif direction == -1:\n",
    "        # Rotate left\n",
    "        for i in range(k):\n",
    "            a = lst.pop(0)\n",
    "            lst.append(a)\n",
    "        return lst\n",
    "    else:\n",
    "        print(\"Incorrect direction given. Exiting...\")\n",
    "        return\n",
    "\n",
    "\n",
    "\n",
    "while(True):\n",
    "    print(\"###############################################################\")\n",
    "    a = int(input(\"Press -1 to exit. Press anything else to continue: \"))\n",
    "    if a == -1:\n",
    "        break\n",
    "    # Take the inputs\n",
    "    inp = input(\"Enter the list of elements separated by space: \")\n",
    "    lst = inp.split()\n",
    "    k = int(input(\"Enter the value of k to rotate the list: \"))\n",
    "    direction = int(input(\"Press 1 to rotate to the right and -1 to rotate to the left: \"))\n",
    "    \n",
    "    print(\"Updated list is: \", rotate(lst, k, direction))"
   ]
  },
  {
   "cell_type": "code",
   "execution_count": null,
   "id": "de4c2df8-8e29-4aa8-b5e3-a442c7b7a7eb",
   "metadata": {},
   "outputs": [],
   "source": []
  }
 ],
 "metadata": {
  "kernelspec": {
   "display_name": "Python 3 (ipykernel)",
   "language": "python",
   "name": "python3"
  },
  "language_info": {
   "codemirror_mode": {
    "name": "ipython",
    "version": 3
   },
   "file_extension": ".py",
   "mimetype": "text/x-python",
   "name": "python",
   "nbconvert_exporter": "python",
   "pygments_lexer": "ipython3",
   "version": "3.12.5"
  }
 },
 "nbformat": 4,
 "nbformat_minor": 5
}
