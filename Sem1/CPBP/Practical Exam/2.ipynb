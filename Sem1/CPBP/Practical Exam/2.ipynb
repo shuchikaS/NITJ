{
 "cells": [
  {
   "cell_type": "code",
   "execution_count": 5,
   "id": "f98ab2d2-7a0e-4bb0-88c8-2546f986e460",
   "metadata": {},
   "outputs": [
    {
     "name": "stdin",
     "output_type": "stream",
     "text": [
      "Enter the string:  Python is fun and Python is powerful\n"
     ]
    },
    {
     "name": "stdout",
     "output_type": "stream",
     "text": [
      "{'Python': 2, 'is': 2, 'fun': 1, 'and': 1, 'powerful': 1}\n"
     ]
    }
   ],
   "source": [
    "inp_sentence = input(\"Enter the string: \")\n",
    "lst = inp_sentence.split()\n",
    "\n",
    "dict1 = {}\n",
    "for i in lst:\n",
    "    if i not in dict1.keys():\n",
    "        dict1.update({str(i): 1})\n",
    "    else:\n",
    "        dict1.update({str(i): dict1[i] + 1})\n",
    "print(dict1)"
   ]
  }
 ],
 "metadata": {
  "kernelspec": {
   "display_name": "Python 3 (ipykernel)",
   "language": "python",
   "name": "python3"
  },
  "language_info": {
   "codemirror_mode": {
    "name": "ipython",
    "version": 3
   },
   "file_extension": ".py",
   "mimetype": "text/x-python",
   "name": "python",
   "nbconvert_exporter": "python",
   "pygments_lexer": "ipython3",
   "version": "3.12.5"
  }
 },
 "nbformat": 4,
 "nbformat_minor": 5
}
