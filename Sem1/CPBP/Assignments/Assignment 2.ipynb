{
 "cells": [
  {
   "cell_type": "markdown",
   "id": "c4813790",
   "metadata": {},
   "source": [
    "# ASSIGNMENT 2"
   ]
  },
  {
   "cell_type": "code",
   "execution_count": 4,
   "id": "f094d3a3",
   "metadata": {},
   "outputs": [
    {
     "name": "stdout",
     "output_type": "stream",
     "text": [
      "Enter 1st number: 87634\n",
      "Enter 2nd number: 897\n",
      "Enter 3rd number: 1\n",
      "Greatest nyumber out of 87634, 897, 1 is: 87634\n"
     ]
    }
   ],
   "source": [
    "# WAP that finds greatest of 3 numbers using functions. Pass the numbers as arguments.\n",
    "\n",
    "def find_num(a, b, c):\n",
    "    if a>=b and a>=c:\n",
    "        return a\n",
    "    elif b>=a and b>=c:\n",
    "        return b\n",
    "    elif c>=a and c >=b:\n",
    "        return c\n",
    "    else:\n",
    "        return \"Error\"\n",
    "\n",
    "x = int(input(\"Enter 1st number: \"))\n",
    "y = int(input(\"Enter 2nd number: \"))\n",
    "z = int(input(\"Enter 3rd number: \"))\n",
    "r = find_num(x, y, z)\n",
    "print(f'Greatest nyumber out of {x}, {y}, {z} is: {r}')"
   ]
  },
  {
   "cell_type": "code",
   "execution_count": 6,
   "id": "ebbc98f2",
   "metadata": {},
   "outputs": [
    {
     "name": "stdout",
     "output_type": "stream",
     "text": [
      "Enter total number of items: 5\n",
      "Enter number of selected items: 2\n",
      "Number of permutations:  20.0\n",
      "Number of combinations:  10.0\n"
     ]
    }
   ],
   "source": [
    "# WAP to implement these formulae of permutations and combinations. \n",
    "# Number of permutations of n objects taken r at a time: p(n, r) = n!/(n-r)!\n",
    "# Number of combinations of n objects taken r at a time is: c(n, r) = n!/(r!*(n-r)!) = p(n, r)/r!\n",
    "\n",
    "\n",
    "def fact(n):\n",
    "    f = 1\n",
    "    for i in range(2, n+1):\n",
    "        f = f*i\n",
    "    return f\n",
    "\n",
    "n = int(input(\"Enter total number of items: \"))\n",
    "r = int(input(\"Enter number of selected items: \"))\n",
    "\n",
    "p = fact(n)/fact(n-r)\n",
    "c = p / fact(r)\n",
    "\n",
    "print(\"Number of permutations: \", p)\n",
    "print(\"Number of combinations: \", c)"
   ]
  },
  {
   "cell_type": "code",
   "execution_count": 9,
   "id": "4e99a984",
   "metadata": {},
   "outputs": [
    {
     "name": "stdout",
     "output_type": "stream",
     "text": [
      "Enter the number: 134\n",
      "Number is not Armstrong\n"
     ]
    }
   ],
   "source": [
    "# Write a function cubesum() that accepts an integer and returns the sum of the cubes of individual digits of that number.\n",
    "# Use this function to make functions PrintArmstrong() and isArmstrong() to print armstrong number and check whether an armstrong number.\n",
    "\n",
    "# Armstrong number 153 = 1^3+5^3+3^3\n",
    "\n",
    "def cubeSum(n):\n",
    "    s = 0\n",
    "    a2 = n\n",
    "    \n",
    "    # Find sum\n",
    "    while(a2 >= 1):\n",
    "        s += (a2%10)**3\n",
    "        a2 = int(a2/10)\n",
    "    return s\n",
    "\n",
    "def isArmstrong(n):\n",
    "    if n == cubeSum(n):\n",
    "        return True\n",
    "    else:\n",
    "        return False\n",
    "\n",
    "def printArmstrong(n):\n",
    "    if isArmstrong(n):\n",
    "        print(\"Numer is Armstrong\")\n",
    "        print(n)\n",
    "    else:\n",
    "        print(\"Number is not Armstrong\")\n",
    "\n",
    "n = int(input(\"Enter the number: \"))\n",
    "printArmstrong(n)\n",
    "\n"
   ]
  },
  {
   "cell_type": "code",
   "execution_count": 10,
   "id": "3534654d",
   "metadata": {},
   "outputs": [
    {
     "name": "stdout",
     "output_type": "stream",
     "text": [
      "[1, 4, 9, 16, 25, 36, 49, 64, 81, 100, 121, 144, 169, 196, 225, 256, 289, 324, 361, 400, 441, 484, 529, 576, 625, 676, 729, 784, 841, 900]\n"
     ]
    }
   ],
   "source": [
    "# WAP to create and print a list where the values are the squares of numbers between 1 and 30 (both included).\n",
    "\n",
    "ls = []\n",
    "for i in range(1, 31):\n",
    "    ls.append(i * i)\n",
    "print(ls)"
   ]
  },
  {
   "cell_type": "code",
   "execution_count": 11,
   "id": "ecb0b93d",
   "metadata": {},
   "outputs": [
    {
     "name": "stdout",
     "output_type": "stream",
     "text": [
      "12345678 <class 'str'>\n",
      "12345678 <class 'int'>\n"
     ]
    }
   ],
   "source": [
    "# Given a string s = \"1234\" and an integer n = 5678. Concatenate them as a single string and then convert the result \n",
    "# back to an integer. What is the final value?\n",
    "\n",
    "s = \"1234\"\n",
    "n = 5678\n",
    "\n",
    "a = s + str(n)\n",
    "print(a, type(a))\n",
    "\n",
    "b = int(a)\n",
    "print(b, type(b))"
   ]
  },
  {
   "cell_type": "code",
   "execution_count": 21,
   "id": "573ea62b",
   "metadata": {},
   "outputs": [
    {
     "name": "stdout",
     "output_type": "stream",
     "text": [
      "Enter a positive integer: 2\n",
      "Enter a positive integer: 3\n",
      "Enter a positive integer: 4\n",
      "Enter a positive integer: 5\n",
      "Enter a positive integer: 6\n",
      "Enter a positive integer: 7\n",
      "Enter a positive integer: 8\n",
      "Enter a positive integer: 9\n",
      "Enter a positive integer: 12\n",
      "Enter a positive integer: 32\n",
      "Enter a positive integer: -1\n",
      "Try Again!\n",
      "Enter a positive integer: 0\n",
      "Enter a positive integer: 0\n",
      "Enter a positive integer: 0\n",
      "Enter a positive integer: -1\n",
      "Enter a positive integer: -1\n",
      "Enter a positive integer: 234\n",
      "Positive number entered again! Stopping!\n"
     ]
    }
   ],
   "source": [
    "# WAP that repeatedly asks the user to enter a positive integer. If the user enters a negative number or zero, the program\n",
    "# should ask again until a positive integer is entered.\n",
    "\n",
    "c = 0\n",
    "while True:\n",
    "    n = input(\"Enter a positive integer: \")\n",
    "    if c >= 1 and int(n) > 0:\n",
    "        print(\"Positive number entered again! Stopping!\")\n",
    "        break\n",
    "    elif int(n) <= 0 and c < 1:\n",
    "        print(\"Try Again!\")\n",
    "        c +=1\n"
   ]
  }
 ],
 "metadata": {
  "kernelspec": {
   "display_name": "Python 3",
   "language": "python",
   "name": "python3"
  },
  "language_info": {
   "codemirror_mode": {
    "name": "ipython",
    "version": 3
   },
   "file_extension": ".py",
   "mimetype": "text/x-python",
   "name": "python",
   "nbconvert_exporter": "python",
   "pygments_lexer": "ipython3",
   "version": "3.7.3"
  }
 },
 "nbformat": 4,
 "nbformat_minor": 5
}
