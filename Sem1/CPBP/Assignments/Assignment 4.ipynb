{
 "cells": [
  {
   "cell_type": "code",
   "execution_count": 1,
   "id": "9e9cf159-a5b7-48d5-9453-9b635f59f137",
   "metadata": {},
   "outputs": [
    {
     "name": "stdout",
     "output_type": "stream",
     "text": [
      "['H', 'e', 'l', 'l', 'o', ' ', 'W', 'o', 'r', 'l', 'd', ' ', 'T', 'e', 's', 't', '!']\n"
     ]
    }
   ],
   "source": [
    "# Write a program to extract each character from a string using a regular expression.\n",
    "\n",
    "import re\n",
    "\n",
    "def extract_chars(input_string):\n",
    "    characters = re.findall(r'.', input_string)\n",
    "    return characters\n",
    "\n",
    "# Example usage\n",
    "input_string = \"Hello World Test!\"\n",
    "characters = extract_chars(input_string)\n",
    "print(characters)\n"
   ]
  },
  {
   "cell_type": "code",
   "execution_count": 56,
   "id": "b46144f6-ceaf-4529-9eb3-3a2189bee483",
   "metadata": {},
   "outputs": [
    {
     "name": "stdout",
     "output_type": "stream",
     "text": [
      "['Hello', 'World', 'Test']\n"
     ]
    }
   ],
   "source": [
    "# Write a program to extract each word from a string using a regular expression.\n",
    "\n",
    "import re\n",
    "\n",
    "def extract_each_word(input_string):\n",
    "    characters = re.findall(r'\\b\\w+', input_string)\n",
    "    return characters\n",
    "\n",
    "# Example usage\n",
    "input_string = \"Hello World Test!\"\n",
    "characters = extract_each_word(input_string)\n",
    "print(characters)"
   ]
  },
  {
   "cell_type": "code",
   "execution_count": 57,
   "id": "3fb7083e-3cc3-4a39-9ff0-0ac7d40ebfdb",
   "metadata": {},
   "outputs": [
    {
     "name": "stdout",
     "output_type": "stream",
     "text": [
      "['Hello']\n"
     ]
    }
   ],
   "source": [
    "# Write a program to print the first word of the string.\n",
    "\n",
    "def func1(input_string):\n",
    "    characters = re.findall(r'\\A\\w+', input_string)\n",
    "    return characters\n",
    "\n",
    "# Example usage\n",
    "input_string = \"Hello World Test!\"\n",
    "characters = func1(input_string)\n",
    "print(characters)"
   ]
  },
  {
   "cell_type": "code",
   "execution_count": 58,
   "id": "a6a73553-8f37-49b1-b6be-7296547a6f21",
   "metadata": {},
   "outputs": [
    {
     "name": "stdout",
     "output_type": "stream",
     "text": [
      "['Test']\n"
     ]
    }
   ],
   "source": [
    "# Write a program to print the last word of the string.\n",
    "\n",
    "def func1(input_string):\n",
    "    characters = re.findall(r'\\b\\w+\\b\\Z', input_string)\n",
    "    return characters\n",
    "\n",
    "# Example usage\n",
    "input_string = \"Hello World Test\"\n",
    "characters = func1(input_string)\n",
    "print(characters)"
   ]
  },
  {
   "cell_type": "code",
   "execution_count": 59,
   "id": "0a9533d7-d4d4-429c-a681-60e07c66bd7e",
   "metadata": {},
   "outputs": [
    {
     "name": "stdout",
     "output_type": "stream",
     "text": [
      "['He', 'll', 'o ', 'Wo', 'rl', 'd ', 'Te', 'st']\n"
     ]
    }
   ],
   "source": [
    "# Write the program to print the characters in pairs.\n",
    "\n",
    "def func1(input_string):\n",
    "    characters = re.findall(r'.{2}', input_string)\n",
    "    return characters\n",
    "\n",
    "# Example usage\n",
    "input_string = \"Hello World Test\"\n",
    "characters = func1(input_string)\n",
    "print(characters)"
   ]
  },
  {
   "cell_type": "code",
   "execution_count": 60,
   "id": "5bd30dcc-7fc7-4c74-828d-acd9ebaa4d61",
   "metadata": {},
   "outputs": [
    {
     "name": "stdout",
     "output_type": "stream",
     "text": [
      "['He', 'Wo', 'Te']\n"
     ]
    }
   ],
   "source": [
    "# Write a program to print only the first two characters of every word.\n",
    "\n",
    "def print_first_two(input_string):\n",
    "    characters = re.findall(r'\\b\\w{2}', input_string)\n",
    "    return characters\n",
    "\n",
    "# Example usage\n",
    "input_string = \"Hello World Test\"\n",
    "characters = print_first_two(input_string)\n",
    "print(characters)"
   ]
  },
  {
   "cell_type": "code",
   "execution_count": 61,
   "id": "504b736c-1136-4e28-8ef2-c0861af032cd",
   "metadata": {},
   "outputs": [
    {
     "name": "stdout",
     "output_type": "stream",
     "text": [
      "[]\n",
      "['9349089842']\n"
     ]
    }
   ],
   "source": [
    "# Write a program that validates a mobile phone number. The number should start with 7, 8, or 9 followed by 9 digits.\n",
    "\n",
    "def extract_characters(input_string):\n",
    "    characters = re.findall(r'[789]\\d{9}', input_string)\n",
    "    return characters\n",
    "\n",
    "# Example usage 1\n",
    "input_string = \"2349089842\"\n",
    "characters = extract_characters(input_string)\n",
    "print(characters)\n",
    "\n",
    "# Example usage 2\n",
    "input_string = \"9349089842\"\n",
    "characters = extract_characters(input_string)\n",
    "print(characters)"
   ]
  },
  {
   "cell_type": "code",
   "execution_count": 39,
   "id": "555c50f3-7569-4214-913d-e37d4712d72f",
   "metadata": {},
   "outputs": [
    {
     "name": "stdout",
     "output_type": "stream",
     "text": [
      "['extraordinary', 'India', 'is']\n"
     ]
    }
   ],
   "source": [
    "# Write a program that prints only those words that starts with a vowel.\n",
    "\n",
    "def extract_characters(input_string):\n",
    "    characters = re.findall(r'\\b[aeiouAEIOU]\\w*', input_string)\n",
    "    return characters\n",
    "\n",
    "# Example usage \n",
    "input_string = \"Hello extraordinary World. India is the best country!\"\n",
    "characters = extract_characters(input_string)\n",
    "print(characters)\n"
   ]
  },
  {
   "cell_type": "code",
   "execution_count": 62,
   "id": "86e47895-de38-4261-9ea8-6ef38797b2a0",
   "metadata": {},
   "outputs": [
    {
     "name": "stdout",
     "output_type": "stream",
     "text": [
      "<re.Match object; span=(0, 3), match='H9-'>\n",
      "None\n",
      "None\n",
      "None\n"
     ]
    }
   ],
   "source": [
    "# Write a program that uses a regular expression to match strings which starts with an upper-case character followed by a digit and a ‘- ‘.\n",
    "\n",
    "def extract_characters(input_string):\n",
    "    characters = re.match(r'^[A-Z]\\d[-]', input_string)\n",
    "    return characters\n",
    "\n",
    "# Example usage 1\n",
    "input_string = \"H9-iahsfufo\"\n",
    "characters = extract_characters(input_string)\n",
    "print(characters)\n",
    "\n",
    "# Example usage 2\n",
    "input_string = \"h9-iahsfufo\"\n",
    "characters = extract_characters(input_string)\n",
    "print(characters)\n",
    "\n",
    "# Example usage 3\n",
    "input_string = \"He-iahsfufo\"\n",
    "characters = extract_characters(input_string)\n",
    "print(characters)\n",
    "\n",
    "# Example usage 4\n",
    "input_string = \"H9+iahsfufo\"\n",
    "characters = extract_characters(input_string)\n",
    "print(characters)"
   ]
  },
  {
   "cell_type": "code",
   "execution_count": 64,
   "id": "16b576eb-3d22-47ed-b7d0-6d922416a47f",
   "metadata": {},
   "outputs": [
    {
     "name": "stdout",
     "output_type": "stream",
     "text": [
      "['PP9-iah']\n"
     ]
    }
   ],
   "source": [
    "# Write a program to extract the first n characters of a string.\n",
    "\n",
    "def extract_characters(input_string, a):\n",
    "    characters = re.findall(r'^.{%s}' % a, input_string)\n",
    "    return characters\n",
    "\n",
    "# Example usage 1\n",
    "input_string = \"PP9-iahsfufo\"\n",
    "n = 7\n",
    "characters = extract_characters(input_string, n)\n",
    "print(characters)"
   ]
  }
 ],
 "metadata": {
  "kernelspec": {
   "display_name": "Python 3 (ipykernel)",
   "language": "python",
   "name": "python3"
  },
  "language_info": {
   "codemirror_mode": {
    "name": "ipython",
    "version": 3
   },
   "file_extension": ".py",
   "mimetype": "text/x-python",
   "name": "python",
   "nbconvert_exporter": "python",
   "pygments_lexer": "ipython3",
   "version": "3.12.5"
  }
 },
 "nbformat": 4,
 "nbformat_minor": 5
}
