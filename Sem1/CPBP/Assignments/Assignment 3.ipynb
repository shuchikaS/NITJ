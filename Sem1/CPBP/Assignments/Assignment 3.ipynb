{
 "cells": [
  {
   "cell_type": "code",
   "execution_count": 22,
   "id": "0ad6c370",
   "metadata": {},
   "outputs": [
    {
     "name": "stdout",
     "output_type": "stream",
     "text": [
      "Enter the user's name: John Doe\n",
      "Enter the pan card number: 1234567890\n",
      "10\n",
      "\n",
      "----------Details of User-----------\n",
      "\n",
      "Name of the user:  John Doe\n",
      "Pan Card number:  1234567890\n"
     ]
    }
   ],
   "source": [
    "# Write a program that takes the user's name and pan card number as input. Validate the information using isX function and print the details.\n",
    "\n",
    "# This function checks if length of pan card number is 10\n",
    "def check_pan(pan_num):\n",
    "    l = 1\n",
    "    while(int(pan_num/10) > 0):\n",
    "        l += 1\n",
    "        pan_num = int(pan_num/10)\n",
    "    print(l)\n",
    "    return l\n",
    "\n",
    "def isX(name, pan_num):\n",
    "    if check_pan(pan_num) != 10:\n",
    "        print(\"Invalid Pan Number\")\n",
    "        return\n",
    "    print(\"\\n----------Details of User-----------\\n\")\n",
    "    print(\"Name of the user: \", name)\n",
    "    print(\"Pan Card number: \", pan_num)\n",
    "\n",
    "name = input(\"Enter the user's name: \")\n",
    "pan_num = int(input(\"Enter the pan card number: \"))\n",
    "\n",
    "isX(name, pan_num)"
   ]
  },
  {
   "cell_type": "code",
   "execution_count": 28,
   "id": "32782ba5",
   "metadata": {},
   "outputs": [
    {
     "name": "stdout",
     "output_type": "stream",
     "text": [
      "Abecedarian series: ['loop', 'almost', 'ace', 'cry', 'biopsy']\n"
     ]
    }
   ],
   "source": [
    "# Write a program to generate an Abecedarian series. (a series in which elements appears in an alphabetical order)\n",
    "\n",
    "def is_abecedarian(word):\n",
    "    return list(word) == sorted(word)\n",
    "\n",
    "def generate_abecedarian_series(words):\n",
    "    l = []\n",
    "    for i in words:\n",
    "        if is_abecedarian(i):\n",
    "            l.append(i)\n",
    "    return l\n",
    "\n",
    "words = [\"cbad\", \"loop\", \"almost\", \"bag\", \"ace\", \"cry\", \"cancer\", \"biopsy\"]\n",
    "abecedarian_words = generate_abecedarian_series(words)\n",
    "print(\"Abecedarian series:\", abecedarian_words)\n"
   ]
  },
  {
   "cell_type": "code",
   "execution_count": 3,
   "id": "ae3470af",
   "metadata": {},
   "outputs": [
    {
     "name": "stdout",
     "output_type": "stream",
     "text": [
      "Enter the string: Adam is a good boy\n",
      "Enter the character to be searched and counted in the string: o\n",
      "No of occurrences of \"o\" in the given string \"Adam is a good boy\" is: 3\n"
     ]
    }
   ],
   "source": [
    "# Write a program that counts the occurrences of a character in a string. Do not use built in functions. \n",
    "\n",
    "str1 = input(\"Enter the string: \")\n",
    "ch = input(\"Enter the character to be searched and counted in the string: \")\n",
    "c = 0 # Stores the count of given character in the string\n",
    "for i in str1:\n",
    "    if i == ch:\n",
    "        c +=1\n",
    "print(f'No of occurrences of \"{ch}\" in the given string \"{str1}\" is: {c}')"
   ]
  },
  {
   "cell_type": "code",
   "execution_count": 6,
   "id": "95e9465e",
   "metadata": {},
   "outputs": [
    {
     "name": "stdout",
     "output_type": "stream",
     "text": [
      "Enter the string: The judge sentenced her to three months in prison for shoplifting\n",
      "Word with longest length in input string is: shoplifting\n"
     ]
    }
   ],
   "source": [
    "# Write a function that takes a list of words and returns the length of the longest one.\n",
    "str1 = input(\"Enter the string: \")\n",
    "ls = str1.split(\" \")\n",
    "maxlen = 0\n",
    "for i in ls:\n",
    "    s = len(i)\n",
    "    if s > maxlen:\n",
    "        maxlen = s\n",
    "        word = i\n",
    "print(f'Word with longest length in input string is: {word}')"
   ]
  },
  {
   "cell_type": "code",
   "execution_count": 11,
   "id": "ff3db35c",
   "metadata": {},
   "outputs": [
    {
     "name": "stdout",
     "output_type": "stream",
     "text": [
      "Length of input string:  64\n",
      "First half of half of the given string of len  64 is:  The judge senten\n"
     ]
    }
   ],
   "source": [
    "# Write a function to get the first half of half of a specified string of even length.\n",
    "str1 = \"The judge sentenced her to four months in prison for shoplifting\"\n",
    "a = len(str1)\n",
    "print(\"Length of input string: \", a)\n",
    "b = int(a/4)\n",
    "\n",
    "print(\"First half of half of the given string of len \", a, \"is: \", str1[0:b])"
   ]
  },
  {
   "cell_type": "code",
   "execution_count": 13,
   "id": "f2fbf560",
   "metadata": {},
   "outputs": [
    {
     "name": "stdout",
     "output_type": "stream",
     "text": [
      "Enter first string: Happy\n",
      "Enter second string: World\n",
      "Combined string separated by space:  Happy World\n",
      "Combined string separated by space after swapping the first two characters of each string:  Woppy Harld\n"
     ]
    }
   ],
   "source": [
    "# Write a program to get a single string from two given strings separated by a space and swap the first two characters of each string.\n",
    "\n",
    "a = input(\"Enter first string: \")\n",
    "b = input(\"Enter second string: \")\n",
    "\n",
    "c = a + \" \" + b\n",
    "print(\"Combined string separated by space: \", c)\n",
    "\n",
    "# Since strings are immutable, new string has to be created to make the changes\n",
    "a_new = b[0:2] + a[2:]\n",
    "b_new = a[0:2] + b[2:]\n",
    "d = a_new + \" \" + b_new\n",
    "print(\"Combined string separated by space after swapping the first two characters of each string: \", d)\n"
   ]
  },
  {
   "cell_type": "code",
   "execution_count": 14,
   "id": "62fba2fd",
   "metadata": {},
   "outputs": [
    {
     "name": "stdout",
     "output_type": "stream",
     "text": [
      "Enter the floating point number: 1387.12387\n",
      "Input given:  1387.12387\n",
      "Same floating point number with no decimal places:  1387\n"
     ]
    }
   ],
   "source": [
    "# Write a program to print floating point numbers with no decimal places.\n",
    "a = float(input(\"Enter the floating point number: \"))\n",
    "print(\"Input given: \", a)\n",
    "\n",
    "print(\"Same floating point number with no decimal places: \", int(a))\n"
   ]
  },
  {
   "cell_type": "code",
   "execution_count": null,
   "id": "0bcc46e6",
   "metadata": {},
   "outputs": [],
   "source": []
  }
 ],
 "metadata": {
  "kernelspec": {
   "display_name": "Python 3",
   "language": "python",
   "name": "python3"
  },
  "language_info": {
   "codemirror_mode": {
    "name": "ipython",
    "version": 3
   },
   "file_extension": ".py",
   "mimetype": "text/x-python",
   "name": "python",
   "nbconvert_exporter": "python",
   "pygments_lexer": "ipython3",
   "version": "3.7.3"
  }
 },
 "nbformat": 4,
 "nbformat_minor": 5
}
