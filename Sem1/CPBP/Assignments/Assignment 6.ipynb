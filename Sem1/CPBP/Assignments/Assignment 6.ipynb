{
 "cells": [
  {
   "cell_type": "code",
   "execution_count": 6,
   "id": "1a0a5786-1f8f-4e36-a448-8e6f0af85649",
   "metadata": {},
   "outputs": [
    {
     "name": "stdin",
     "output_type": "stream",
     "text": [
      "Enter the numerator:  6\n",
      "Enter the denominator:  3\n"
     ]
    },
    {
     "name": "stdout",
     "output_type": "stream",
     "text": [
      "Simplified form of fraction  6 / 3 is:  2.0\n"
     ]
    }
   ],
   "source": [
    "# Write a program that has a class Fraction with attributes numerator and denominator. \n",
    "# Enter the values of the attributes and print the fraction in simplified form.\n",
    "\n",
    "class Fraction:\n",
    "    def __init__(self, num, deno):\n",
    "        if deno == 0:\n",
    "            raise ValueError(\"Denominator cannot be zero.\")\n",
    "        self.num = num\n",
    "        self.deno = deno\n",
    "    def frac(self):\n",
    "        print(\"Simplified form of fraction \", self.num, \"/\", self.deno, \"is: \", self.num/self.deno)\n",
    "\n",
    "n = int(input(\"Enter the numerator: \"))\n",
    "m = int(input(\"Enter the denominator: \"))\n",
    "f = Fraction(n, m)\n",
    "f.frac()"
   ]
  },
  {
   "cell_type": "code",
   "execution_count": 13,
   "id": "07604347-933f-454a-9da4-c45a5f184f54",
   "metadata": {},
   "outputs": [
    {
     "name": "stdout",
     "output_type": "stream",
     "text": [
      "\n",
      "------------------------------\n",
      "\n"
     ]
    },
    {
     "name": "stdin",
     "output_type": "stream",
     "text": [
      "Enter product code:  P1\n",
      "Enter product price:  100\n"
     ]
    },
    {
     "name": "stdout",
     "output_type": "stream",
     "text": [
      "1\n",
      "\n",
      "------------------------------\n",
      "\n"
     ]
    },
    {
     "name": "stdin",
     "output_type": "stream",
     "text": [
      "Enter product code:  P2\n",
      "Enter product price:  200\n"
     ]
    },
    {
     "name": "stdout",
     "output_type": "stream",
     "text": [
      "2\n",
      "\n",
      "------------------------------\n",
      "\n"
     ]
    },
    {
     "name": "stdin",
     "output_type": "stream",
     "text": [
      "Enter product code:  P3\n",
      "Enter product price:  300\n"
     ]
    },
    {
     "name": "stdout",
     "output_type": "stream",
     "text": [
      "3\n",
      "\n",
      "------------------------------\n",
      "\n"
     ]
    },
    {
     "name": "stdin",
     "output_type": "stream",
     "text": [
      "Enter product code:  P4\n",
      "Enter product price:  54\n"
     ]
    },
    {
     "name": "stdout",
     "output_type": "stream",
     "text": [
      "4\n",
      "\n",
      "\n",
      "------------------------------\n",
      "\n",
      "\n",
      "-----Menu of all products-----\n",
      "\n",
      "  Product Code       Price     \n",
      "       P1             100      \n",
      "       P2             200      \n",
      "       P3             300      \n",
      "       P4              54      \n",
      "\n",
      "------------------------------\n",
      "\n",
      "\n",
      "Please enter the required quantities below! \n"
     ]
    },
    {
     "name": "stdin",
     "output_type": "stream",
     "text": [
      "Enter quantity for product code P1:  1\n",
      "Enter quantity for product code P2:  2\n",
      "Enter quantity for product code P3:  4\n",
      "Enter quantity for product code P4:  19\n"
     ]
    },
    {
     "name": "stdout",
     "output_type": "stream",
     "text": [
      "\n",
      "Generating bill....\n",
      "Total Amount is:  2726\n"
     ]
    }
   ],
   "source": [
    "# Write a program that has a class store which keeps record of code and price of each product.\n",
    "# Display a menu of all products to the user and prompt him to enter the quantity of each\n",
    "# item required. Generate a bill and display the total amount.\n",
    "\n",
    "class Product:\n",
    "    def __init__(self, product_code, price):\n",
    "        self.product_code = product_code\n",
    "        self.price = price\n",
    "class Store:\n",
    "    def __init__(self):\n",
    "        self.products = []\n",
    "        self.quantity = []\n",
    "    def add_item(self):\n",
    "        print(\"\\n------------------------------\\n\")\n",
    "        pc = input(\"Enter product code: \")\n",
    "        p = int(input(\"Enter product price: \"))\n",
    "        prod = Product(pc, p)\n",
    "        self.products.append(prod)\n",
    "        print(len(self.products))\n",
    "    def generate_bill(self):\n",
    "        print()\n",
    "        print(\"\\n------------------------------\\n\")\n",
    "        print(\"\\n-----Menu of all products-----\\n\")\n",
    "        print(\"Product Code\".center(15), \"Price\".center(15))\n",
    "        for i in self.products:\n",
    "            print (i.product_code.center(15), str(i.price).center(15))\n",
    "        print(\"\\n------------------------------\\n\")\n",
    "        print()\n",
    "        print(\"Please enter the required quantities below! \")\n",
    "        for i in self.products:\n",
    "            inp = int(input(\"Enter quantity for product code \" + i.product_code + \": \"))\n",
    "            self.quantity.append(inp)\n",
    "        print()\n",
    "        print(\"Generating bill....\")\n",
    "        tot = 0\n",
    "        for i in range(len(self.products)):\n",
    "            tot += self.products[i].price * self.quantity[i]\n",
    "        print(\"Total Amount is: \", tot)\n",
    "\n",
    "S = Store()\n",
    "S.add_item()\n",
    "S.add_item()\n",
    "S.add_item()\n",
    "S.add_item()\n",
    "S.generate_bill()"
   ]
  },
  {
   "cell_type": "code",
   "execution_count": 18,
   "id": "12ca991e-d6c8-4f59-b3c5-ba62c33a024a",
   "metadata": {},
   "outputs": [
    {
     "name": "stdout",
     "output_type": "stream",
     "text": [
      "\n",
      "╒═══════════════════════╤═════════╕\n",
      "│ Category              │   Count │\n",
      "╞═══════════════════════╪═════════╡\n",
      "│ Upper Case characters │       5 │\n",
      "├───────────────────────┼─────────┤\n",
      "│ Lower Case Characters │      37 │\n",
      "├───────────────────────┼─────────┤\n",
      "│ Digits                │       3 │\n",
      "├───────────────────────┼─────────┤\n",
      "│ Vowels                │      18 │\n",
      "├───────────────────────┼─────────┤\n",
      "│ Consonants            │      24 │\n",
      "├───────────────────────┼─────────┤\n",
      "│ Spaces                │      12 │\n",
      "├───────────────────────┼─────────┤\n",
      "│ Newline               │       3 │\n",
      "╘═══════════════════════╧═════════╛\n"
     ]
    }
   ],
   "source": [
    "# Write a class that stores a string and all its status details such as number of uppercase\n",
    "# characters, vowels, consonants, spaces etc.\n",
    "\n",
    "from tabulate import tabulate\n",
    "\n",
    "class StringDetails:\n",
    "    def __init__(self, s):\n",
    "        self.given_string = s\n",
    "        self.uppercasechar = 0\n",
    "        self.lowercasechar = 0\n",
    "        self.digit_count = 0\n",
    "        self.vowels = 0\n",
    "        self.consonants = 0\n",
    "        self.spaces = 0\n",
    "        self.newln = 0\n",
    "    def calc(self):\n",
    "        for i in self.given_string:\n",
    "            if i.isupper():\n",
    "                self.uppercasechar += 1\n",
    "            if i.islower():\n",
    "                self.lowercasechar += 1\n",
    "            if i in \"aeiouAEIOU\":\n",
    "                self.vowels += 1\n",
    "            if i not in \"aeiouAEIOU\" and i.isalpha():\n",
    "                self.consonants += 1\n",
    "            if i.isdigit():\n",
    "                self.digit_count += 1\n",
    "            if i.isspace():\n",
    "                self.spaces += 1\n",
    "            if i == '\\n':\n",
    "                self.newln += 1\n",
    "    def print_details(self):\n",
    "        print()\n",
    "        table = [\n",
    "            ['Category', 'Count'],\n",
    "            ['Upper Case characters', self.uppercasechar],\n",
    "            ['Lower Case Characters', self.lowercasechar],\n",
    "            ['Digits', self.digit_count],\n",
    "            ['Vowels', self.vowels],\n",
    "            ['Consonants', self.consonants],\n",
    "            ['Spaces', self.spaces],\n",
    "            ['Newline', self.newln],\n",
    "        ]\n",
    "        print(tabulate(table, headers='firstrow', tablefmt='fancy_grid'))\n",
    "\n",
    "s = '''Hello World 123!\n",
    "It is a beautiful world.\n",
    "His name is Jake.\n",
    "'''\n",
    "strobj = StringDetails(s)\n",
    "strobj.calc()\n",
    "strobj.print_details()"
   ]
  },
  {
   "cell_type": "code",
   "execution_count": 21,
   "id": "b1ad67d5-0004-458b-94f1-ef9a686dfa65",
   "metadata": {},
   "outputs": [
    {
     "name": "stdout",
     "output_type": "stream",
     "text": [
      "Faculty Details:\n",
      "Name: Dr. John Doe\n",
      "Age: 45\n",
      "Faculty ID: F12345\n",
      "Department: Computer Science\n",
      "Publications:\n",
      "1. AI in Modern Healthcare (2020)\n",
      "2. Deep Learning Techniques (2022)\n"
     ]
    }
   ],
   "source": [
    "# Write a program that has a class person. Inherit a class Faculty from person which also has class Publications.\n",
    "\n",
    "class Person:\n",
    "    def __init__(self, name, age):\n",
    "        self.name = name\n",
    "        self.age = age\n",
    "    def display_person_details(self):\n",
    "        print(f\"Name: {self.name}\")\n",
    "        print(f\"Age: {self.age}\")\n",
    "\n",
    "class Publications:\n",
    "    def __init__(self):\n",
    "        self.publications_list = []\n",
    "    def add_publication(self, title, year):\n",
    "        self.publications_list.append({\"title\": title, \"year\": year})\n",
    "    def display_publications(self):\n",
    "        if self.publications_list:\n",
    "            print(\"Publications:\")\n",
    "            for idx, pub in enumerate(self.publications_list, start=1):\n",
    "                print(f\"{idx}. {pub['title']} ({pub['year']})\")\n",
    "        else:\n",
    "            print(\"No publications added yet.\")\n",
    "\n",
    "\n",
    "class Faculty(Person):\n",
    "    def __init__(self, name, age, faculty_id, department):\n",
    "        super().__init__(name, age)\n",
    "        self.faculty_id = faculty_id\n",
    "        self.department = department\n",
    "        self.publications = Publications()\n",
    "\n",
    "    def display_faculty_details(self):\n",
    "        self.display_person_details()\n",
    "        print(f\"Faculty ID: {self.faculty_id}\")\n",
    "        print(f\"Department: {self.department}\")\n",
    "        self.publications.display_publications()\n",
    "\n",
    "\n",
    "# Example usage\n",
    "if __name__ == \"__main__\":\n",
    "    # Creating a Faculty object\n",
    "    faculty = Faculty(name=\"Dr. John Doe\", age=45, faculty_id=\"F12345\", department=\"Computer Science\")\n",
    "\n",
    "    # Adding publications\n",
    "    faculty.publications.add_publication(\"AI in Modern Healthcare\", 2020)\n",
    "    faculty.publications.add_publication(\"Deep Learning Techniques\", 2022)\n",
    "\n",
    "    # Displaying faculty details along with publications\n",
    "    print(\"Faculty Details:\")\n",
    "    faculty.display_faculty_details()"
   ]
  },
  {
   "cell_type": "code",
   "execution_count": 22,
   "id": "77ed9aa1-dad3-41b3-822a-f2863f10b68e",
   "metadata": {},
   "outputs": [
    {
     "name": "stdout",
     "output_type": "stream",
     "text": [
      "Original Date: 2024-11-23\n",
      "New Date after adding 10 days: 2024-12-03\n"
     ]
    }
   ],
   "source": [
    "# Write a program that overloads the + operator so that it can add a specified number of days to a given date.\n",
    "\n",
    "from datetime import date, timedelta\n",
    "\n",
    "class CustomDate:\n",
    "    def __init__(self, year, month, day):\n",
    "        self.date = date(year, month, day)\n",
    "\n",
    "    def __str__(self):\n",
    "        return self.date.strftime(\"%Y-%m-%d\") \n",
    "\n",
    "    def __add__(self, days):\n",
    "        if isinstance(days, int):  # Check if the operand is an integer\n",
    "            new_date = self.date + timedelta(days=days)\n",
    "            return CustomDate(new_date.year, new_date.month, new_date.day)\n",
    "        raise TypeError(\"Operand must be an integer representing the number of days to add.\")\n",
    "\n",
    "    def __radd__(self, days):\n",
    "        # Handles cases where the integer is on the left of the + operator\n",
    "        return self.__add__(days)\n",
    "\n",
    "\n",
    "if __name__ == \"__main__\":\n",
    "    custom_date = CustomDate(2024, 11, 23)\n",
    "\n",
    "    new_date = custom_date + 10\n",
    "    print(f\"Original Date: {custom_date}\")\n",
    "    print(f\"New Date after adding 10 days: {new_date}\")\n"
   ]
  },
  {
   "cell_type": "code",
   "execution_count": 23,
   "id": "71f121af-620c-4195-9ae2-0cf5062dd386",
   "metadata": {},
   "outputs": [
    {
     "name": "stdout",
     "output_type": "stream",
     "text": [
      "Original Distances:\n",
      "d1: 5 km 750 m\n",
      "d2: 2 km 900 m\n",
      "\n",
      "After subtraction (d1 -= d2):\n",
      "d1: 2 km 850 m\n"
     ]
    }
   ],
   "source": [
    "# Write a program to overload -= operator to subtract two Distance objects\n",
    "\n",
    "class Distance:\n",
    "    def __init__(self, kilometers=0, meters=0):\n",
    "        self.kilometers = kilometers\n",
    "        self.meters = meters\n",
    "        self._normalize()\n",
    "\n",
    "    def _normalize(self):\n",
    "        \"\"\"Ensure meters are always less than 1000 and adjust kilometers accordingly.\"\"\"\n",
    "        if self.meters >= 1000:\n",
    "            self.kilometers += self.meters // 1000\n",
    "            self.meters %= 1000\n",
    "        elif self.meters < 0:\n",
    "            extra_km = (-self.meters // 1000) + 1\n",
    "            self.kilometers -= extra_km\n",
    "            self.meters += extra_km * 1000\n",
    "\n",
    "    def __isub__(self, other):\n",
    "        if isinstance(other, Distance):\n",
    "            self.kilometers -= other.kilometers\n",
    "            self.meters -= other.meters\n",
    "            self._normalize()\n",
    "            return self\n",
    "        raise TypeError(\"Operand must be an instance of Distance\")\n",
    "\n",
    "    def __str__(self):\n",
    "        return f\"{self.kilometers} km {self.meters} m\"\n",
    "\n",
    "\n",
    "# Example Usage\n",
    "if __name__ == \"__main__\":\n",
    "    d1 = Distance(5, 750)  # 5 km 750 m\n",
    "    d2 = Distance(2, 900)  # 2 km 900 m\n",
    "\n",
    "    print(\"Original Distances:\")\n",
    "    print(f\"d1: {d1}\")\n",
    "    print(f\"d2: {d2}\")\n",
    "\n",
    "    # Subtract d2 from d1 using -= operator\n",
    "    d1 -= d2\n",
    "\n",
    "    print(\"\\nAfter subtraction (d1 -= d2):\")\n",
    "    print(f\"d1: {d1}\")\n"
   ]
  }
 ],
 "metadata": {
  "kernelspec": {
   "display_name": "Python 3 (ipykernel)",
   "language": "python",
   "name": "python3"
  },
  "language_info": {
   "codemirror_mode": {
    "name": "ipython",
    "version": 3
   },
   "file_extension": ".py",
   "mimetype": "text/x-python",
   "name": "python",
   "nbconvert_exporter": "python",
   "pygments_lexer": "ipython3",
   "version": "3.12.5"
  }
 },
 "nbformat": 4,
 "nbformat_minor": 5
}
