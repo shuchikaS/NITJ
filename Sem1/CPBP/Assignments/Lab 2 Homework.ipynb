{
 "cells": [
  {
   "cell_type": "code",
   "execution_count": 3,
   "id": "3e7f485e",
   "metadata": {},
   "outputs": [
    {
     "name": "stdout",
     "output_type": "stream",
     "text": [
      "Enter the input: 891289\n",
      "\n",
      "*** USING IN-BUILT LIBRARIES ***\n",
      "It's a number\n",
      "\n",
      "*** USING CODE ***\n",
      "It's a number\n"
     ]
    }
   ],
   "source": [
    "# WAP to take input from a user and then check whether it is a number or a character. \n",
    "# If it is a char, determine whether it is Upper case or lower case\n",
    "\n",
    "inp = input(\"Enter the input: \")\n",
    "\n",
    "\n",
    "''' USING IN-BUILT LIBRARIES '''\n",
    "print()\n",
    "print(\"*** USING IN-BUILT LIBRARIES ***\")\n",
    "if (inp.isalpha()):\n",
    "    print(\"It's a Char\")\n",
    "    if inp.isupper():\n",
    "        print(\"and in upper case\")\n",
    "    elif inp.islower():\n",
    "        print(\"and in lower case\")\n",
    "    else:\n",
    "        print(\"and has both cases\")\n",
    "elif(inp.isnumeric()):\n",
    "    print(\"It's a number\")\n",
    "else:\n",
    "    print(\"Invalid Input\")\n",
    "    \n",
    "\n",
    "''' ALTERNATE APPROACH '''\n",
    "print()\n",
    "print(\"*** USING CODE ***\")\n",
    "l1 = [0,0,0] #It will have 3 elements. First is No. of upper case char, second is no. of lower case chars, third is no. of integers\n",
    "len1 = len(inp)\n",
    "flag = 0\n",
    "for i in inp:\n",
    "    in_ascii = ord(i)\n",
    "    if in_ascii in range(65,91) or in_ascii in range(97, 123):\n",
    "        flag = 1\n",
    "        if in_ascii in range(65,91):\n",
    "            l1[0] +=1\n",
    "        else:\n",
    "            l1[1] +=1\n",
    "    elif in_ascii in range(48, 58):\n",
    "        flag = 2\n",
    "        l1[2] +=1\n",
    "        \n",
    "        \n",
    "if flag == 1:\n",
    "    if l1[0] == len1:\n",
    "        print(\"It's a Char\")\n",
    "        print(\"and in upper case\")\n",
    "    elif l1[1] == len1:\n",
    "        print(\"It's a Char\")\n",
    "        print(\"and in lower case\")\n",
    "    elif l1[0]+l1[1] == len1:\n",
    "        print(\"It's a Char\")\n",
    "        print(\"and has both cases\")\n",
    "    else:\n",
    "        print(\"Invalid Input\")\n",
    "elif flag == 2:\n",
    "    if l1[2] == len1:\n",
    "        print(\"It's a number\")\n",
    "    else:\n",
    "        print(\"Invalid Input\")\n",
    "else:\n",
    "        print(\"Invalid Input\")"
   ]
  }
 ],
 "metadata": {
  "kernelspec": {
   "display_name": "Python 3",
   "language": "python",
   "name": "python3"
  },
  "language_info": {
   "codemirror_mode": {
    "name": "ipython",
    "version": 3
   },
   "file_extension": ".py",
   "mimetype": "text/x-python",
   "name": "python",
   "nbconvert_exporter": "python",
   "pygments_lexer": "ipython3",
   "version": "3.7.3"
  }
 },
 "nbformat": 4,
 "nbformat_minor": 5
}
