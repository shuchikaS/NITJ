{
 "cells": [
  {
   "cell_type": "code",
   "execution_count": 1,
   "id": "37e149b1",
   "metadata": {},
   "outputs": [],
   "source": [
    "''' \n",
    "LAB 1 Questions: \n",
    "    WAP to calculate area of a circle \n",
    "    WAP to print the digit at one's place of a number\n",
    "    WAP to calc avg of 2 nos and print their deviation\n",
    "    WAP to convert a floating pt number into the corr integer\n",
    "    WAP to convert an int to corresponding floating point\n",
    "    WAP to convert degree Fahrenheit to Celcius\n",
    "'''"
   ]
  },
  {
   "cell_type": "code",
   "execution_count": 10,
   "id": "c63cdc78",
   "metadata": {},
   "outputs": [
    {
     "name": "stdout",
     "output_type": "stream",
     "text": [
      "Enter the radius of circle: 7\n",
      "Area of circle with radius 7 is: 153.93804002589985\n"
     ]
    }
   ],
   "source": [
    "# PROGRAM 1 - WAP to calculate area of a circle \n",
    "import math\n",
    "radius = int(input(\"Enter the radius of circle: \"))\n",
    "area = math.pi * math.pow(radius,2)\n",
    "print(f'Area of circle with radius {radius} is: {area}')"
   ]
  },
  {
   "cell_type": "code",
   "execution_count": 13,
   "id": "eafbfc91",
   "metadata": {},
   "outputs": [
    {
     "name": "stdout",
     "output_type": "stream",
     "text": [
      "*** Program to print the digit at one's place of a number ***\n",
      "Enter the input digit: 59\n",
      "9\n"
     ]
    }
   ],
   "source": [
    "# PROGRAM 2 - WAP to print the digit at one's place of a number\n",
    "\n",
    "print(\"*** Program to print the digit at one's place of a number ***\")\n",
    "input_dig = int(input(\"Enter the input digit: \"))\n",
    "output_dig = input_dig % 10\n",
    "\n",
    "print(output_dig)"
   ]
  },
  {
   "cell_type": "code",
   "execution_count": 23,
   "id": "c3fa6f5d",
   "metadata": {},
   "outputs": [
    {
     "name": "stdout",
     "output_type": "stream",
     "text": [
      "*** Program to calculate average of 2 nos and print their deviation ***\n",
      "Enter the 1st input digit: 27\n",
      "Enter the 2nd input digit: 129\n",
      "Average of 27 and 129 is: 78.0\n",
      "Standard deviation calculated by code = 72.12489168102785\n",
      "Standard deviation calculated by in-built function =  72.12489168102785\n"
     ]
    }
   ],
   "source": [
    "# PROGRAM 3 - WAP to calculate average of 2 nos and print their deviation\n",
    "\n",
    "import math\n",
    "import statistics\n",
    "\n",
    "print(\"*** Program to calculate average of 2 nos and print their deviation ***\")\n",
    "input1 = int(input(\"Enter the 1st input digit: \"))\n",
    "input2 = int(input(\"Enter the 2nd input digit: \"))\n",
    "\n",
    "# Average of inputs\n",
    "avg = (input1 + input2) / 2\n",
    "print(f'Average of {input1} and {input2} is: {avg}')\n",
    "\n",
    "# Deviation of input1 from mean\n",
    "n = 2 # Number of inputs\n",
    "s = 0 # Sum of squares of difference from mean\n",
    "list1 = [input1, input2]\n",
    "for i in list1:\n",
    "    s += math.pow((i - avg), 2)\n",
    "\n",
    "s /= (n-1)\n",
    "s = math.sqrt(s)\n",
    "print(f'Standard deviation calculated by code = {s}')\n",
    "print(\"Standard deviation calculated by in-built function = \", statistics.stdev(list1))"
   ]
  },
  {
   "cell_type": "code",
   "execution_count": 24,
   "id": "7c097bb1",
   "metadata": {},
   "outputs": [
    {
     "name": "stdout",
     "output_type": "stream",
     "text": [
      "*** Program to convert a floating pt number into the corresponding integer ***\n",
      "Enter the input floating number: 23.0134\n",
      "Value of the input after conversion to int:  23\n"
     ]
    }
   ],
   "source": [
    "# PROGRAM 4 - WAP to convert a floating pt number into the corr integer\n",
    "\n",
    "print(\"*** Program to convert a floating pt number into the corresponding integer ***\")\n",
    "input1 = float(input(\"Enter the input floating number: \"))\n",
    "\n",
    "print(\"Value of the input after conversion to int: \", int(input1))"
   ]
  },
  {
   "cell_type": "code",
   "execution_count": 25,
   "id": "4576e34f",
   "metadata": {},
   "outputs": [
    {
     "name": "stdout",
     "output_type": "stream",
     "text": [
      "*** Program to convert an int to corresponding floating point ***\n",
      "Enter the input floating number: 23\n",
      "Value of the input after conversion to int:  23.0\n"
     ]
    }
   ],
   "source": [
    "# PROGRAM 5 - WAP to convert an int to corresponding floating point\n",
    "\n",
    "print(\"*** Program to convert an int to corresponding floating point ***\")\n",
    "input1 = int(input(\"Enter the input floating number: \"))\n",
    "\n",
    "print(\"Value of the input after conversion to int: \", float(input1))"
   ]
  },
  {
   "cell_type": "code",
   "execution_count": 28,
   "id": "089e8544",
   "metadata": {},
   "outputs": [
    {
     "name": "stdout",
     "output_type": "stream",
     "text": [
      "*** Program to convert degree Fahrenheit to degree Celcius ***\n",
      "Enter the temperature in Fahrenheit: 0\n",
      "Temperature 0.0 °F is equal to -17.77777777777778 °C\n"
     ]
    }
   ],
   "source": [
    "# PROGRAM 6 - WAP to convert degree Fahrenheit to Celcius\n",
    "\n",
    "print(\"*** Program to convert degree Fahrenheit to degree Celcius ***\")\n",
    "fah = float(input(\"Enter the temperature in Fahrenheit: \"))\n",
    "cel = (fah - 32) * 5 / 9\n",
    "\n",
    "print(f'Temperature {fah} °F is equal to {cel} °C')"
   ]
  }
 ],
 "metadata": {
  "kernelspec": {
   "display_name": "Python 3",
   "language": "python",
   "name": "python3"
  },
  "language_info": {
   "codemirror_mode": {
    "name": "ipython",
    "version": 3
   },
   "file_extension": ".py",
   "mimetype": "text/x-python",
   "name": "python",
   "nbconvert_exporter": "python",
   "pygments_lexer": "ipython3",
   "version": "3.7.3"
  }
 },
 "nbformat": 4,
 "nbformat_minor": 5
}