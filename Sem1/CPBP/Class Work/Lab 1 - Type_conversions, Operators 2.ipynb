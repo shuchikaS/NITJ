{
 "cells": [
  {
   "cell_type": "code",
   "execution_count": 1,
   "id": "9e1920cc",
   "metadata": {},
   "outputs": [
    {
     "name": "stdout",
     "output_type": "stream",
     "text": [
      "52\n",
      "<class 'int'>\n"
     ]
    }
   ],
   "source": [
    "a = '4'\n",
    "b = ord(a)\n",
    "print(b)\n",
    "print(type(b))"
   ]
  },
  {
   "cell_type": "code",
   "execution_count": 2,
   "id": "e9ef5549",
   "metadata": {},
   "outputs": [
    {
     "name": "stdout",
     "output_type": "stream",
     "text": [
      "0x38\n",
      "<class 'str'>\n"
     ]
    }
   ],
   "source": [
    "b = hex(56)\n",
    "print(b)\n",
    "print(type(b))"
   ]
  },
  {
   "cell_type": "code",
   "execution_count": 3,
   "id": "9a9e6119",
   "metadata": {},
   "outputs": [
    {
     "name": "stdout",
     "output_type": "stream",
     "text": [
      "0o70\n",
      "<class 'str'>\n"
     ]
    }
   ],
   "source": [
    "b = oct(56)\n",
    "print(b)\n",
    "print(type(b))"
   ]
  },
  {
   "cell_type": "code",
   "execution_count": 6,
   "id": "33f1df94",
   "metadata": {},
   "outputs": [
    {
     "name": "stdout",
     "output_type": "stream",
     "text": [
      "after converting the string to a tuple: ('j', 'a', 'v', 'a', 'T', 'p', 'o', 'i', 'n', 't')\n",
      "after converting the string to a set: {'a', 'T', 'n', 'i', 't', 'o', 'p', 'j', 'v'}\n",
      "after converting the string to a list: ['j', 'a', 'v', 'a', 'T', 'p', 'o', 'i', 'n', 't']\n"
     ]
    }
   ],
   "source": [
    "x = 'javaTpoint'\n",
    "y=tuple(x)\n",
    "print(\"after converting the string to a tuple: \", end=\"\")\n",
    "print(y)\n",
    "\n",
    "y = set(x)\n",
    "print(\"after converting the string to a set: \", end=\"\")\n",
    "print(y)\n",
    "\n",
    "y = list(x)\n",
    "print(\"after converting the string to a list: \", end=\"\")\n",
    "print(y)"
   ]
  },
  {
   "cell_type": "code",
   "execution_count": 8,
   "id": "1a924fb0",
   "metadata": {},
   "outputs": [
    {
     "name": "stdout",
     "output_type": "stream",
     "text": [
      "sum:  9\n",
      "diff:  5\n",
      "mult:  14\n",
      "div:  3.5\n",
      "mod:  1\n",
      "floor:  3\n",
      "power:  49\n"
     ]
    }
   ],
   "source": [
    "# Arithmetic operators in python\n",
    "\n",
    "a = 7\n",
    "b = 2\n",
    "\n",
    "print(\"sum: \", a+b)\n",
    "print(\"diff: \", a-b)\n",
    "print(\"mult: \", a*b)\n",
    "print(\"div: \", a/b)\n",
    "print(\"mod: \", a%b)\n",
    "print(\"floor: \", a//b)\n",
    "print(\"power: \", a**b)"
   ]
  },
  {
   "cell_type": "code",
   "execution_count": 10,
   "id": "039f0841",
   "metadata": {},
   "outputs": [],
   "source": [
    "a = 10\n",
    "b = 5\n"
   ]
  },
  {
   "cell_type": "code",
   "execution_count": 13,
   "id": "41ec0be1",
   "metadata": {},
   "outputs": [
    {
     "name": "stdout",
     "output_type": "stream",
     "text": [
      "20\n"
     ]
    }
   ],
   "source": [
    "# Addition\n",
    "a+=b\n",
    "print(a)"
   ]
  },
  {
   "cell_type": "code",
   "execution_count": 14,
   "id": "7c481b4f",
   "metadata": {},
   "outputs": [
    {
     "name": "stdout",
     "output_type": "stream",
     "text": [
      "15\n"
     ]
    }
   ],
   "source": [
    "# Subtraction\n",
    "a-=b\n",
    "print(a)"
   ]
  },
  {
   "cell_type": "code",
   "execution_count": 15,
   "id": "58080473",
   "metadata": {},
   "outputs": [
    {
     "name": "stdout",
     "output_type": "stream",
     "text": [
      "75\n"
     ]
    }
   ],
   "source": [
    "# Multiplication\n",
    "a*=b\n",
    "print(a)"
   ]
  },
  {
   "cell_type": "code",
   "execution_count": 16,
   "id": "255cec78",
   "metadata": {},
   "outputs": [
    {
     "name": "stdout",
     "output_type": "stream",
     "text": [
      "15.0\n"
     ]
    }
   ],
   "source": [
    "# Division\n",
    "a/=b\n",
    "print(a)"
   ]
  },
  {
   "cell_type": "code",
   "execution_count": 17,
   "id": "f7148d96",
   "metadata": {},
   "outputs": [
    {
     "name": "stdout",
     "output_type": "stream",
     "text": [
      "0.0\n"
     ]
    }
   ],
   "source": [
    "# Modulo\n",
    "a%=b\n",
    "print(a)"
   ]
  },
  {
   "cell_type": "code",
   "execution_count": 19,
   "id": "734a811f",
   "metadata": {},
   "outputs": [
    {
     "name": "stdout",
     "output_type": "stream",
     "text": [
      "False\n",
      "True\n",
      "True\n",
      "False\n",
      "False\n",
      "True\n"
     ]
    }
   ],
   "source": [
    "# Comparison Operators\n",
    "\n",
    "a=5\n",
    "b=2\n",
    "\n",
    "print(a==b)\n",
    "print(a!=b)\n",
    "print(a>b)\n",
    "print(a<b)\n",
    "print(a<=b)\n",
    "print(a>=b)"
   ]
  },
  {
   "cell_type": "code",
   "execution_count": 22,
   "id": "f4cfbf1a",
   "metadata": {},
   "outputs": [
    {
     "name": "stdout",
     "output_type": "stream",
     "text": [
      "True\n",
      "True\n"
     ]
    }
   ],
   "source": [
    "# Logical Operators\n",
    "\n",
    "a=5\n",
    "b=6\n",
    "print((a>2) and (b>=6))\n",
    "print((a>2) or (b>=6))"
   ]
  },
  {
   "cell_type": "code",
   "execution_count": 26,
   "id": "b173956b",
   "metadata": {},
   "outputs": [
    {
     "name": "stdout",
     "output_type": "stream",
     "text": [
      "False\n",
      "True\n",
      "False\n"
     ]
    }
   ],
   "source": [
    "# Identity operators\n",
    "x1=5\n",
    "y1=5\n",
    "x2='Hello'\n",
    "y2='Hello'\n",
    "x3=[1,2,3]\n",
    "y3=[1,2,3]\n",
    "\n",
    "print(x1 is not y1)\n",
    "print(x2 is y2)\n",
    "print(x3 is y3)"
   ]
  },
  {
   "cell_type": "code",
   "execution_count": 29,
   "id": "7352401d",
   "metadata": {},
   "outputs": [
    {
     "name": "stdout",
     "output_type": "stream",
     "text": [
      "140730070688528\n",
      "140730070688528\n",
      "1893530647328\n",
      "1893530647328\n",
      "1893529400648\n",
      "1893529400392\n"
     ]
    }
   ],
   "source": [
    "# Memory address\n",
    "\n",
    "print(id(x1))\n",
    "print(id(y1))\n",
    "\n",
    "print(id(x2))\n",
    "print(id(y2))\n",
    "\n",
    "print(id(x3))\n",
    "print(id(y3))"
   ]
  },
  {
   "cell_type": "code",
   "execution_count": 31,
   "id": "3ee46c1a",
   "metadata": {},
   "outputs": [
    {
     "name": "stdout",
     "output_type": "stream",
     "text": [
      "140730070688560\n",
      "1893530604688\n",
      "True\n"
     ]
    }
   ],
   "source": [
    "x4=6\n",
    "y4='bye'\n",
    "\n",
    "print(id(x4))\n",
    "print(id(y4))\n",
    "\n",
    "print(x4 is not y4)"
   ]
  },
  {
   "cell_type": "code",
   "execution_count": 36,
   "id": "efe9e304",
   "metadata": {},
   "outputs": [
    {
     "name": "stdout",
     "output_type": "stream",
     "text": [
      "True\n",
      "True\n",
      "True\n",
      "False\n"
     ]
    }
   ],
   "source": [
    "# Membership Operators\n",
    "dict1 = {1:'a', \n",
    "       2:'b'}\n",
    "\n",
    "message = 'Hello World'\n",
    "print('H' in message)\n",
    "\n",
    "print('hello' not in message)\n",
    "\n",
    "print(1 in dict1)\n",
    "\n",
    "print('a' in dict1)"
   ]
  },
  {
   "cell_type": "code",
   "execution_count": 37,
   "id": "d3ab6dd4",
   "metadata": {},
   "outputs": [
    {
     "name": "stdout",
     "output_type": "stream",
     "text": [
      "Lunch being delivered\n"
     ]
    }
   ],
   "source": [
    "# Operator Precedence\n",
    "\n",
    "meal=\"fruit\"\n",
    "money=0\n",
    "\n",
    "# AND has higher priority than OR\n",
    "if meal==\"fruit\" or meal==\"sandwich\" and money>=2:\n",
    "    print(\"Lunch being delivered\")\n",
    "else:\n",
    "    print(\"Can't deliver\")"
   ]
  },
  {
   "cell_type": "code",
   "execution_count": 38,
   "id": "92a57701",
   "metadata": {},
   "outputs": [
    {
     "name": "stdout",
     "output_type": "stream",
     "text": [
      "Can't deliver\n"
     ]
    }
   ],
   "source": [
    "if (meal==\"fruit\" or meal==\"sandwich\") and money>=2:\n",
    "    print(\"Lunch being delivered\")\n",
    "else:\n",
    "    print(\"Can't deliver\")"
   ]
  },
  {
   "cell_type": "code",
   "execution_count": 39,
   "id": "ce195f96",
   "metadata": {},
   "outputs": [
    {
     "name": "stdout",
     "output_type": "stream",
     "text": [
      "3\n",
      "0\n"
     ]
    }
   ],
   "source": [
    "# Associativity\n",
    "\n",
    "# 1. Left to right\n",
    "\n",
    "print(5*2//3)\n",
    "print(5*(2//3))"
   ]
  },
  {
   "cell_type": "code",
   "execution_count": 40,
   "id": "72aba047",
   "metadata": {},
   "outputs": [
    {
     "name": "stdout",
     "output_type": "stream",
     "text": [
      "512\n",
      "64\n"
     ]
    }
   ],
   "source": [
    "# Right to left: EXPONENT OPERATOR\n",
    "\n",
    "print(2**3**2)\n",
    "print((2**3)**2)"
   ]
  },
  {
   "cell_type": "code",
   "execution_count": 42,
   "id": "29a1a476",
   "metadata": {},
   "outputs": [
    {
     "ename": "SyntaxError",
     "evalue": "invalid syntax (<ipython-input-42-165a478b27b0>, line 6)",
     "output_type": "error",
     "traceback": [
      "\u001b[1;36m  File \u001b[1;32m\"<ipython-input-42-165a478b27b0>\"\u001b[1;36m, line \u001b[1;32m6\u001b[0m\n\u001b[1;33m    x=y=z+=2\u001b[0m\n\u001b[1;37m          ^\u001b[0m\n\u001b[1;31mSyntaxError\u001b[0m\u001b[1;31m:\u001b[0m invalid syntax\n"
     ]
    }
   ],
   "source": [
    "# Non Associative Operators\n",
    "\n",
    "# x < y < z is equivalent to x < y and y < z\n",
    "\n",
    "x=y=z=1\n",
    "x=y=z+=2"
   ]
  },
  {
   "cell_type": "code",
   "execution_count": 3,
   "id": "9dc14b7e",
   "metadata": {},
   "outputs": [
    {
     "name": "stdout",
     "output_type": "stream",
     "text": [
      "0b1100\n",
      "3     0b11\n",
      "24     0b11000\n"
     ]
    }
   ],
   "source": [
    "a=12\n",
    "print(bin(a))\n",
    "\n",
    "print(a>>2, \"   \", bin(a>>2))\n",
    "\n",
    "print(a<<1, \"   \", bin(a<<1))"
   ]
  },
  {
   "cell_type": "code",
   "execution_count": 47,
   "id": "63ec8473",
   "metadata": {},
   "outputs": [
    {
     "name": "stdout",
     "output_type": "stream",
     "text": [
      "22\n"
     ]
    }
   ],
   "source": [
    "a=16\n",
    "b=12\n",
    "c=a+(b>>1)\n",
    "print(c)"
   ]
  },
  {
   "cell_type": "code",
   "execution_count": null,
   "id": "e28222ee",
   "metadata": {},
   "outputs": [],
   "source": [
    "# WAP to calculate area of a circle \n",
    "# WAP to print the digit at one's place of a number\n",
    "# WAP to calc avg of 2 nos and print their deviation\n",
    "# WAP to convert a floating pt number into the corr integer\n",
    "# WAP to convert an int to corr floating p int\n",
    "# WAP to convert degree Fahrenheit to Celcius"
   ]
  },
  {
   "cell_type": "code",
   "execution_count": null,
   "id": "964b9664",
   "metadata": {},
   "outputs": [],
   "source": []
  },
  {
   "cell_type": "code",
   "execution_count": null,
   "id": "46433a0d",
   "metadata": {},
   "outputs": [],
   "source": []
  }
 ],
 "metadata": {
  "kernelspec": {
   "display_name": "Python 3",
   "language": "python",
   "name": "python3"
  },
  "language_info": {
   "codemirror_mode": {
    "name": "ipython",
    "version": 3
   },
   "file_extension": ".py",
   "mimetype": "text/x-python",
   "name": "python",
   "nbconvert_exporter": "python",
   "pygments_lexer": "ipython3",
   "version": "3.7.3"
  }
 },
 "nbformat": 4,
 "nbformat_minor": 5
}
