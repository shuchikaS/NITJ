{
 "cells": [
  {
   "cell_type": "markdown",
   "id": "ad752f84",
   "metadata": {},
   "source": [
    "# STRINGS"
   ]
  },
  {
   "cell_type": "code",
   "execution_count": 9,
   "id": "df204981-ed70-40aa-b7da-2cf3e643d6bf",
   "metadata": {},
   "outputs": [
    {
     "name": "stdout",
     "output_type": "stream",
     "text": [
      "2188282031744\n",
      "Hello \n"
     ]
    },
    {
     "name": "stdin",
     "output_type": "stream",
     "text": [
      "Enter your name:  Aarushi\n"
     ]
    },
    {
     "name": "stdout",
     "output_type": "stream",
     "text": [
      "Hello Aarushi. Welcome to Python!\n",
      "2188282126032\n"
     ]
    }
   ],
   "source": [
    "# How to append a string after \"Hello\"\n",
    "str1=\"Hello \"\n",
    "print(id(str1))\n",
    "print(str1)\n",
    "name = input(\"Enter your name: \")\n",
    "str1 += name\n",
    "str1 += \". Welcome to Python!\"\n",
    "print(str1)\n",
    "print(id(str1))\n"
   ]
  },
  {
   "cell_type": "code",
   "execution_count": 8,
   "id": "b76dc464-6975-4e49-996b-3a25a4e58321",
   "metadata": {},
   "outputs": [
    {
     "name": "stdout",
     "output_type": "stream",
     "text": [
      "2188260756864\n",
      "2188260756864\n"
     ]
    }
   ],
   "source": [
    "l1 = [1,2,3]\n",
    "print(id(l1))\n",
    "\n",
    "l1.append(4)\n",
    "print(id(l1))\n"
   ]
  },
  {
   "cell_type": "code",
   "execution_count": 11,
   "id": "077fbf25-babd-407a-a6f6-91ff1de63cc5",
   "metadata": {},
   "outputs": [
    {
     "name": "stdout",
     "output_type": "stream",
     "text": [
      "2188282029632\n",
      "2188282151344\n",
      "2188282190448\n",
      "2188282190448\n",
      "2188282190384\n"
     ]
    }
   ],
   "source": [
    "# How to append a string after \"Hello\"\n",
    "str1=\"Hello \"\n",
    "print(id(str1))\n",
    "str2 = \"Aarushi\"\n",
    "print(id(str2))\n",
    "str1 += str2\n",
    "print(id(str1))\n",
    "str3 = str1\n",
    "print(id(str3))\n",
    "str3 += \"1\"\n",
    "print(id(str3))\n"
   ]
  },
  {
   "cell_type": "code",
   "execution_count": 18,
   "id": "c46ed1b3-276d-4535-9bdd-3d2dad709291",
   "metadata": {},
   "outputs": [
    {
     "name": "stdout",
     "output_type": "stream",
     "text": [
      "name = Arun and age = 13\n",
      "name = Arun and age = 13\n"
     ]
    }
   ],
   "source": [
    "name = \"Arun\"\n",
    "age = 13\n",
    "print(\"name = %s and age = %d\"%(name, age))\n",
    "print(\"name = %s and age = %d\"%(\"Arun\", 13))\n"
   ]
  },
  {
   "cell_type": "code",
   "execution_count": 53,
   "id": "c8dde7b0-5605-4d17-b3c6-225ed77e40c1",
   "metadata": {},
   "outputs": [
    {
     "name": "stdout",
     "output_type": "stream",
     "text": [
      "1 \t 1 \t 1 \t 1\n",
      "2 \t 4 \t 8 \t 16\n",
      "3 \t 9 \t 27 \t 81\n",
      "4 \t 16 \t 64 \t 256\n",
      "5 \t 25 \t 125 \t 625\n",
      "\n",
      "\n",
      "1\t1\t1\t1\n",
      "2\t4\t8\t16\n",
      "3\t9\t27\t81\n",
      "4\t16\t64\t256\n",
      "5\t25\t125\t625\n",
      "\n",
      "\n",
      "i   i**2 i**3  \n",
      "\n",
      "\n",
      "1   1    1     \n",
      "2   4    8     \n",
      "3   9    27    \n",
      "4   16   64    \n",
      "5   25   125   \n"
     ]
    }
   ],
   "source": [
    "#WAP to display powers of number without using formatting characters\n",
    "i=1\n",
    "while i<=5:\n",
    "    print(i**1, \"\\t\", i**2, \"\\t\",  i**3, \"\\t\",  i**4)\n",
    "    i+=1\n",
    "print()\n",
    "print()\n",
    "\n",
    "i=1\n",
    "while i<=5:\n",
    "    print(\"%d\\t%d\\t%d\\t%d\"%(i**1, i**2, i**3,  i**4))\n",
    "    i+=1\n",
    "print()\n",
    "print()\n",
    "\n",
    "i = 1\n",
    "print(\"%-4s%-5s%-6s\"%('i', 'i**2', 'i**3'))\n",
    "print()\n",
    "print()\n",
    "\n",
    "i = 1\n",
    "while i<=5:\n",
    "    print(\"%-4d%-5d%-6d\"%(i, i**2, i**3))\n",
    "    i+=1"
   ]
  },
  {
   "cell_type": "code",
   "execution_count": 54,
   "id": "81437954-01ff-48cf-91ca-51dbf80eaf9b",
   "metadata": {},
   "outputs": [
    {
     "name": "stdout",
     "output_type": "stream",
     "text": [
      "Hello\n"
     ]
    }
   ],
   "source": [
    "s =  \"hello\"\n",
    "print(s.capitalize())"
   ]
  },
  {
   "cell_type": "code",
   "execution_count": 58,
   "id": "76224bbd-d340-417c-bef4-eb6dc368af4d",
   "metadata": {},
   "outputs": [
    {
     "name": "stdout",
     "output_type": "stream",
     "text": [
      "**hello***\n"
     ]
    }
   ],
   "source": [
    "s = \"hello\"\n",
    "print(s.center(10, '*'))"
   ]
  },
  {
   "cell_type": "code",
   "execution_count": 66,
   "id": "85469d19-5aa8-426d-8f05-2ecda6096d74",
   "metadata": {},
   "outputs": [
    {
     "name": "stdout",
     "output_type": "stream",
     "text": [
      "2\n"
     ]
    }
   ],
   "source": [
    "msg = 'he'\n",
    "str1 = \"hellohello\"\n",
    "print(str1.count(msg, 0, len(str1)))"
   ]
  },
  {
   "cell_type": "code",
   "execution_count": 67,
   "id": "33a94197-e15d-4ae4-b3c7-fad689d769d2",
   "metadata": {},
   "outputs": [
    {
     "name": "stdout",
     "output_type": "stream",
     "text": [
      "True\n"
     ]
    }
   ],
   "source": [
    "msg = \"she is my best friend\"\n",
    "\n",
    "print(msg.endswith(\"end\", 0, len(msg)))"
   ]
  },
  {
   "cell_type": "code",
   "execution_count": 73,
   "id": "0ab9425e-6f18-4a3c-b6f8-95c802663e83",
   "metadata": {},
   "outputs": [
    {
     "name": "stdout",
     "output_type": "stream",
     "text": [
      "True\n"
     ]
    }
   ],
   "source": [
    "str1 = \"the world is beautiful\"\n",
    "\n",
    "print(str1.startswith(\"th\", 0, len(str1)))"
   ]
  },
  {
   "cell_type": "code",
   "execution_count": 11,
   "id": "56065ea9-84ae-4cd6-b461-3863edc1bee7",
   "metadata": {},
   "outputs": [
    {
     "name": "stdout",
     "output_type": "stream",
     "text": [
      "A\n",
      "AB\n",
      "ABC\n",
      "ABCD\n",
      "ABCDE\n",
      "ABCDEF\n",
      "\n",
      "\n",
      "A\n",
      "AB\n",
      "ABC\n",
      "ABCD\n",
      "ABCDE\n",
      "ABCDEF\n"
     ]
    }
   ],
   "source": [
    "#WAP to print following pattern\n",
    "\n",
    "\n",
    "# Approach 1\n",
    "n = 65\n",
    "for i in range(1, 7):\n",
    "    for j in range(i):\n",
    "        print(chr(n+j), end=\"\")\n",
    "    print()\n",
    "\n",
    "print()\n",
    "print()\n",
    "\n",
    "\n",
    "\n",
    "# Approach 2\n",
    "n = 65\n",
    "for i in range(1, 7):\n",
    "    s=\"\"\n",
    "    for j in range(i):\n",
    "        s += chr(n+j)\n",
    "    print(s)"
   ]
  },
  {
   "cell_type": "code",
   "execution_count": 7,
   "id": "b01c54a0-77fb-4216-bfd3-8686dad563a3",
   "metadata": {},
   "outputs": [
    {
     "data": {
      "text/plain": [
       "65"
      ]
     },
     "execution_count": 7,
     "metadata": {},
     "output_type": "execute_result"
    }
   ],
   "source": [
    "ord('A')"
   ]
  },
  {
   "cell_type": "code",
   "execution_count": null,
   "id": "257b666b-762d-4fb8-a0da-7a9c72c56f47",
   "metadata": {},
   "outputs": [],
   "source": []
  }
 ],
 "metadata": {
  "kernelspec": {
   "display_name": "Python 3",
   "language": "python",
   "name": "python3"
  },
  "language_info": {
   "codemirror_mode": {
    "name": "ipython",
    "version": 3
   },
   "file_extension": ".py",
   "mimetype": "text/x-python",
   "name": "python",
   "nbconvert_exporter": "python",
   "pygments_lexer": "ipython3",
   "version": "3.7.3"
  }
 },
 "nbformat": 4,
 "nbformat_minor": 5
}
