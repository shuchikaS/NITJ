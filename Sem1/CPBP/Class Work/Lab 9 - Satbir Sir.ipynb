{
 "cells": [
  {
   "cell_type": "code",
   "execution_count": 7,
   "id": "284413a5",
   "metadata": {},
   "outputs": [
    {
     "name": "stdout",
     "output_type": "stream",
     "text": [
      "Zara\n",
      "7\n"
     ]
    }
   ],
   "source": [
    "# Accessing values in a Dictionary\n",
    "dict1 = {'Name': 'Zara', 'Age': 7, 'Class': 'First'}\n",
    "\n",
    "print(dict1['Name'])\n",
    "print(dict1['Age'])"
   ]
  },
  {
   "cell_type": "code",
   "execution_count": 8,
   "id": "10a3f6ab",
   "metadata": {},
   "outputs": [
    {
     "name": "stdout",
     "output_type": "stream",
     "text": [
      "{'Name': 'Zara', 'Age': 8, 'Class': 'First'}\n"
     ]
    }
   ],
   "source": [
    "# Updating a dict\n",
    "\n",
    "dict1['Age'] = 8\n",
    "\n",
    "print(dict1)"
   ]
  },
  {
   "cell_type": "code",
   "execution_count": 9,
   "id": "44284fa2",
   "metadata": {},
   "outputs": [
    {
     "name": "stdout",
     "output_type": "stream",
     "text": [
      "{'Name': 'Zara', 'Age': 8, 'Class': 'First', 'School': 'DPS'}\n"
     ]
    }
   ],
   "source": [
    "# Add a new entry\n",
    "\n",
    "dict1['School'] = 'DPS'\n",
    "\n",
    "print(dict1)"
   ]
  },
  {
   "cell_type": "code",
   "execution_count": 10,
   "id": "a5c68ad7",
   "metadata": {},
   "outputs": [
    {
     "name": "stdout",
     "output_type": "stream",
     "text": [
      "{'Age': 8, 'Class': 'First', 'School': 'DPS'}\n"
     ]
    }
   ],
   "source": [
    "# Delete entries\n",
    "\n",
    "del dict1['Name']\n",
    "\n",
    "print(dict1)"
   ]
  },
  {
   "cell_type": "code",
   "execution_count": 11,
   "id": "56dba533",
   "metadata": {},
   "outputs": [
    {
     "name": "stdout",
     "output_type": "stream",
     "text": [
      "{}\n"
     ]
    }
   ],
   "source": [
    "# Clear whole dict\n",
    "\n",
    "dict1.clear()\n",
    "\n",
    "print(dict1)"
   ]
  },
  {
   "cell_type": "code",
   "execution_count": 12,
   "id": "4057f0ae",
   "metadata": {
    "scrolled": true
   },
   "outputs": [
    {
     "ename": "NameError",
     "evalue": "name 'dict1' is not defined",
     "output_type": "error",
     "traceback": [
      "\u001b[1;31m---------------------------------------------------------------------------\u001b[0m",
      "\u001b[1;31mNameError\u001b[0m                                 Traceback (most recent call last)",
      "\u001b[1;32m<ipython-input-12-a1268cd00805>\u001b[0m in \u001b[0;36m<module>\u001b[1;34m\u001b[0m\n\u001b[0;32m      2\u001b[0m \u001b[1;33m\u001b[0m\u001b[0m\n\u001b[0;32m      3\u001b[0m \u001b[1;32mdel\u001b[0m \u001b[0mdict1\u001b[0m\u001b[1;33m\u001b[0m\u001b[1;33m\u001b[0m\u001b[0m\n\u001b[1;32m----> 4\u001b[1;33m \u001b[0mprint\u001b[0m\u001b[1;33m(\u001b[0m\u001b[0mdict1\u001b[0m\u001b[1;33m)\u001b[0m\u001b[1;33m\u001b[0m\u001b[1;33m\u001b[0m\u001b[0m\n\u001b[0m",
      "\u001b[1;31mNameError\u001b[0m: name 'dict1' is not defined"
     ]
    }
   ],
   "source": [
    "# Delete whole dict\n",
    "\n",
    "del dict1\n",
    "print(dict1)"
   ]
  },
  {
   "cell_type": "markdown",
   "id": "1d66e89a",
   "metadata": {},
   "source": [
    "# Properties of dict"
   ]
  },
  {
   "cell_type": "code",
   "execution_count": 48,
   "id": "c02a8097",
   "metadata": {},
   "outputs": [
    {
     "name": "stdout",
     "output_type": "stream",
     "text": [
      "100\n"
     ]
    }
   ],
   "source": [
    "# Multiple keys with same name are not allowed. If there are such keys, then one with last assignment is considered\n",
    "\n",
    "dict1 = {'Name': 'Zara', 'Age': 7, 'Class': 'First', 'Age': 100}\n",
    "print(dict1['Age'])"
   ]
  },
  {
   "cell_type": "markdown",
   "id": "6ed7355b",
   "metadata": {},
   "source": [
    "# DICT METHODS"
   ]
  },
  {
   "cell_type": "code",
   "execution_count": 49,
   "id": "825b52b2",
   "metadata": {},
   "outputs": [
    {
     "name": "stdout",
     "output_type": "stream",
     "text": [
      "3\n"
     ]
    }
   ],
   "source": [
    "# Dict length\n",
    "\n",
    "print(len(dict1))"
   ]
  },
  {
   "cell_type": "code",
   "execution_count": 50,
   "id": "717e9cd1",
   "metadata": {},
   "outputs": [
    {
     "name": "stdout",
     "output_type": "stream",
     "text": [
      "{'Name': 'Zara', 'Age': 100, 'Class': 'First'}\n",
      "<class 'str'>\n"
     ]
    }
   ],
   "source": [
    "# Dict to string\n",
    "\n",
    "a = str(dict1)\n",
    "print(a)\n",
    "print(type(a))"
   ]
  },
  {
   "cell_type": "code",
   "execution_count": 51,
   "id": "ccd6ba02",
   "metadata": {},
   "outputs": [
    {
     "name": "stdout",
     "output_type": "stream",
     "text": [
      "{'Name': 'Zara', 'Age': 100, 'Class': 'First'}\n"
     ]
    }
   ],
   "source": [
    "# Dict copy() returns a SHALLOW copy of the dictionary\n",
    "dict2 = dict1.copy()\n",
    "print(dict2)"
   ]
  },
  {
   "cell_type": "code",
   "execution_count": 52,
   "id": "85f828ae",
   "metadata": {},
   "outputs": [
    {
     "name": "stdout",
     "output_type": "stream",
     "text": [
      "{'Gender': None, 'Age': None, 'Name': None}\n",
      "{'Gender': 10, 'Age': 10, 'Name': 10}\n"
     ]
    }
   ],
   "source": [
    "# Fromkeys() creates a new dict with keys from seq and values set to value\n",
    "\n",
    "seq = {'Name', 'Age', 'Gender'}\n",
    "dict2 = dict1.fromkeys(seq)\n",
    "print(dict2)\n",
    "\n",
    "dict2 = dict1.fromkeys(seq,10)\n",
    "print(dict2)"
   ]
  },
  {
   "cell_type": "code",
   "execution_count": 53,
   "id": "613fd88f",
   "metadata": {},
   "outputs": [
    {
     "name": "stdout",
     "output_type": "stream",
     "text": [
      "Zara\n"
     ]
    }
   ],
   "source": [
    "# get() method - returns value for given key\n",
    "print(dict1.get('Name'))\n"
   ]
  },
  {
   "cell_type": "code",
   "execution_count": 54,
   "id": "1c1c05e1",
   "metadata": {},
   "outputs": [
    {
     "name": "stdout",
     "output_type": "stream",
     "text": [
      "dict_items([('Name', 'Zara'), ('Age', 100), ('Class', 'First')])\n"
     ]
    }
   ],
   "source": [
    "# items() - returns a list of dict's ket-value tuple pairs\n",
    "print(dict1.items())"
   ]
  },
  {
   "cell_type": "code",
   "execution_count": 55,
   "id": "2b1997b6",
   "metadata": {},
   "outputs": [
    {
     "name": "stdout",
     "output_type": "stream",
     "text": [
      "{'Name': 'Zara', 'Age': 100, 'Class': 'First', 'Sex1': 'Male'}\n"
     ]
    }
   ],
   "source": [
    "# setdefault() - similar to get() but will set key=default id key is not already there in dict\n",
    "# Syntax - dict.setdefault(key, default=None)\n",
    "\n",
    "dict1.setdefault('Age', None)\n",
    "dict1.setdefault('Sex1', 'Male')\n",
    "print(dict1)"
   ]
  },
  {
   "cell_type": "code",
   "execution_count": 56,
   "id": "fac419e5",
   "metadata": {},
   "outputs": [
    {
     "name": "stdout",
     "output_type": "stream",
     "text": [
      "{'Name': 'Zara', 'Age': 100, 'Class': 'First', 'Sex1': 'Male'}\n",
      "{'Gender': 'Female', 'Senior_Citizen': 'Yes'}\n",
      "{'Name': 'Zara', 'Age': 100, 'Class': 'First', 'Sex1': 'Male', 'Gender': 'Female', 'Senior_Citizen': 'Yes'}\n"
     ]
    }
   ],
   "source": [
    "# Update() - adds dict2's contents to dict\n",
    "print(dict1)\n",
    "dict2 = {'Gender': 'Female', 'Senior_Citizen': 'Yes'}\n",
    "print(dict2)\n",
    "dict1.update(dict2)\n",
    "print(dict1)"
   ]
  },
  {
   "cell_type": "code",
   "execution_count": 57,
   "id": "49201cb1",
   "metadata": {},
   "outputs": [
    {
     "name": "stdout",
     "output_type": "stream",
     "text": [
      "dict_values(['Zara', 100, 'First', 'Male', 'Female', 'Yes'])\n"
     ]
    }
   ],
   "source": [
    "# values() method - returns a list of all the values availale in given dict\n",
    "print(dict1.values())"
   ]
  },
  {
   "cell_type": "code",
   "execution_count": 60,
   "id": "e230a861",
   "metadata": {},
   "outputs": [
    {
     "name": "stdout",
     "output_type": "stream",
     "text": [
      "{'Senior_Citizen': 'No', 'Gender': 'Female', 'Name': 'Zara', 'Age': 10}\n"
     ]
    }
   ],
   "source": [
    "# WAP to merge two dictionaries with a third one\n",
    "\n",
    "a = {'Name': 'Zara', 'Age': 10}\n",
    "b = {'Gender': 'Female'}\n",
    "c = {'Senior_Citizen': 'No'}\n",
    "\n",
    "c.update(b)\n",
    "c.update(a)\n",
    "print(c)"
   ]
  },
  {
   "cell_type": "code",
   "execution_count": 62,
   "id": "580c4be2",
   "metadata": {},
   "outputs": [
    {
     "name": "stdout",
     "output_type": "stream",
     "text": [
      "a   time\n",
      "b   money\n",
      "c   value\n",
      "\n",
      "a\n",
      "b\n",
      "c\n",
      "time\n",
      "money\n",
      "value\n"
     ]
    }
   ],
   "source": [
    "dict1 = {\"a\": \"time\", \"b\": \"money\", \"c\": \"value\"}\n",
    "\n",
    "for key, values in dict1.items():\n",
    "    print(key, \" \", values)\n",
    "\n",
    "print()\n",
    "for i in dict1.keys():\n",
    "    print(i)\n",
    "for i in dict1.values():\n",
    "    print(i)"
   ]
  },
  {
   "cell_type": "code",
   "execution_count": 74,
   "id": "a0c1b661",
   "metadata": {},
   "outputs": [
    {
     "name": "stdout",
     "output_type": "stream",
     "text": [
      "{'a': 23, 'b': 91038, 'c': 1, 'd': 20, 'e': 55}\n",
      "[1, 20, 23, 55, 91038]\n",
      "{'c': 1, 'd': 20, 'a': 23, 'e': 55, 'b': 91038}\n"
     ]
    }
   ],
   "source": [
    "# Sort dictionary by values\n",
    "\n",
    "dict1 = {\"a\": 23, \"b\": 91038, \"c\": 1, \"d\": 20, \"e\": 55}\n",
    "\n",
    "# print(sorted(dict1, key = dict1.values))\n",
    "print(dict1)\n",
    "\n",
    "ls = sorted(dict1.values())\n",
    "print(ls)\n",
    "dict2 = {}\n",
    "for i in ls:\n",
    "    for j in dict1.keys():\n",
    "        if dict1.get(j) == i:\n",
    "            dict2[j] = i\n",
    "print(dict2)"
   ]
  },
  {
   "cell_type": "code",
   "execution_count": 96,
   "id": "1a93761b",
   "metadata": {},
   "outputs": [
    {
     "name": "stdout",
     "output_type": "stream",
     "text": [
      "10\n"
     ]
    }
   ],
   "source": [
    "# Count number of digits in input using while loop\n",
    "\n",
    "a = 8139790800\n",
    "\n",
    "c = 0\n",
    "while( a >=1 ):\n",
    "    c+=1\n",
    "    a = a/10\n",
    "print(c)"
   ]
  },
  {
   "cell_type": "code",
   "execution_count": 107,
   "id": "96b4d4ce",
   "metadata": {},
   "outputs": [
    {
     "name": "stdout",
     "output_type": "stream",
     "text": [
      "153\n",
      "370\n",
      "371\n",
      "407\n",
      "1634\n",
      "8208\n",
      "9474\n"
     ]
    }
   ],
   "source": [
    "# Armstrong number 153 = 1^3+5^3+3^3. Print all armstrong nos. between 50 and 800\n",
    "\n",
    "def check_armstrong(n):\n",
    "    s = 0\n",
    "    a1 = n\n",
    "    a2 = n\n",
    "    c = 0\n",
    "    \n",
    "    # Count number of digits\n",
    "    while( a1 >=1 ):\n",
    "        c+=1\n",
    "        a1 = a1/10\n",
    "    \n",
    "    # Find sum\n",
    "    while(a2 >= 1):\n",
    "        s += (a2%10)**c\n",
    "        a2 = int(a2/10)\n",
    "    if s==n:\n",
    "        return True\n",
    "    else:\n",
    "        return False\n",
    "\n",
    "for i in range(50, 10000):\n",
    "    if check_armstrong(i):\n",
    "        print(i)\n",
    "\n"
   ]
  },
  {
   "cell_type": "code",
   "execution_count": 114,
   "id": "d41bd988",
   "metadata": {},
   "outputs": [
    {
     "name": "stdout",
     "output_type": "stream",
     "text": [
      "They are anagrams\n"
     ]
    }
   ],
   "source": [
    "# Check anagrams\n",
    "\n",
    "inp1 = \"ABCD\"\n",
    "inp2 = \"DBAC\"\n",
    "ls1 = sorted(inp1)\n",
    "ls2 = sorted(inp2)\n",
    "if str(ls1) == str(ls2):\n",
    "    print(\"They are anagrams\")\n",
    "else:\n",
    "    print(\"Not anagrams\")\n"
   ]
  },
  {
   "cell_type": "code",
   "execution_count": 7,
   "id": "0ca5b487",
   "metadata": {
    "scrolled": true
   },
   "outputs": [
    {
     "name": "stdout",
     "output_type": "stream",
     "text": [
      "EKGE\n",
      "KGEE\n",
      "GEKE\n",
      "EKEG\n",
      "EGEK\n",
      "EEGK\n",
      "EGKE\n",
      "GKEE\n",
      "KEGE\n",
      "EEKG\n",
      "KEEG\n",
      "GEEK\n"
     ]
    }
   ],
   "source": [
    "# Print all permutations of a string\n",
    "\n",
    "def generate_permutations(string):\n",
    "    if len(string) == 1:\n",
    "        return [string]\n",
    " \n",
    "    permutations = []\n",
    "    for i in range(len(string)):\n",
    "        fixed_char = string[i]\n",
    "        remaining_chars = string[:i] + string[i+1:]\n",
    "        for perm in generate_permutations(remaining_chars):\n",
    "            permutations.append(fixed_char + perm)\n",
    "\n",
    " \n",
    "    return permutations\n",
    " \n",
    "string ='GEEK'\n",
    " \n",
    "permutations_list = generate_permutations(string)\n",
    "z=set(permutations_list)\n",
    " \n",
    "for perm in z:\n",
    "    print(perm)"
   ]
  },
  {
   "cell_type": "code",
   "execution_count": 24,
   "id": "3053b045",
   "metadata": {},
   "outputs": [
    {
     "name": "stdout",
     "output_type": "stream",
     "text": [
      "['John', '', '', 'Doe', '', '', '123']\n",
      "['John', 'Doe', '123']\n"
     ]
    }
   ],
   "source": [
    "a = \"John000Doe000123\"\n",
    "b = list(a)\n",
    "ls = a.split('0')\n",
    "print(ls)\n",
    "while ('' in ls):\n",
    "    ls.remove('')\n",
    "print(ls)"
   ]
  },
  {
   "cell_type": "code",
   "execution_count": 16,
   "id": "fc48f6b9",
   "metadata": {},
   "outputs": [
    {
     "name": "stdout",
     "output_type": "stream",
     "text": [
      "Enter the first integer: 23456\n",
      "Enter the second integer: 32456\n",
      "The numbers are anagrams.\n"
     ]
    }
   ],
   "source": [
    "def are_anagrams(num1, num2):\n",
    "# Convert both integers to strings, then sort their digits\n",
    "    return sorted(str(num1)) == sorted(str(num2))\n",
    "# Input\n",
    "num1 = int(input(\"Enter the first integer: \")) #123\n",
    "num2 = int(input(\"Enter the second integer: \")) #321\n",
    "# Output\n",
    "if are_anagrams(num1, num2):\n",
    "    print(\"The numbers are anagrams.\")\n",
    "else:\n",
    "    print(\"The numbers are not anagrams.\")"
   ]
  },
  {
   "cell_type": "code",
   "execution_count": 22,
   "id": "4cbd6fdd",
   "metadata": {},
   "outputs": [
    {
     "name": "stdout",
     "output_type": "stream",
     "text": [
      "{'S001': {'Adina Park': 85}, 'S002': {'Leyton Marsh': 98}, 'S003': {'Duncan Boyle': 89}, 'S004': {'Saim Richards': 92}}\n"
     ]
    }
   ],
   "source": [
    "l1 = ['S001', 'S002', 'S003', 'S004']\n",
    "l2 = ['Adina Park', 'Leyton Marsh', 'Duncan Boyle', 'Saim Richards']\n",
    "l3 = [85, 98, 89, 92]\n",
    "dict1 = {}\n",
    "for i in range(4):\n",
    "    dict1.update( {l1[i]: {l2[i]: l3[i]}})\n",
    "print(dict1)"
   ]
  },
  {
   "cell_type": "code",
   "execution_count": 41,
   "id": "01a01d1d",
   "metadata": {},
   "outputs": [
    {
     "name": "stdout",
     "output_type": "stream",
     "text": [
      "geEksforG\n"
     ]
    }
   ],
   "source": [
    "def removeDuplicates(str1):\n",
    "    # code here\n",
    "    dict1 = {}\n",
    "    res = \"\"\n",
    "    for i in str1:\n",
    "        if i not in dict1:\n",
    "            res +=i\n",
    "            dict1[i] = 1\n",
    "    return res\n",
    "\n",
    "print(removeDuplicates(\"geEksforGEeks\"))"
   ]
  },
  {
   "cell_type": "code",
   "execution_count": 38,
   "id": "e4f5fd6c",
   "metadata": {},
   "outputs": [
    {
     "name": "stdout",
     "output_type": "stream",
     "text": [
      "much.very.program.this.like.i\n"
     ]
    }
   ],
   "source": [
    "def func(str1):\n",
    "    # code here \n",
    "    # code here \n",
    "    s2 = str1.split(\".\")\n",
    "    s2.reverse()\n",
    "    s3 = '.'.join(s2)\n",
    "    print(s3)\n",
    "\n",
    "func(\"i.like.this.program.very.much\")"
   ]
  },
  {
   "cell_type": "code",
   "execution_count": 42,
   "id": "541f3b1a",
   "metadata": {},
   "outputs": [
    {
     "name": "stdout",
     "output_type": "stream",
     "text": [
      "6\n"
     ]
    }
   ],
   "source": [
    "Tuple1 = (\"A\", 1, \"B\", 2, \"C\", 3)\n",
    "\n",
    "c = 0\n",
    "for i in Tuple1:\n",
    "    c +=1\n",
    "print(c)"
   ]
  },
  {
   "cell_type": "code",
   "execution_count": null,
   "id": "c7aacdde",
   "metadata": {},
   "outputs": [],
   "source": []
  }
 ],
 "metadata": {
  "kernelspec": {
   "display_name": "Python 3",
   "language": "python",
   "name": "python3"
  },
  "language_info": {
   "codemirror_mode": {
    "name": "ipython",
    "version": 3
   },
   "file_extension": ".py",
   "mimetype": "text/x-python",
   "name": "python",
   "nbconvert_exporter": "python",
   "pygments_lexer": "ipython3",
   "version": "3.7.3"
  }
 },
 "nbformat": 4,
 "nbformat_minor": 5
}
