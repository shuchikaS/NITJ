{
 "cells": [
  {
   "cell_type": "code",
   "execution_count": 22,
   "id": "9035448e-06ba-4a14-b152-0f5d819847dc",
   "metadata": {},
   "outputs": [
    {
     "name": "stdout",
     "output_type": "stream",
     "text": [
      "First 10 bytes of file1:  b'Hello Worl'\n",
      "File2 contents:\n",
      "b''\n",
      "File2 contents after copying:\n",
      "b''\n"
     ]
    }
   ],
   "source": [
    "# WAP that copies first 10 bytes of a binary file into another\n",
    "with open(\"file_handling_test/file1.txt\", \"rb\") as f:\n",
    "    a = f.read(10)\n",
    "    print(\"First 10 bytes of file1: \", a)\n",
    "\n",
    "with open(\"file_handling_test/file2.txt\", \"rb+\") as f2:\n",
    "    print(\"File2 contents:\")\n",
    "    print(f2.read())\n",
    "    f2.write(a)\n",
    "    print(\"File2 contents after copying:\")\n",
    "    print(f2.read())"
   ]
  },
  {
   "cell_type": "code",
   "execution_count": 6,
   "id": "a238b1f2-d819-4d05-b39f-379548270acf",
   "metadata": {},
   "outputs": [],
   "source": [
    "with open(\"file1.txt\", \"rb\") as f:\n",
    "    with open(\"file2.txt\", \"wb\") as f2:\n",
    "        a = f.read(10)\n",
    "        t = f2.write(a)"
   ]
  },
  {
   "cell_type": "code",
   "execution_count": 11,
   "id": "49d3849f-3468-46a3-ab8d-01085c02e077",
   "metadata": {},
   "outputs": [],
   "source": [
    "# WAP that copies one python script into another in such a way that all comment lines are skipped and not copied in the destination file\n",
    "\n",
    "with open(\"file_handling_test/file1.py\", \"r\") as f1:\n",
    "    with open(\"file_handling_test/file2.py\", \"w\") as f2:\n",
    "        for line in f1:\n",
    "            if \"# \" not in line:\n",
    "                f2.write(line)\n",
    "\n",
    "# # Alternatively: \n",
    "# with open(\"file_handling_test/file1.py\", \"r\") as f1:\n",
    "#     with open(\"file_handling_test/file2.py\", \"w\") as f2:\n",
    "#         while True:\n",
    "#             buf = file1.readline()\n",
    "#             if len(buf) != 0:\n",
    "#                 if buf[0] == \"#\":\n",
    "#                     continue\n",
    "#                 else:\n",
    "#                     f2.write(buf)"
   ]
  },
  {
   "cell_type": "code",
   "execution_count": 24,
   "id": "d526d4d6-d38d-45ce-93ab-c2ff51fa68c2",
   "metadata": {},
   "outputs": [
    {
     "name": "stdin",
     "output_type": "stream",
     "text": [
      "Enter the file name:  file1.py\n",
      "Enter the character to be searched:  a\n"
     ]
    },
    {
     "name": "stdout",
     "output_type": "stream",
     "text": [
      "Count of given character in file:  9\n"
     ]
    }
   ],
   "source": [
    "# WAP that accepts a file name as an input from the user. Open the file and count the number of times a character appears in the file\n",
    "\n",
    "f = input(\"Enter the file name: \")\n",
    "ch = input(\"Enter the character to be searched: \")\n",
    "count = 0\n",
    "with open(\"file_handling_test/\"+f, \"r\") as f1:\n",
    "    for line in f1:\n",
    "        for c in line:\n",
    "            if c == ch:\n",
    "                count+=1\n",
    "print(\"Count of given character in file: \", count)"
   ]
  },
  {
   "cell_type": "code",
   "execution_count": 37,
   "id": "3177b7e2-3e6a-49af-b6ff-a800307b32a6",
   "metadata": {},
   "outputs": [
    {
     "name": "stdout",
     "output_type": "stream",
     "text": [
      "Consonants =  48\n",
      "Vowels =  24\n"
     ]
    }
   ],
   "source": [
    "# WAP that reads data from a file and calculates the percentage of vowels and consonants in the file\n",
    "\n",
    "vow = \"a e i o u A E I O U\"\n",
    "vowels = vow.split(' ')\n",
    "v = 0\n",
    "c = 0\n",
    "with open(\"file_handling_test/file1.txt\", \"r\") as f1:\n",
    "    a = f1.read()\n",
    "    for ch in a:\n",
    "        if ch.isalpha() and ch in vowels:\n",
    "            v+=1\n",
    "        elif ch.isalpha() and ch not in vowels:\n",
    "            c+=1\n",
    "print(\"Consonants = \", c)\n",
    "print(\"Vowels = \", v)"
   ]
  },
  {
   "cell_type": "code",
   "execution_count": null,
   "id": "93701015-5a51-428a-b6ec-734fad1c409c",
   "metadata": {},
   "outputs": [],
   "source": []
  }
 ],
 "metadata": {
  "kernelspec": {
   "display_name": "Python 3 (ipykernel)",
   "language": "python",
   "name": "python3"
  },
  "language_info": {
   "codemirror_mode": {
    "name": "ipython",
    "version": 3
   },
   "file_extension": ".py",
   "mimetype": "text/x-python",
   "name": "python",
   "nbconvert_exporter": "python",
   "pygments_lexer": "ipython3",
   "version": "3.12.5"
  }
 },
 "nbformat": 4,
 "nbformat_minor": 5
}
