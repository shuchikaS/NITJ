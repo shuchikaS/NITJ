{
 "cells": [
  {
   "cell_type": "code",
   "execution_count": 4,
   "id": "5317f806-43ab-4438-b83a-e45e4dc835a8",
   "metadata": {},
   "outputs": [
    {
     "name": "stdout",
     "output_type": "stream",
     "text": [
      "Shuchika\n",
      "10\n",
      "20\n",
      "30\n"
     ]
    }
   ],
   "source": [
    "# WAP that uses class to store the name and marks of students. Use lists to store the marks in 3 subjects.\n",
    "\n",
    "class Student():\n",
    "    def __init__(self, name, marks):\n",
    "        self.name = name\n",
    "        self.marks = marks\n",
    "\n",
    "name = \"Shuchika\"\n",
    "marks_list = [10,20,30]\n",
    "obj = Student(name, marks_list)\n",
    "print(obj.name)\n",
    "print(obj.marks[0])\n",
    "print(obj.marks[1])\n",
    "print(obj.marks[2])"
   ]
  },
  {
   "cell_type": "code",
   "execution_count": 10,
   "id": "fc1492e0-511d-481e-ae27-6dd469b0c6bf",
   "metadata": {},
   "outputs": [
    {
     "name": "stdin",
     "output_type": "stream",
     "text": [
      "Enter marks of student Shuchika in subject 1:  60\n",
      "Enter marks of student Shuchika in subject 2:  70\n",
      "Enter marks of student Shuchika in subject 3:  60\n",
      "Enter marks of student Anisha in subject 1:  90\n",
      "Enter marks of student Anisha in subject 2:  100\n",
      "Enter marks of student Anisha in subject 3:  80\n"
     ]
    },
    {
     "name": "stdout",
     "output_type": "stream",
     "text": [
      "Shuchika [60, 70, 60]\n",
      "Anisha [90, 100, 80]\n"
     ]
    }
   ],
   "source": [
    "class Student:\n",
    "    def __init__(self, name):\n",
    "        self.name = name\n",
    "        self.marks = []\n",
    "    def enterMarks(self):\n",
    "        for i in range(3):\n",
    "            m = int(input(\"Enter marks of student %s in subject %s: \"%(self.name, i+1)))\n",
    "            self.marks.append(m)\n",
    "    def display(self):\n",
    "        print(self.name, self.marks)\n",
    "\n",
    "name = \"Shuchika\"\n",
    "s1 = Student(name)\n",
    "s1.enterMarks()\n",
    "\n",
    "s2 = Student(\"Anisha\")\n",
    "s2.enterMarks()\n",
    "\n",
    "s1.display()\n",
    "s2.display()"
   ]
  },
  {
   "cell_type": "code",
   "execution_count": 23,
   "id": "cee858bf-caba-4870-bd85-972b1f4bbd71",
   "metadata": {},
   "outputs": [
    {
     "name": "stdin",
     "output_type": "stream",
     "text": [
      "Enter Employee id:  1\n",
      "Enter Employee Name:  Shuchika\n",
      "Enter Employee Designation:  SDE\n",
      "Enter Employee Salary:  10000\n",
      "Enter Employee id:  2\n",
      "Enter Employee Name:  AArushi\n",
      "Enter Employee Designation:  SE1\n",
      "Enter Employee Salary:  12000\n"
     ]
    },
    {
     "name": "stdout",
     "output_type": "stream",
     "text": [
      "List of Employees and their details:  {'1': ['Shuchika', 'SDE', '10000']}\n",
      "List of Employees and their details:  {'2': ['AArushi', 'SE1', '12000']}\n",
      "Total count of employees:  2\n"
     ]
    }
   ],
   "source": [
    "# WAP with class Employee that keeps a track of the nummber of employees in an organisation and also stores their name, designation, and salary details.\n",
    "\n",
    "class Employee:\n",
    "    global count_of_emp\n",
    "    count_of_emp = 0\n",
    "\n",
    "    def __init__(self):\n",
    "        self.emp = {}\n",
    "    def enterEmployeeDetails(self):\n",
    "        i = int(input(\"Enter Employee id: \"))\n",
    "        n = input(\"Enter Employee Name: \")\n",
    "        d = input(\"Enter Employee Designation: \")\n",
    "        s = input(\"Enter Employee Salary: \")\n",
    "        self.emp.update({str(i): [n, d, s]})\n",
    "    def displayCount(self):\n",
    "        print(\"Total count of employees: \", count_of_emp)\n",
    "    def displayDetails(self):\n",
    "        print(\"List of Employees and their details: \", self.emp)\n",
    "\n",
    "e1 = Employee()\n",
    "e1.enterEmployeeDetails()\n",
    "count_of_emp += 1\n",
    "\n",
    "e2 = Employee()\n",
    "e2.enterEmployeeDetails()\n",
    "count_of_emp += 1\n",
    "\n",
    "e1.displayDetails()\n",
    "e2.displayDetails()\n",
    "\n",
    "e2.displayCount()"
   ]
  },
  {
   "cell_type": "code",
   "execution_count": 26,
   "id": "c9cdf4b9-e847-4887-9fa2-3038f36d4283",
   "metadata": {},
   "outputs": [
    {
     "name": "stdout",
     "output_type": "stream",
     "text": [
      "\n",
      "Given radius:  7\n",
      "Area of circle:  153.86\n",
      "Circumference of circle:  43.96\n",
      "\n",
      "Given radius:  10\n",
      "Area of circle:  314.0\n",
      "Circumference of circle:  62.800000000000004\n"
     ]
    }
   ],
   "source": [
    "# WAP that has a class Circle. Use a class variable to define the value of constant pi. Use this class variable to calculate area and curcumference of a circle with specified radius.\n",
    "\n",
    "class Circle:\n",
    "    def __init__(self, radius):\n",
    "        self.radius = radius\n",
    "        self.area = 0\n",
    "        self.circum = 0\n",
    "        self.pi = 3.14\n",
    "    def calcArea(self):\n",
    "        self.area = self.pi * self.radius * self.radius\n",
    "    def calcCircum(self):\n",
    "        self.circum = 2 * self.pi * self.radius\n",
    "    def printDetails(self):\n",
    "        print()\n",
    "        print(\"Given radius: \", self.radius)\n",
    "        print(\"Area of circle: \", self.area)\n",
    "        print(\"Circumference of circle: \", self.circum)\n",
    "\n",
    "c1 = Circle(7)\n",
    "c1.calcArea()\n",
    "c1.calcCircum()\n",
    "\n",
    "c2 = Circle(10)\n",
    "c2.calcArea()\n",
    "c2.calcCircum()\n",
    "\n",
    "c1.printDetails()\n",
    "c2.printDetails()"
   ]
  },
  {
   "cell_type": "code",
   "execution_count": 14,
   "id": "539e01b5-f3ff-4eeb-8497-fe6dfa15a658",
   "metadata": {},
   "outputs": [
    {
     "name": "stdout",
     "output_type": "stream",
     "text": [
      "\n",
      "***********************************************************\n"
     ]
    },
    {
     "name": "stdin",
     "output_type": "stream",
     "text": [
      "Enter your choice:\n",
      "1. Press 1 to enter a new book into the system.\n",
      "2. Press 2 to display all records.\n",
      "3. Press 3 to search book by title and print its details\n",
      "4. Press 4 to search book by author and print its details\n",
      "5. Press anything else to exit\n",
      "Enter your choice:  1\n"
     ]
    },
    {
     "name": "stdout",
     "output_type": "stream",
     "text": [
      "\n"
     ]
    },
    {
     "name": "stdin",
     "output_type": "stream",
     "text": [
      "Enter title of book:  Programming Basics with Python\n",
      "Enter name of author of book:  Sharma, Deepa\n",
      "Enter price of book:  100\n"
     ]
    },
    {
     "name": "stdout",
     "output_type": "stream",
     "text": [
      "\n",
      "***********************************************************\n"
     ]
    },
    {
     "name": "stdin",
     "output_type": "stream",
     "text": [
      "Enter your choice:\n",
      "1. Press 1 to enter a new book into the system.\n",
      "2. Press 2 to display all records.\n",
      "3. Press 3 to search book by title and print its details\n",
      "4. Press 4 to search book by author and print its details\n",
      "5. Press anything else to exit\n",
      "Enter your choice:  1\n"
     ]
    },
    {
     "name": "stdout",
     "output_type": "stream",
     "text": [
      "\n"
     ]
    },
    {
     "name": "stdin",
     "output_type": "stream",
     "text": [
      "Enter title of book:  Programming Basics with C++\n",
      "Enter name of author of book:  Mark, Sharma, Nicholas\n",
      "Enter price of book:  200\n"
     ]
    },
    {
     "name": "stdout",
     "output_type": "stream",
     "text": [
      "\n",
      "***********************************************************\n"
     ]
    },
    {
     "name": "stdin",
     "output_type": "stream",
     "text": [
      "Enter your choice:\n",
      "1. Press 1 to enter a new book into the system.\n",
      "2. Press 2 to display all records.\n",
      "3. Press 3 to search book by title and print its details\n",
      "4. Press 4 to search book by author and print its details\n",
      "5. Press anything else to exit\n",
      "Enter your choice:  1\n"
     ]
    },
    {
     "name": "stdout",
     "output_type": "stream",
     "text": [
      "\n"
     ]
    },
    {
     "name": "stdin",
     "output_type": "stream",
     "text": [
      "Enter title of book:  Principles of Soft Computing using Python\n",
      "Enter name of author of book:  S. N. Sivanandam\n",
      "Enter price of book:  300\n"
     ]
    },
    {
     "name": "stdout",
     "output_type": "stream",
     "text": [
      "\n",
      "***********************************************************\n"
     ]
    },
    {
     "name": "stdin",
     "output_type": "stream",
     "text": [
      "Enter your choice:\n",
      "1. Press 1 to enter a new book into the system.\n",
      "2. Press 2 to display all records.\n",
      "3. Press 3 to search book by title and print its details\n",
      "4. Press 4 to search book by author and print its details\n",
      "5. Press anything else to exit\n",
      "Enter your choice:  1\n"
     ]
    },
    {
     "name": "stdout",
     "output_type": "stream",
     "text": [
      "\n"
     ]
    },
    {
     "name": "stdin",
     "output_type": "stream",
     "text": [
      "Enter title of book:  Let Us C\n",
      "Enter name of author of book:  Yashavant Kanetkar\n",
      "Enter price of book:  400\n"
     ]
    },
    {
     "name": "stdout",
     "output_type": "stream",
     "text": [
      "\n",
      "***********************************************************\n"
     ]
    },
    {
     "name": "stdin",
     "output_type": "stream",
     "text": [
      "Enter your choice:\n",
      "1. Press 1 to enter a new book into the system.\n",
      "2. Press 2 to display all records.\n",
      "3. Press 3 to search book by title and print its details\n",
      "4. Press 4 to search book by author and print its details\n",
      "5. Press anything else to exit\n",
      "Enter your choice:  2\n"
     ]
    },
    {
     "name": "stdout",
     "output_type": "stream",
     "text": [
      "-----------\n",
      "Title of book:  Programming Basics with Python\n",
      "Author of book:  Sharma, Deepa\n",
      "Price of book:  100\n",
      "-----------\n",
      "\n",
      "-----------\n",
      "Title of book:  Programming Basics with C++\n",
      "Author of book:  Mark, Sharma, Nicholas\n",
      "Price of book:  200\n",
      "-----------\n",
      "\n",
      "-----------\n",
      "Title of book:  Principles of Soft Computing using Python\n",
      "Author of book:  S. N. Sivanandam\n",
      "Price of book:  300\n",
      "-----------\n",
      "\n",
      "-----------\n",
      "Title of book:  Let Us C\n",
      "Author of book:  Yashavant Kanetkar\n",
      "Price of book:  400\n",
      "-----------\n",
      "\n",
      "\n",
      "***********************************************************\n"
     ]
    },
    {
     "name": "stdin",
     "output_type": "stream",
     "text": [
      "Enter your choice:\n",
      "1. Press 1 to enter a new book into the system.\n",
      "2. Press 2 to display all records.\n",
      "3. Press 3 to search book by title and print its details\n",
      "4. Press 4 to search book by author and print its details\n",
      "5. Press anything else to exit\n",
      "Enter your choice:  3\n",
      "Enter the search keyword in title:  python\n"
     ]
    },
    {
     "name": "stdout",
     "output_type": "stream",
     "text": [
      "-----------\n",
      "Title of book:  Programming Basics with Python\n",
      "Author of book:  Sharma, Deepa\n",
      "Price of book:  100\n",
      "-----------\n",
      "-----------\n",
      "Title of book:  Principles of Soft Computing using Python\n",
      "Author of book:  S. N. Sivanandam\n",
      "Price of book:  300\n",
      "-----------\n",
      "\n",
      "***********************************************************\n"
     ]
    },
    {
     "name": "stdin",
     "output_type": "stream",
     "text": [
      "Enter your choice:\n",
      "1. Press 1 to enter a new book into the system.\n",
      "2. Press 2 to display all records.\n",
      "3. Press 3 to search book by title and print its details\n",
      "4. Press 4 to search book by author and print its details\n",
      "5. Press anything else to exit\n",
      "Enter your choice:  3\n",
      "Enter the search keyword in title:  sharma\n"
     ]
    },
    {
     "name": "stdout",
     "output_type": "stream",
     "text": [
      "\n",
      "***********************************************************\n"
     ]
    },
    {
     "name": "stdin",
     "output_type": "stream",
     "text": [
      "Enter your choice:\n",
      "1. Press 1 to enter a new book into the system.\n",
      "2. Press 2 to display all records.\n",
      "3. Press 3 to search book by title and print its details\n",
      "4. Press 4 to search book by author and print its details\n",
      "5. Press anything else to exit\n",
      "Enter your choice:  4\n",
      "Enter the search keyword in author name:  sharma\n"
     ]
    },
    {
     "name": "stdout",
     "output_type": "stream",
     "text": [
      "-----------\n",
      "Title of book:  Programming Basics with Python\n",
      "Author of book:  Sharma, Deepa\n",
      "Price of book:  100\n",
      "-----------\n",
      "-----------\n",
      "Title of book:  Programming Basics with C++\n",
      "Author of book:  Mark, Sharma, Nicholas\n",
      "Price of book:  200\n",
      "-----------\n",
      "\n",
      "***********************************************************\n"
     ]
    },
    {
     "name": "stdin",
     "output_type": "stream",
     "text": [
      "Enter your choice:\n",
      "1. Press 1 to enter a new book into the system.\n",
      "2. Press 2 to display all records.\n",
      "3. Press 3 to search book by title and print its details\n",
      "4. Press 4 to search book by author and print its details\n",
      "5. Press anything else to exit\n",
      "Enter your choice:  5\n"
     ]
    },
    {
     "name": "stdout",
     "output_type": "stream",
     "text": [
      "Invalid choice! Exiting the program\n"
     ]
    }
   ],
   "source": [
    "# Write a menu driven program that keeps record of books and journals available in a library. \n",
    "# class book\n",
    "# attributes of constructor - title, author name, price of book\n",
    "# two functions - read and display()\n",
    "# use logic that if you have list of books in a list, then you have a choice for read() and display() for that particular book.\n",
    "\n",
    "\n",
    "class Book():\n",
    "    def __init__(self,):\n",
    "        self.title = \"\"\n",
    "        self.author = \"\"\n",
    "        self.price = \"\"\n",
    "    def read(self):\n",
    "        print()\n",
    "        self.title = input(\"Enter title of book: \")\n",
    "        self.author = input(\"Enter name of author of book: \")\n",
    "        self.price = input(\"Enter price of book: \")\n",
    "    def display(self):\n",
    "        print(\"-----------\")\n",
    "        print(\"Title of book: \", self.title)\n",
    "        print(\"Author of book: \", self.author)\n",
    "        print(\"Price of book: \", self.price)\n",
    "        print(\"-----------\")\n",
    "\n",
    "list_of_books = []\n",
    "while True:\n",
    "    print()\n",
    "    print(\"***********************************************************\")\n",
    "    ch = input(\"Enter your choice:\\n1. Press 1 to enter a new book into the system.\\n2. Press 2 to display all records.\\n3. Press 3 to search book by title and print its details\\n4. Press 4 to search book by author and print its details\\n5. Press anything else to exit\\nEnter your choice: \")\n",
    "    if int(ch) == 1:\n",
    "        obj = Book()\n",
    "        obj.read()\n",
    "        list_of_books.append(obj)\n",
    "    elif int(ch) == 2:\n",
    "        for i in list_of_books:\n",
    "            i.display()\n",
    "            print()\n",
    "    elif int(ch) == 3:\n",
    "        pat = input(\"Enter the search keyword in title: \")\n",
    "        for i in list_of_books:\n",
    "            if pat.lower() in i.title.lower():\n",
    "                i.display()\n",
    "    elif int(ch) == 4:\n",
    "        pat = input(\"Enter the search keyword in author name: \")\n",
    "        for i in list_of_books:\n",
    "            if pat.lower() in i.author.lower():\n",
    "                i.display()\n",
    "    else:\n",
    "        print(\"Invalid choice! Exiting the program\")\n",
    "        break\n",
    "    "
   ]
  },
  {
   "cell_type": "code",
   "execution_count": null,
   "id": "d4af8449-802c-43b7-b0f7-314098a12bb0",
   "metadata": {},
   "outputs": [],
   "source": []
  },
  {
   "cell_type": "code",
   "execution_count": null,
   "id": "a2f8e5db-a122-4bee-8c17-54b919d25e5e",
   "metadata": {},
   "outputs": [],
   "source": []
  }
 ],
 "metadata": {
  "kernelspec": {
   "display_name": "Python 3 (ipykernel)",
   "language": "python",
   "name": "python3"
  },
  "language_info": {
   "codemirror_mode": {
    "name": "ipython",
    "version": 3
   },
   "file_extension": ".py",
   "mimetype": "text/x-python",
   "name": "python",
   "nbconvert_exporter": "python",
   "pygments_lexer": "ipython3",
   "version": "3.12.5"
  }
 },
 "nbformat": 4,
 "nbformat_minor": 5
}
