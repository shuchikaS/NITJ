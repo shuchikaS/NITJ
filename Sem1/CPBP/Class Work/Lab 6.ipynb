{
 "cells": [
  {
   "cell_type": "code",
   "execution_count": 6,
   "id": "2edaf23f",
   "metadata": {},
   "outputs": [
    {
     "name": "stdout",
     "output_type": "stream",
     "text": [
      "Initial Array: \n",
      "1 2 3 4 5 6 7 8 9 10 \n",
      "Slicing elements in a range 3-8: \n",
      "array('i', [4, 5, 6, 7, 8])\n",
      "\n",
      "Elements sliced from 5th element till the end: \n",
      "array('i', [6, 7, 8, 9, 10])\n",
      "\n",
      "Printing all elements using slice operartion: \n",
      "array('i', [1, 2, 3, 4, 5, 6, 7, 8, 9, 10])\n"
     ]
    }
   ],
   "source": [
    "# Arrays continued\n",
    "\n",
    "import array as arr\n",
    "l = [1, 2, 3, 4, 5, 6, 7, 8, 9, 10]\n",
    "a = arr.array('i', l)\n",
    "print(\"Initial Array: \")\n",
    "for i in (a):\n",
    "    print(i, end = \" \")\n",
    "    \n",
    "sliced_array = a[3:8]\n",
    "print(\"\\nSlicing elements in a range 3-8: \")\n",
    "print(sliced_array)\n",
    "sliced_array = a[5:]\n",
    "print(\"\\nElements sliced from 5th element till the end: \")\n",
    "print(sliced_array)\n",
    "sliced_array=a[:]\n",
    "print(\"\\nPrinting all elements using slice operartion: \")\n",
    "print(sliced_array)\n"
   ]
  },
  {
   "cell_type": "code",
   "execution_count": 12,
   "id": "b9c9f14c",
   "metadata": {},
   "outputs": [
    {
     "name": "stdout",
     "output_type": "stream",
     "text": [
      "1 2 3 1 2 5 \n",
      "After updation\n",
      "1 2 6 1 2 5 "
     ]
    }
   ],
   "source": [
    "# Array Updation\n",
    "import array\n",
    "\n",
    "arr = array.array('i', [1,2,3,1,2,5])\n",
    "for i in range(0,6):\n",
    "    print(arr[i], end = \" \")\n",
    "\n",
    "print(\"\\nAfter updation\")\n",
    "arr[2]=6\n",
    "for i in range(0,6):\n",
    "    print(arr[i], end=\" \")"
   ]
  },
  {
   "cell_type": "code",
   "execution_count": 13,
   "id": "c3df5477",
   "metadata": {},
   "outputs": [
    {
     "name": "stdout",
     "output_type": "stream",
     "text": [
      "No of occurrences of 2:  2\n"
     ]
    }
   ],
   "source": [
    "# Array count\n",
    "\n",
    "import array\n",
    "arr = array.array('i', [1,2,3,1,2,5])\n",
    "count = arr.count(2)\n",
    "print(\"No of occurrences of 2: \", count)"
   ]
  },
  {
   "cell_type": "code",
   "execution_count": 20,
   "id": "a1636f4e",
   "metadata": {},
   "outputs": [
    {
     "name": "stdout",
     "output_type": "stream",
     "text": [
      "['amy', 'aman', 'sapna', 'rohan', 'Gaurav']\n",
      "['Gaurav', 'aman', 'amy', 'rohan', 'sapna']\n"
     ]
    }
   ],
   "source": [
    "# Sort list according to length of elements\n",
    "\n",
    "l1 = [\"amy\", \"sapna\", \"rohan\", \"aman\", \"Gaurav\"]\n",
    "\n",
    "# Method 1 - INBUILT FUNCTION\n",
    "s1 = sorted(l1, key=len)\n",
    "print(s1)\n",
    "\n",
    "s2 = sorted(l1)\n",
    "print(s2)\n"
   ]
  },
  {
   "cell_type": "code",
   "execution_count": 18,
   "id": "5003c7e1",
   "metadata": {},
   "outputs": [
    {
     "name": "stdout",
     "output_type": "stream",
     "text": [
      "[11, 12, 22, 25, 34, 64, 90]\n"
     ]
    }
   ],
   "source": [
    "def bubble_sort(arr):\n",
    "    n = len(arr)\n",
    "    \n",
    "    for i in range(n):\n",
    "        for j in range(n-i-1):\n",
    "            if arr[j] > arr[j+1]:\n",
    "                arr[j], arr[j+1] = arr[j+1], arr[j]\n",
    "sample_list =  [64, 34, 25, 12, 22, 11, 90]\n",
    "\n",
    "bubble_sort(sample_list)\n",
    "print(sample_list)"
   ]
  },
  {
   "cell_type": "code",
   "execution_count": null,
   "id": "abffc18b",
   "metadata": {},
   "outputs": [],
   "source": [
    "# TUPLES\n",
    "\n",
    "'''\n",
    "Create empty tuple: \n",
    "    tuple1 = ()\n",
    "\n",
    "Create tuple using string: \n",
    "    tuple1 = ('Hello', 'Sam')\n",
    "\n",
    "Create tuple using list: \n",
    "    list1 = ['Hello', 'Sam']\n",
    "    print(tuple(list1))\n",
    "\n",
    "Create a tuple using built-in function: \n",
    "    tuple1 = tuple('Sam')\n",
    "'''"
   ]
  },
  {
   "cell_type": "code",
   "execution_count": 21,
   "id": "58c98c90",
   "metadata": {},
   "outputs": [
    {
     "name": "stdout",
     "output_type": "stream",
     "text": [
      "(5, 'aiojdio', 7, 'JFidsof')\n"
     ]
    }
   ],
   "source": [
    "# Creating a tuple with mixed datatypes\n",
    "tuple1 = (5, 'aiojdio', 7, 'JFidsof')\n",
    "print(tuple1)"
   ]
  },
  {
   "cell_type": "code",
   "execution_count": 22,
   "id": "137e68ca",
   "metadata": {},
   "outputs": [
    {
     "name": "stdout",
     "output_type": "stream",
     "text": [
      "((1, 2, 3), ('a', 'b', 'c'))\n"
     ]
    }
   ],
   "source": [
    "# Nested tuples\n",
    "\n",
    "t1 = (1,2,3)\n",
    "t2 = ('a', 'b', 'c')\n",
    "t3 = (t1, t2)\n",
    "print(t3)"
   ]
  },
  {
   "cell_type": "code",
   "execution_count": 23,
   "id": "ad52df5c",
   "metadata": {},
   "outputs": [
    {
     "name": "stdout",
     "output_type": "stream",
     "text": [
      "('Sam', 'Sam', 'Sam')\n"
     ]
    }
   ],
   "source": [
    "# Creating a tuple with repetition\n",
    "t1 = ('Sam',)*3\n",
    "print(t1)"
   ]
  },
  {
   "cell_type": "code",
   "execution_count": 25,
   "id": "fe566967",
   "metadata": {},
   "outputs": [
    {
     "name": "stdout",
     "output_type": "stream",
     "text": [
      "('Sam',)\n",
      "(('Sam',),)\n",
      "((('Sam',),),)\n",
      "(((('Sam',),),),)\n",
      "((((('Sam',),),),),)\n"
     ]
    }
   ],
   "source": [
    "# Creating a tuple using Loop\n",
    "t1 = ('Sam')\n",
    "n = 5\n",
    "for i in range(int(n)):\n",
    "    t1 = (t1,)\n",
    "    print(t1)"
   ]
  },
  {
   "cell_type": "code",
   "execution_count": 28,
   "id": "7c08864b",
   "metadata": {},
   "outputs": [
    {
     "name": "stdout",
     "output_type": "stream",
     "text": [
      "('S', 'a', 'm')\n",
      "S\n",
      "sam\n",
      "is\n",
      "good\n"
     ]
    }
   ],
   "source": [
    "# Tuple operations\n",
    "\n",
    "t1 = tuple(\"Sam\")\n",
    "print(t1)\n",
    "print(t1[0])\n",
    "\n",
    "# Tuple Unpacking:\n",
    "t1 = (\"sam\", \"is\", \"good\")\n",
    "a, b, c = t1\n",
    "print(a)\n",
    "print(b)\n",
    "print(c)"
   ]
  },
  {
   "cell_type": "code",
   "execution_count": 30,
   "id": "5fa3baab",
   "metadata": {},
   "outputs": [
    {
     "name": "stdout",
     "output_type": "stream",
     "text": [
      "(1, 2, 3, 'run', 'to', 'the', 'tree')\n"
     ]
    }
   ],
   "source": [
    "# Concatenation of Tuples\n",
    "t1 = (1, 2, 3)\n",
    "t2 = (\"run\", \"to\", \"the\", \"tree\")\n",
    "t3 = t1 + t2\n",
    "print(t3)"
   ]
  },
  {
   "cell_type": "code",
   "execution_count": 31,
   "id": "3cc989b6",
   "metadata": {},
   "outputs": [
    {
     "name": "stdout",
     "output_type": "stream",
     "text": [
      "('R', 'A', 'N', 'S', 'F', 'O', 'R', 'M', 'E', 'R', 'S')\n",
      "('S', 'R', 'E', 'M', 'R', 'O', 'F', 'S', 'N', 'A', 'R', 'T')\n",
      "('A', 'N', 'S')\n"
     ]
    }
   ],
   "source": [
    "# Slicing of tuples\n",
    "\n",
    "t1 = tuple(\"TRANSFORMERS\")\n",
    "print(t1[1:])\n",
    "print(t1[::-1])\n",
    "print(t1[2:5])"
   ]
  },
  {
   "cell_type": "code",
   "execution_count": 36,
   "id": "e32fa606",
   "metadata": {},
   "outputs": [
    {
     "name": "stdout",
     "output_type": "stream",
     "text": [
      "(0, 1, 2, 3, 4)\n"
     ]
    },
    {
     "ename": "NameError",
     "evalue": "name 't1' is not defined",
     "output_type": "error",
     "traceback": [
      "\u001b[1;31m---------------------------------------------------------------------------\u001b[0m",
      "\u001b[1;31mNameError\u001b[0m                                 Traceback (most recent call last)",
      "\u001b[1;32m<ipython-input-36-63f7ee7ca0c3>\u001b[0m in \u001b[0;36m<module>\u001b[1;34m\u001b[0m\n\u001b[0;32m      4\u001b[0m \u001b[0mprint\u001b[0m\u001b[1;33m(\u001b[0m\u001b[0mt1\u001b[0m\u001b[1;33m)\u001b[0m\u001b[1;33m\u001b[0m\u001b[1;33m\u001b[0m\u001b[0m\n\u001b[0;32m      5\u001b[0m \u001b[1;32mdel\u001b[0m\u001b[1;33m(\u001b[0m\u001b[0mt1\u001b[0m\u001b[1;33m)\u001b[0m\u001b[1;33m\u001b[0m\u001b[1;33m\u001b[0m\u001b[0m\n\u001b[1;32m----> 6\u001b[1;33m \u001b[0mprint\u001b[0m\u001b[1;33m(\u001b[0m\u001b[0mt1\u001b[0m\u001b[1;33m)\u001b[0m\u001b[1;33m\u001b[0m\u001b[1;33m\u001b[0m\u001b[0m\n\u001b[0m",
      "\u001b[1;31mNameError\u001b[0m: name 't1' is not defined"
     ]
    }
   ],
   "source": [
    "# Deleting a tuple\n",
    "\n",
    "t1 = (0, 1, 2, 3, 4)\n",
    "print(t1)\n",
    "del(t1)\n",
    "print(t1)"
   ]
  },
  {
   "cell_type": "code",
   "execution_count": null,
   "id": "0cc4180d",
   "metadata": {},
   "outputs": [],
   "source": [
    "# Differences and similarities between list and tuples\n",
    "\n",
    "# Read about Tuple Assignment (how many ways there are to assign a tuple)"
   ]
  },
  {
   "cell_type": "code",
   "execution_count": 37,
   "id": "28a5ced7",
   "metadata": {},
   "outputs": [
    {
     "name": "stdout",
     "output_type": "stream",
     "text": [
      "Highest marks =  99\n",
      "Lowest marks =  12\n"
     ]
    }
   ],
   "source": [
    "# Program to return highest and lowest valyes in a tuple\n",
    "def maxmin(vals):\n",
    "    x = max(vals)\n",
    "    y = min(vals)\n",
    "    return (x,y)\n",
    "\n",
    "vals = (90, 88, 32, 12, 78, 99)\n",
    "(max_marks, min_marks) = maxmin(vals)\n",
    "print(\"Highest marks = \", max_marks)\n",
    "print(\"Lowest marks = \", min_marks)"
   ]
  },
  {
   "cell_type": "code",
   "execution_count": 39,
   "id": "eed79602",
   "metadata": {},
   "outputs": [
    {
     "name": "stdout",
     "output_type": "stream",
     "text": [
      "('arav', 97, 'B.Sc.')\n",
      "('raghav', 87, 'BCA')\n"
     ]
    }
   ],
   "source": [
    "# Program to demonstrate use of nested tuples\n",
    "\n",
    "Toppers = ((\"arav\", 97, \"B.Sc.\"), (\"raghav\", 87, \"BCA\"))\n",
    "for i in Toppers:\n",
    "    print(i)"
   ]
  },
  {
   "cell_type": "code",
   "execution_count": null,
   "id": "89ff3fb2",
   "metadata": {},
   "outputs": [],
   "source": [
    "# Use range() and len() on tuples to create suitable iterable"
   ]
  },
  {
   "cell_type": "code",
   "execution_count": null,
   "id": "b8ba7ba0",
   "metadata": {},
   "outputs": [],
   "source": [
    "# READ ABOUT NUMPY"
   ]
  },
  {
   "cell_type": "code",
   "execution_count": null,
   "id": "a8416735",
   "metadata": {},
   "outputs": [],
   "source": []
  },
  {
   "cell_type": "code",
   "execution_count": null,
   "id": "6e503005",
   "metadata": {},
   "outputs": [],
   "source": []
  },
  {
   "cell_type": "code",
   "execution_count": null,
   "id": "8a061a7b",
   "metadata": {},
   "outputs": [],
   "source": []
  }
 ],
 "metadata": {
  "kernelspec": {
   "display_name": "Python 3",
   "language": "python",
   "name": "python3"
  },
  "language_info": {
   "codemirror_mode": {
    "name": "ipython",
    "version": 3
   },
   "file_extension": ".py",
   "mimetype": "text/x-python",
   "name": "python",
   "nbconvert_exporter": "python",
   "pygments_lexer": "ipython3",
   "version": "3.7.3"
  }
 },
 "nbformat": 4,
 "nbformat_minor": 5
}
