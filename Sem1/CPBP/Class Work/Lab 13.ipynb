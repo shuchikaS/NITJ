{
 "cells": [
  {
   "cell_type": "markdown",
   "id": "3283342d",
   "metadata": {},
   "source": [
    "# STRING MODULE"
   ]
  },
  {
   "cell_type": "code",
   "execution_count": 2,
   "id": "e5d1a70e",
   "metadata": {},
   "outputs": [
    {
     "name": "stdout",
     "output_type": "stream",
     "text": [
      "WELCOME TO THE WORLD OF PYTHON\n",
      "welcome to the world of python\n",
      "['Welcome', 'to', 'the', 'world', 'of', 'Python']\n",
      "Welcome,to,the,world,of,Python\n",
      "3\n",
      "Welcome to : world of Python\n",
      "21\n"
     ]
    }
   ],
   "source": [
    "# WAP that uses different methods like upper, lower, split, join, count, replace, find on string object\n",
    "\n",
    "s = \"Welcome to the world of Python\"\n",
    "print(s.upper())\n",
    "print(s.lower())\n",
    "a = s.split(' ')\n",
    "print(a)\n",
    "print(','.join(a))\n",
    "print(s.count('t'))\n",
    "print(s.replace('the', ':'))\n",
    "print(s.find('of'))"
   ]
  },
  {
   "cell_type": "code",
   "execution_count": 37,
   "id": "3c8db3a6",
   "metadata": {},
   "outputs": [
    {
     "name": "stdout",
     "output_type": "stream",
     "text": [
      "abcdefghijklmnopqrstuvwxyzABCDEFGHIJKLMNOPQRSTUVWXYZ\n",
      "['Formatter', 'Template', '_ChainMap', '_TemplateMetaclass', '__all__', '__builtins__', '__cached__', '__doc__', '__file__', '__loader__', '__name__', '__package__', '__spec__', '_re', '_string', 'ascii_letters', 'ascii_lowercase', 'ascii_uppercase', 'capwords', 'digits', 'hexdigits', 'octdigits', 'printable', 'punctuation', 'whitespace']\n",
      "<class 'str'>\n"
     ]
    },
    {
     "ename": "AttributeError",
     "evalue": "module 'string' has no attribute 'ascii_find'",
     "output_type": "error",
     "traceback": [
      "\u001b[1;31m---------------------------------------------------------------------------\u001b[0m",
      "\u001b[1;31mAttributeError\u001b[0m                            Traceback (most recent call last)",
      "\u001b[1;32m<ipython-input-37-69ef73ffbafb>\u001b[0m in \u001b[0;36m<module>\u001b[1;34m\u001b[0m\n\u001b[0;32m      3\u001b[0m \u001b[0mprint\u001b[0m\u001b[1;33m(\u001b[0m\u001b[0mdir\u001b[0m\u001b[1;33m(\u001b[0m\u001b[0mstring\u001b[0m\u001b[1;33m)\u001b[0m\u001b[1;33m)\u001b[0m\u001b[1;33m\u001b[0m\u001b[1;33m\u001b[0m\u001b[0m\n\u001b[0;32m      4\u001b[0m \u001b[0mprint\u001b[0m\u001b[1;33m(\u001b[0m\u001b[0mtype\u001b[0m\u001b[1;33m(\u001b[0m\u001b[0mstring\u001b[0m\u001b[1;33m.\u001b[0m\u001b[0mdigits\u001b[0m\u001b[1;33m)\u001b[0m\u001b[1;33m)\u001b[0m\u001b[1;33m\u001b[0m\u001b[1;33m\u001b[0m\u001b[0m\n\u001b[1;32m----> 5\u001b[1;33m \u001b[0mprint\u001b[0m\u001b[1;33m(\u001b[0m\u001b[0mstring\u001b[0m\u001b[1;33m.\u001b[0m\u001b[0mascii_find\u001b[0m\u001b[1;33m(\u001b[0m\u001b[0mstring\u001b[0m\u001b[1;33m.\u001b[0m\u001b[0mascii_lowercase\u001b[0m\u001b[1;33m,\u001b[0m\u001b[1;34m'g'\u001b[0m\u001b[1;33m)\u001b[0m \u001b[1;33m!=\u001b[0m \u001b[1;33m-\u001b[0m\u001b[1;36m1\u001b[0m\u001b[1;33m)\u001b[0m\u001b[1;33m\u001b[0m\u001b[1;33m\u001b[0m\u001b[0m\n\u001b[0m",
      "\u001b[1;31mAttributeError\u001b[0m: module 'string' has no attribute 'ascii_find'"
     ]
    }
   ],
   "source": [
    "import string\n",
    "print(string.ascii_letters)\n",
    "print(dir(string))\n",
    "print(type(string.digits))\n",
    "print(string.find(string.ascii_lowercase,'g') != -1)"
   ]
  },
  {
   "cell_type": "code",
   "execution_count": 36,
   "id": "67b9df3f",
   "metadata": {},
   "outputs": [
    {
     "name": "stdout",
     "output_type": "stream",
     "text": [
      "True\n"
     ]
    }
   ],
   "source": [
    "print('g' in string.ascii_lowercase)"
   ]
  },
  {
   "cell_type": "code",
   "execution_count": 31,
   "id": "7364885d",
   "metadata": {},
   "outputs": [
    {
     "name": "stdout",
     "output_type": "stream",
     "text": [
      "True\n"
     ]
    }
   ],
   "source": [
    "ch = 'g'\n",
    "print('a' <= ch <= 'z')"
   ]
  },
  {
   "cell_type": "markdown",
   "id": "08646d96",
   "metadata": {},
   "source": [
    "# Regular Expressions"
   ]
  },
  {
   "cell_type": "code",
   "execution_count": 41,
   "id": "ed49f7af",
   "metadata": {},
   "outputs": [
    {
     "name": "stdout",
     "output_type": "stream",
     "text": [
      "Match not found!\n"
     ]
    }
   ],
   "source": [
    "import re\n",
    "str1 = \"She sells sea shells on the sea shore\"\n",
    "pattern1 = \"sells\"\n",
    "if re.match(pattern1, str1):\n",
    "    print(\"Match found!\")\n",
    "else:\n",
    "    print(\"Match not found!\")"
   ]
  },
  {
   "cell_type": "code",
   "execution_count": 47,
   "id": "30fa6c90",
   "metadata": {},
   "outputs": [
    {
     "name": "stdout",
     "output_type": "stream",
     "text": [
      "Match found!\n"
     ]
    }
   ],
   "source": [
    "pattern2 = \"She\"\n",
    "if re.match(pattern2, str1):\n",
    "    print(\"Match found!\")\n",
    "else:\n",
    "    print(\"Match not found!\")"
   ]
  },
  {
   "cell_type": "code",
   "execution_count": 49,
   "id": "413e0900",
   "metadata": {},
   "outputs": [
    {
     "name": "stdout",
     "output_type": "stream",
     "text": [
      "Match found!\n"
     ]
    }
   ],
   "source": [
    "pattern = \"sea\"\n",
    "if re.search(pattern, str1):\n",
    "    print(\"Match found!\")\n",
    "else:\n",
    "    print(\"Match not found!\")"
   ]
  },
  {
   "cell_type": "code",
   "execution_count": 51,
   "id": "f751f81c",
   "metadata": {},
   "outputs": [
    {
     "data": {
      "text/plain": [
       "'She sells ocean shells on the sea shore'"
      ]
     },
     "execution_count": 51,
     "metadata": {},
     "output_type": "execute_result"
    }
   ],
   "source": [
    "patern = \"sea\"\n",
    "repl = \"ocean\"\n",
    "re.sub(patern, repl, str1, 1)\n",
    "# Only 1 occurrence was replaced as we provided max = 1"
   ]
  },
  {
   "cell_type": "code",
   "execution_count": 83,
   "id": "c2291344",
   "metadata": {},
   "outputs": [
    {
     "name": "stdout",
     "output_type": "stream",
     "text": [
      "LXI2013 VXI2015 VDI20104 "
     ]
    }
   ],
   "source": [
    "pattern = r\"[a-zA-Z]+\\d+\" \"\"\n",
    "# Patterns that begin with one or more characters followed by space and followed by one or more digits\n",
    "matches = re.findall(pattern, \"LXI2013,VXI2015,VDI20104,Maruti Suzuki Cars in India\")\n",
    "for match in matches:\n",
    "    print(match, end=\" \")"
   ]
  },
  {
   "cell_type": "code",
   "execution_count": 88,
   "id": "65a3baec",
   "metadata": {},
   "outputs": [
    {
     "name": "stdout",
     "output_type": "stream",
     "text": [
      "0 8 (0, 8)\n",
      "9 17 (9, 17)\n",
      "18 27 (18, 27)\n"
     ]
    }
   ],
   "source": [
    "pattern = r\"[a-z A-Z]+\\d+\" \"\"\n",
    "# Patterns that begin with one or more characters followed by space and followed by one or more digits\n",
    "matches = re.finditer(pattern, \"LXI 2013,VXI 2015,VDI 20104,Maruti Suzuki Cars available with us\")\n",
    "for match in matches:\n",
    "    print(match.start(), match.end(), match.span())"
   ]
  },
  {
   "cell_type": "code",
   "execution_count": 95,
   "id": "bde1b313",
   "metadata": {},
   "outputs": [
    {
     "name": "stdout",
     "output_type": "stream",
     "text": [
      "Found\n",
      "<re.Match object; span=(2, 3), match='u'>\n"
     ]
    }
   ],
   "source": [
    "# WAP that checks if the string has atleast one vowel\n",
    "\n",
    "import re\n",
    "vowels = r\"[aeiouAEIOU]\"\n",
    "str1 = \"Shuchika Sharma\"\n",
    "# str1 = \"Shchk Shrm\"\n",
    "\n",
    "if re.search(vowels, str1):\n",
    "    print(\"Found\")\n",
    "else:\n",
    "    print(\"Not found\")\n",
    "print(re.search(vowels, str1))\n"
   ]
  },
  {
   "cell_type": "code",
   "execution_count": null,
   "id": "e3445f68",
   "metadata": {},
   "outputs": [],
   "source": []
  },
  {
   "cell_type": "code",
   "execution_count": null,
   "id": "6ae9b32a",
   "metadata": {},
   "outputs": [],
   "source": []
  },
  {
   "cell_type": "code",
   "execution_count": null,
   "id": "ebf3c3be",
   "metadata": {},
   "outputs": [],
   "source": []
  }
 ],
 "metadata": {
  "kernelspec": {
   "display_name": "Python 3",
   "language": "python",
   "name": "python3"
  },
  "language_info": {
   "codemirror_mode": {
    "name": "ipython",
    "version": 3
   },
   "file_extension": ".py",
   "mimetype": "text/x-python",
   "name": "python",
   "nbconvert_exporter": "python",
   "pygments_lexer": "ipython3",
   "version": "3.7.3"
  }
 },
 "nbformat": 4,
 "nbformat_minor": 5
}
