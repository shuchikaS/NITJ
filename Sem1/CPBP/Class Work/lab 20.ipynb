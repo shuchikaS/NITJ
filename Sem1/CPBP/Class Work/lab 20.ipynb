{
 "cells": [
  {
   "cell_type": "code",
   "execution_count": 5,
   "id": "dc5e421e-415c-4943-b3a4-2a2dc659f840",
   "metadata": {},
   "outputs": [
    {
     "name": "stdin",
     "output_type": "stream",
     "text": [
      "Enter the numerator:  a\n"
     ]
    },
    {
     "name": "stdout",
     "output_type": "stream",
     "text": [
      "Values must be integers!!\n"
     ]
    }
   ],
   "source": [
    "# WAP to handle the divide by zero exception\n",
    "\n",
    "try:\n",
    "    num = int(input(\"Enter the numerator: \"))\n",
    "    deno = int(input(\"Enter the denominator: \"))\n",
    "\n",
    "    q = num/deno\n",
    "    print('Quotient is: ', q)\n",
    "except ZeroDivisionError:\n",
    "    print(\"Invalid Value of Denominator(Zero)!\")\n",
    "except ValueError:\n",
    "    print(\"Values must be integers!!\")"
   ]
  },
  {
   "cell_type": "code",
   "execution_count": 6,
   "id": "b2ac00e8-eb29-4b82-a07c-46f575d7a213",
   "metadata": {},
   "outputs": [
    {
     "name": "stdout",
     "output_type": "stream",
     "text": [
      "Exception Raised!!\n"
     ]
    },
    {
     "name": "stdin",
     "output_type": "stream",
     "text": [
      "Enter the number:  a\n"
     ]
    }
   ],
   "source": [
    "# Multiple exceptions in a single block\n",
    "\n",
    "try:\n",
    "    num = int(input(\"Enter the number: \"))\n",
    "    print(num**2)\n",
    "\n",
    "except (KeyboardInterrupt, TypeError, ValueError):\n",
    "    print(\"Exception Raised!!\")"
   ]
  },
  {
   "cell_type": "code",
   "execution_count": null,
   "id": "3fd861e6-5cc8-485f-913b-3cfe59a34e29",
   "metadata": {},
   "outputs": [],
   "source": [
    "# Except block without exception\n",
    "\n",
    "# try:\n",
    "#     operation statements\n",
    "# except:\n",
    "#     multiple statements\n",
    "# else:\n",
    "#     This block is executed if there is no error\n",
    "\n"
   ]
  },
  {
   "cell_type": "code",
   "execution_count": 7,
   "id": "4f9c09d1-e488-48a6-8f5c-1451b065c828",
   "metadata": {},
   "outputs": [
    {
     "name": "stdout",
     "output_type": "stream",
     "text": [
      "10\n",
      "Exception occurred\n"
     ]
    }
   ],
   "source": [
    "# Raise Exceptions\n",
    "\n",
    "try:\n",
    "    num = 10\n",
    "    print(num)\n",
    "    raise ValueError\n",
    "except:\n",
    "    print(\"Exception occurred\")"
   ]
  },
  {
   "cell_type": "code",
   "execution_count": 8,
   "id": "9d341ce1-0482-49c4-981b-1410efc62f74",
   "metadata": {},
   "outputs": [
    {
     "name": "stdout",
     "output_type": "stream",
     "text": [
      "10\n",
      "<class 'ValueError'>\n",
      "()\n"
     ]
    }
   ],
   "source": [
    "# Instantiating Exceptions\n",
    "\n",
    "try:\n",
    "    num = 10\n",
    "    print(num)\n",
    "    raise ValueError\n",
    "except Exception as errorobj:\n",
    "    print(type(errorobj))\n",
    "    print(errorobj.args)"
   ]
  },
  {
   "cell_type": "code",
   "execution_count": 1,
   "id": "12cb6413-3e44-4003-9f94-ad0a47677185",
   "metadata": {},
   "outputs": [
    {
     "name": "stdout",
     "output_type": "stream",
     "text": [
      "Average Marks: 86.25\n",
      "AssertionError: The list of marks cannot be empty!\n"
     ]
    }
   ],
   "source": [
    "# Program to demonstrate the use of assert keyword\n",
    "\n",
    "def calculate_average(marks):\n",
    "    # Ensure the input list is not empty\n",
    "    assert len(marks) > 0, \"The list of marks cannot be empty!\"\n",
    "    \n",
    "    return sum(marks) / len(marks)\n",
    "\n",
    "# Example usage\n",
    "try:\n",
    "    marks_list = [85, 90, 78, 92]\n",
    "    print(\"Average Marks:\", calculate_average(marks_list))\n",
    "    \n",
    "    empty_list = []\n",
    "    print(\"Average Marks:\", calculate_average(empty_list))  # This will trigger the assertion\n",
    "except AssertionError as e:\n",
    "    print(\"AssertionError:\", e)\n"
   ]
  },
  {
   "cell_type": "code",
   "execution_count": 3,
   "id": "4e681fd8-c8b4-43e0-afd2-5d1b7e4db24e",
   "metadata": {},
   "outputs": [
    {
     "name": "stdout",
     "output_type": "stream",
     "text": [
      "Exception occurred\n"
     ]
    }
   ],
   "source": [
    "# Assert\n",
    "\n",
    "# WAP that prompts the use to enter a number and prints the square of that number. If no number is entered, then a KeyBoardInterrupt is generated\n",
    "\n",
    "\n",
    "try:\n",
    "    num = int(input(\"Enter the number: \"))\n",
    "    print(num*num)\n",
    "except KeyboardInterrupt:\n",
    "    print(\"Exception occurred\")"
   ]
  },
  {
   "cell_type": "code",
   "execution_count": 19,
   "id": "6c337b6e-e794-46e0-a542-c62de1a32eef",
   "metadata": {},
   "outputs": [
    {
     "name": "stdout",
     "output_type": "stream",
     "text": [
      "1\n",
      "2\n",
      "3\n",
      "4\n",
      "5\n",
      "6\n",
      "7\n",
      "8\n",
      "9\n",
      "10\n",
      "11\n",
      "12\n",
      "13\n",
      "14\n",
      "15\n",
      "16\n",
      "17\n",
      "18\n",
      "19\n",
      "20\n",
      "Infinite loop count exceeded 20!\n"
     ]
    }
   ],
   "source": [
    "# WAP which infinitely prints natural numbers. Raise the stopIterationException after displaying first 20 numbers tp exit from the program\n",
    "\n",
    "i = 1\n",
    "try:\n",
    "    while(True):\n",
    "        print(i)\n",
    "        if i>=20:\n",
    "            raise StopIteration\n",
    "        i+=1\n",
    "except StopIteration:\n",
    "    print(\"Infinite loop count exceeded 20!\")"
   ]
  },
  {
   "cell_type": "code",
   "execution_count": 24,
   "id": "8200dc25-4cf0-4257-b12b-643fc2675d6e",
   "metadata": {},
   "outputs": [
    {
     "name": "stdout",
     "output_type": "stream",
     "text": [
      "0.02677165357859712\n",
      "UserDefinedExcpetion raised as value enters is less than 0.1\n"
     ]
    }
   ],
   "source": [
    "# WAP that randomly generates a number. Raise a UserDefined exception if the number is below 0.1\n",
    "\n",
    "import random\n",
    "\n",
    "class UserDefinedException(Exception):\n",
    "    pass\n",
    "\n",
    "\n",
    "a = random.random()\n",
    "try:\n",
    "    print(a)\n",
    "    if a<0.1:\n",
    "        raise UserDefinedException\n",
    "\n",
    "except UserDefinedException:\n",
    "    print(\"UserDefinedExcpetion raised as value enters is less than 0.1\")"
   ]
  },
  {
   "cell_type": "code",
   "execution_count": null,
   "id": "8c592afe-e3a7-42e7-91d8-8887a8010b4c",
   "metadata": {},
   "outputs": [],
   "source": [
    "error exception handling\n",
    "operator overloading\n",
    "inheritance\n",
    "classes and objects\n",
    "data structures - list set tuples dict\n",
    "strings\n",
    "func and modules\n",
    "decision control statements - if, else, if else, nested if etc.\n",
    "basics of python - operators, looping, expressions, data types, type conversion, literal constants, break continue, \n"
   ]
  },
  {
   "cell_type": "code",
   "execution_count": null,
   "id": "656c5437-8791-4f32-bd1e-d0ec42d94b83",
   "metadata": {},
   "outputs": [],
   "source": []
  }
 ],
 "metadata": {
  "kernelspec": {
   "display_name": "Python 3 (ipykernel)",
   "language": "python",
   "name": "python3"
  },
  "language_info": {
   "codemirror_mode": {
    "name": "ipython",
    "version": 3
   },
   "file_extension": ".py",
   "mimetype": "text/x-python",
   "name": "python",
   "nbconvert_exporter": "python",
   "pygments_lexer": "ipython3",
   "version": "3.12.5"
  }
 },
 "nbformat": 4,
 "nbformat_minor": 5
}
