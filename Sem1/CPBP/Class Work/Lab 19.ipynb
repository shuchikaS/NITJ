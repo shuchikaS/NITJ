{
 "cells": [
  {
   "cell_type": "code",
   "execution_count": 1,
   "id": "0b7011bf-510d-4fa0-b749-f1182567c750",
   "metadata": {},
   "outputs": [
    {
     "name": "stdout",
     "output_type": "stream",
     "text": [
      "lion roaring\n",
      "animal speaking\n"
     ]
    }
   ],
   "source": [
    "# Single Inheritance\n",
    "\n",
    "class Animal:\n",
    "    def speak(self):\n",
    "        print(\"animal speaking\")\n",
    "\n",
    "class Lion(Animal):\n",
    "    def roar(self):\n",
    "        print(\"lion roaring\")\n",
    "\n",
    "d = Lion()\n",
    "d.roar()\n",
    "d.speak()"
   ]
  },
  {
   "cell_type": "code",
   "execution_count": 3,
   "id": "3455f00d-be0f-4066-b1df-e9d84f6e2185",
   "metadata": {},
   "outputs": [
    {
     "name": "stdout",
     "output_type": "stream",
     "text": [
      "6\n",
      "8\n",
      "0.5\n"
     ]
    }
   ],
   "source": [
    "# Multiple Inheritance\n",
    "\n",
    "class Calculation1:\n",
    "    def addition(self, x, y):\n",
    "        return x+y\n",
    "\n",
    "class Calculation2:\n",
    "    def multiplication(self, x, y):\n",
    "        return x*y\n",
    "\n",
    "class Derived(Calculation1, Calculation2):\n",
    "    def division(self, a, b):\n",
    "        return a/b\n",
    "\n",
    "d = Derived()\n",
    "print(d.addition(2, 4))\n",
    "print(d.multiplication(2, 4))\n",
    "print(d.division(2, 4))"
   ]
  },
  {
   "cell_type": "code",
   "execution_count": 4,
   "id": "da749a40-7961-45a2-ad63-0889011644aa",
   "metadata": {},
   "outputs": [
    {
     "name": "stdout",
     "output_type": "stream",
     "text": [
      "Lion roaring\n",
      "Animal speaking\n",
      "Eating meat...\n"
     ]
    }
   ],
   "source": [
    "# Multi-level inheritance\n",
    "\n",
    "class Animal:\n",
    "    def speak(self):\n",
    "        print(\"Animal speaking\")\n",
    "\n",
    "class Lion(Animal):\n",
    "    def roar(self):\n",
    "        print(\"Lion roaring\")\n",
    "\n",
    "class BabyLion(Lion):\n",
    "    def eat(self):\n",
    "        print(\"Eating meat...\")\n",
    "\n",
    "d = BabyLion()\n",
    "d.roar()\n",
    "d.speak()\n",
    "d.eat()"
   ]
  },
  {
   "cell_type": "code",
   "execution_count": 18,
   "id": "852bbe5e-83f8-41bb-88f0-41566e8242b2",
   "metadata": {},
   "outputs": [
    {
     "name": "stdout",
     "output_type": "stream",
     "text": [
      "Name: John Doe, ID: SE001\n",
      "Managing team tasks\n",
      "Handling client meetings\n",
      "None\n",
      "Name: Alice Smith, ID: QA001\n",
      "Writing code\n",
      "Testing code\n"
     ]
    }
   ],
   "source": [
    "# Hybrid inheritance\n",
    "\n",
    "class Employee:\n",
    "    def __init__(self, name, emp_id):\n",
    "        self.name = name\n",
    "        self.emp_id = emp_id\n",
    "    def display_info(self):\n",
    "        return f'Name: {self.name}, ID: {self.emp_id}'\n",
    "\n",
    "class Manager:\n",
    "    def manage_team(self):\n",
    "        return \"Managing team tasks\"\n",
    "\n",
    "class Developer(Manager):\n",
    "    def write_code(self):\n",
    "        return \"Writing code\"\n",
    "\n",
    "class SalesExecutive(Employee, Manager):\n",
    "    def handle_clients(self):\n",
    "        print(\"Handling client meetings\")\n",
    "\n",
    "class QAEngineer(Employee, Developer):\n",
    "    def test_code(self):\n",
    "        return \"Testing code\"\n",
    "\n",
    "sales_exec = SalesExecutive(\"John Doe\", \"SE001\")\n",
    "qa_engg = QAEngineer(\"Alice Smith\", \"QA001\")\n",
    "\n",
    "print(sales_exec.display_info())\n",
    "print(sales_exec.manage_team())\n",
    "print(sales_exec.handle_clients())\n",
    "\n",
    "print(qa_engg.display_info())\n",
    "print(qa_engg.write_code())\n",
    "print(qa_engg.test_code())"
   ]
  },
  {
   "cell_type": "code",
   "execution_count": 9,
   "id": "4ad682f8-dea0-45f8-be69-afc323514e70",
   "metadata": {},
   "outputs": [
    {
     "name": "stdout",
     "output_type": "stream",
     "text": [
      "8\n"
     ]
    },
    {
     "ename": "TypeError",
     "evalue": "addition() missing 1 required positional argument: 'c'",
     "output_type": "error",
     "traceback": [
      "\u001b[1;31m---------------------------------------------------------------------------\u001b[0m",
      "\u001b[1;31mTypeError\u001b[0m                                 Traceback (most recent call last)",
      "Cell \u001b[1;32mIn[9], line 14\u001b[0m\n\u001b[0;32m     11\u001b[0m     \u001b[38;5;28mprint\u001b[39m(x)\n\u001b[0;32m     13\u001b[0m addition(\u001b[38;5;241m2\u001b[39m, \u001b[38;5;241m5\u001b[39m, \u001b[38;5;241m1\u001b[39m)\n\u001b[1;32m---> 14\u001b[0m \u001b[43maddition\u001b[49m\u001b[43m(\u001b[49m\u001b[38;5;241;43m7\u001b[39;49m\u001b[43m,\u001b[49m\u001b[43m \u001b[49m\u001b[38;5;241;43m2\u001b[39;49m\u001b[43m)\u001b[49m\n",
      "\u001b[1;31mTypeError\u001b[0m: addition() missing 1 required positional argument: 'c'"
     ]
    }
   ],
   "source": [
    "# Polymorphism - Function Overloading\n",
    "\n",
    "# Python does not support method overloading\n",
    "\n",
    "def addition(a,b):\n",
    "    x = a+b\n",
    "    print(x)\n",
    "\n",
    "def addition(a,b, c):\n",
    "    x = a+b+c\n",
    "    print(x)\n",
    "\n",
    "addition(2, 5, 1)\n",
    "addition(7, 2)"
   ]
  },
  {
   "cell_type": "code",
   "execution_count": 12,
   "id": "321afe20-eec5-4cf3-80ca-15b339a1aad0",
   "metadata": {},
   "outputs": [
    {
     "name": "stdout",
     "output_type": "stream",
     "text": [
      "5\n",
      "GKTCSInnovation\n",
      "6\n",
      "GKTCSGKTCSGKTCS\n"
     ]
    }
   ],
   "source": [
    "# Operator overloading\n",
    "\n",
    "print(3+2)\n",
    "\n",
    "print(\"GKTCS\" + \"Innovation\")\n",
    "\n",
    "print(3*2)\n",
    "\n",
    "print(\"GKTCS\" * 3)"
   ]
  },
  {
   "cell_type": "code",
   "execution_count": 16,
   "id": "850fe70f-e91e-429f-837f-000a78f9b07e",
   "metadata": {},
   "outputs": [
    {
     "name": "stdout",
     "output_type": "stream",
     "text": [
      "In Employee Class\n",
      "In Employee Class\n",
      "In Company class\n"
     ]
    }
   ],
   "source": [
    "# Method Overriding\n",
    "\n",
    "class Employee:\n",
    "    def message(self):\n",
    "        print(\"In Employee Class\")\n",
    "\n",
    "class Company(Employee):\n",
    "    pass\n",
    "        \n",
    "class Company2(Employee):\n",
    "    def message(self):\n",
    "        print(\"In Company class\")\n",
    "\n",
    "emp = Employee()\n",
    "emp.message()\n",
    "\n",
    "comp = Company()\n",
    "comp.message()\n",
    "\n",
    "comp2 = Company2()\n",
    "comp2.message()"
   ]
  },
  {
   "cell_type": "code",
   "execution_count": 21,
   "id": "4906fa79-27cd-4987-ac2e-f35488262e76",
   "metadata": {},
   "outputs": [
    {
     "ename": "AttributeError",
     "evalue": "'ruff' object has no attribute '__a'",
     "output_type": "error",
     "traceback": [
      "\u001b[1;31m---------------------------------------------------------------------------\u001b[0m",
      "\u001b[1;31mAttributeError\u001b[0m                            Traceback (most recent call last)",
      "Cell \u001b[1;32mIn[21], line 9\u001b[0m\n\u001b[0;32m      6\u001b[0m         \u001b[38;5;28mself\u001b[39m\u001b[38;5;241m.\u001b[39m__b \u001b[38;5;241m=\u001b[39m y\n\u001b[0;32m      8\u001b[0m obj \u001b[38;5;241m=\u001b[39m ruff(\u001b[38;5;241m10\u001b[39m, \u001b[38;5;241m20\u001b[39m)\n\u001b[1;32m----> 9\u001b[0m \u001b[38;5;28mprint\u001b[39m(\u001b[43mobj\u001b[49m\u001b[38;5;241;43m.\u001b[39;49m\u001b[43m__a\u001b[49m)\n",
      "\u001b[1;31mAttributeError\u001b[0m: 'ruff' object has no attribute '__a'"
     ]
    }
   ],
   "source": [
    "# Encapsulation\n",
    "\n",
    "class ruff:\n",
    "    def __init__(self, x, y):\n",
    "        self.__a = x\n",
    "        self.__b = y\n",
    "\n",
    "obj = ruff(10, 20)\n",
    "print(obj.__a)"
   ]
  },
  {
   "cell_type": "code",
   "execution_count": 30,
   "id": "03c71cd1-f44b-4156-9887-6e2404893eab",
   "metadata": {},
   "outputs": [
    {
     "name": "stdout",
     "output_type": "stream",
     "text": [
      "X = 1, Y = 2\n",
      "X = 10, Y = 20\n",
      "X_relected = 10, Y_reflected = -20\n"
     ]
    }
   ],
   "source": [
    "# WAP that has a class Point. Define another class Location which has 2 objects - location and destination. \n",
    "# Also define a function in location that prints the refelction of destination on the x-axis.\n",
    "\n",
    "class Point:\n",
    "    def __init__(self, x, y):\n",
    "        self.x = x\n",
    "        self.y = y\n",
    "        self.x_new = 0\n",
    "        self.y_new = 0\n",
    "    def display_point(self):\n",
    "        print(f'X = {self.x}, Y = {self.y}')\n",
    "\n",
    "class Location(Point):\n",
    "    def reflection(self):\n",
    "        self.y_new = self.y * -1\n",
    "        self.x_new = self.x\n",
    "        print(f'X_relected = {self.x_new}, Y_reflected = {self.y_new}')\n",
    "\n",
    "location = Location(1, 2)\n",
    "destination = Location(10, 20)\n",
    "\n",
    "location.display_point()\n",
    "destination.display_point()\n",
    "destination.reflection()\n"
   ]
  },
  {
   "cell_type": "code",
   "execution_count": 38,
   "id": "d2c741f4-d8f6-4513-8217-2f2df9746565",
   "metadata": {},
   "outputs": [
    {
     "name": "stdout",
     "output_type": "stream",
     "text": [
      "Source:  X = 10, Y = 20\n",
      "Destination:  X = 30, Y = 40\n",
      "Reflection on x-axis:\n",
      "X_relected = -30, Y_reflected = 40\n"
     ]
    }
   ],
   "source": [
    "# Ma'am's answer\n",
    "\n",
    "class Point:\n",
    "    def __init__(self, x, y):\n",
    "        self.x = x\n",
    "        self.y = y\n",
    "    def display_point(self):\n",
    "        return(f'X = {self.x}, Y = {self.y}')\n",
    "\n",
    "class Location:\n",
    "    def __init__(self, x1, y1, x2, y2):\n",
    "        self.source = Point(x1, y1)\n",
    "        self.dest = Point(x2, y2)\n",
    "    def show(self):\n",
    "        print(\"Source: \", self.source.display_point())\n",
    "        print(\"Destination: \", self.dest.display_point())\n",
    "    def reflection(self):\n",
    "        self.dest.x = self.dest.x * -1\n",
    "        print(f'Reflection on x-axis:\\nX_relected = {self.dest.x}, Y_reflected = {self.dest.y}')\n",
    "\n",
    "destination = Location(10, 20, 30, 40)\n",
    "\n",
    "destination.show()\n",
    "destination.reflection()\n"
   ]
  },
  {
   "cell_type": "code",
   "execution_count": null,
   "id": "58701e05-29d1-4769-86d9-b333a77b067f",
   "metadata": {},
   "outputs": [],
   "source": [
    "# WAP that has classes such as Student, Course, Department. Enroll a student in a course of a particular department. Classes are - \n",
    "# Student details - name, roll no\n",
    "# Course -  name, code, year and semester\n",
    "# Department - Name\n",
    "\n",
    "class Department:\n",
    "    def __init__(self, name):\n",
    "        self.name = name\n",
    "    def enroll_student(self):\n",
    "        s1 = Student(\"Aarushi\", \"24901325\")\n",
    "        s2 = Student(\"Nikhil\", \"24901315\")\n",
    "\n",
    "class Student():\n",
    "    def __init__(self, name, roll_no):\n",
    "        self.name = name\n",
    "        self.roll_no = roll_no\n",
    "\n",
    "class Course(Department):\n",
    "    def __init__(self, name, code, year, sem):\n",
    "        self.name = name\n",
    "        self.code = code\n",
    "        self.year = year\n",
    "        self.sem = sem\n",
    "\n"
   ]
  },
  {
   "cell_type": "code",
   "execution_count": 6,
   "id": "63ce0d6e-f532-4db2-bc12-30e5138513b0",
   "metadata": {},
   "outputs": [
    {
     "name": "stdout",
     "output_type": "stream",
     "text": [
      "\n",
      "Menu:\n",
      "1. Add Department\n",
      "2. Add Course\n",
      "3. Add Student\n",
      "4. Enroll Student in a Course\n",
      "5. Display Enrollments\n",
      "6. Exit\n"
     ]
    },
    {
     "name": "stdin",
     "output_type": "stream",
     "text": [
      "Enter your choice:  3\n",
      "Enter student name:  Aarushi\n",
      "Enter student roll number:  1\n"
     ]
    },
    {
     "name": "stdout",
     "output_type": "stream",
     "text": [
      "Student 'Aarushi' added.\n",
      "\n",
      "Menu:\n",
      "1. Add Department\n",
      "2. Add Course\n",
      "3. Add Student\n",
      "4. Enroll Student in a Course\n",
      "5. Display Enrollments\n",
      "6. Exit\n"
     ]
    },
    {
     "name": "stdin",
     "output_type": "stream",
     "text": [
      "Enter your choice:  3\n",
      "Enter student name:  Shuchika\n",
      "Enter student roll number:  25\n"
     ]
    },
    {
     "name": "stdout",
     "output_type": "stream",
     "text": [
      "Student 'Shuchika' added.\n",
      "\n",
      "Menu:\n",
      "1. Add Department\n",
      "2. Add Course\n",
      "3. Add Student\n",
      "4. Enroll Student in a Course\n",
      "5. Display Enrollments\n",
      "6. Exit\n"
     ]
    },
    {
     "name": "stdin",
     "output_type": "stream",
     "text": [
      "Enter your choice:  1\n",
      "Enter department name:  AI\n"
     ]
    },
    {
     "name": "stdout",
     "output_type": "stream",
     "text": [
      "Department 'AI' added.\n",
      "\n",
      "Menu:\n",
      "1. Add Department\n",
      "2. Add Course\n",
      "3. Add Student\n",
      "4. Enroll Student in a Course\n",
      "5. Display Enrollments\n",
      "6. Exit\n"
     ]
    },
    {
     "name": "stdin",
     "output_type": "stream",
     "text": [
      "Enter your choice:  1\n",
      "Enter department name:  CS\n"
     ]
    },
    {
     "name": "stdout",
     "output_type": "stream",
     "text": [
      "Department 'CS' added.\n",
      "\n",
      "Menu:\n",
      "1. Add Department\n",
      "2. Add Course\n",
      "3. Add Student\n",
      "4. Enroll Student in a Course\n",
      "5. Display Enrollments\n",
      "6. Exit\n"
     ]
    },
    {
     "name": "stdin",
     "output_type": "stream",
     "text": [
      "Enter your choice:  2\n",
      "Enter the department for the course:  CPBP\n"
     ]
    },
    {
     "name": "stdout",
     "output_type": "stream",
     "text": [
      "Department not found.\n",
      "\n",
      "Menu:\n",
      "1. Add Department\n",
      "2. Add Course\n",
      "3. Add Student\n",
      "4. Enroll Student in a Course\n",
      "5. Display Enrollments\n",
      "6. Exit\n"
     ]
    },
    {
     "name": "stdin",
     "output_type": "stream",
     "text": [
      "Enter your choice:  2\n",
      "Enter the department for the course:  AI\n",
      "Enter course name:  CPBP\n",
      "Enter course code:  101\n",
      "Enter course year:  2024\n",
      "Enter course semester:  1\n"
     ]
    },
    {
     "name": "stdout",
     "output_type": "stream",
     "text": [
      "Course 'CPBP' added to department 'AI'.\n",
      "\n",
      "Menu:\n",
      "1. Add Department\n",
      "2. Add Course\n",
      "3. Add Student\n",
      "4. Enroll Student in a Course\n",
      "5. Display Enrollments\n",
      "6. Exit\n"
     ]
    },
    {
     "name": "stdin",
     "output_type": "stream",
     "text": [
      "Enter your choice:  2\n",
      "Enter the department for the course:  AI\n",
      "Enter course name:  MLOPS\n",
      "Enter course code:  102\n",
      "Enter course year:  2024\n",
      "Enter course semester:  1\n"
     ]
    },
    {
     "name": "stdout",
     "output_type": "stream",
     "text": [
      "Course 'MLOPS' added to department 'AI'.\n",
      "\n",
      "Menu:\n",
      "1. Add Department\n",
      "2. Add Course\n",
      "3. Add Student\n",
      "4. Enroll Student in a Course\n",
      "5. Display Enrollments\n",
      "6. Exit\n"
     ]
    },
    {
     "name": "stdin",
     "output_type": "stream",
     "text": [
      "Enter your choice:  2\n",
      "Enter the department for the course:  CS\n",
      "Enter course name:  Cryptography\n",
      "Enter course code:  301\n",
      "Enter course year:  2024\n",
      "Enter course semester:  2\n"
     ]
    },
    {
     "name": "stdout",
     "output_type": "stream",
     "text": [
      "Course 'Cryptography' added to department 'CS'.\n",
      "\n",
      "Menu:\n",
      "1. Add Department\n",
      "2. Add Course\n",
      "3. Add Student\n",
      "4. Enroll Student in a Course\n",
      "5. Display Enrollments\n",
      "6. Exit\n"
     ]
    },
    {
     "name": "stdin",
     "output_type": "stream",
     "text": [
      "Enter your choice:  4\n",
      "Enter student roll number:  1\n",
      "Enter course code:  101\n"
     ]
    },
    {
     "name": "stdout",
     "output_type": "stream",
     "text": [
      "Student 'Aarushi' enrolled in course 'CPBP'.\n",
      "\n",
      "Menu:\n",
      "1. Add Department\n",
      "2. Add Course\n",
      "3. Add Student\n",
      "4. Enroll Student in a Course\n",
      "5. Display Enrollments\n",
      "6. Exit\n"
     ]
    },
    {
     "name": "stdin",
     "output_type": "stream",
     "text": [
      "Enter your choice:  4\n",
      "Enter student roll number:  25\n",
      "Enter course code:  301\n"
     ]
    },
    {
     "name": "stdout",
     "output_type": "stream",
     "text": [
      "Student 'Shuchika' enrolled in course 'Cryptography'.\n",
      "\n",
      "Menu:\n",
      "1. Add Department\n",
      "2. Add Course\n",
      "3. Add Student\n",
      "4. Enroll Student in a Course\n",
      "5. Display Enrollments\n",
      "6. Exit\n"
     ]
    },
    {
     "name": "stdin",
     "output_type": "stream",
     "text": [
      "Enter your choice:  5\n"
     ]
    },
    {
     "name": "stdout",
     "output_type": "stream",
     "text": [
      "\n",
      "Student Name: Aarushi, Roll No: 1:\n",
      "  Enrolled in Course Name: CPBP, Code: 101, Year: 2024, Semester: 1 of Department Name: AI\n",
      "\n",
      "Student Name: Shuchika, Roll No: 25:\n",
      "  Enrolled in Course Name: Cryptography, Code: 301, Year: 2024, Semester: 2 of Department Name: CS\n",
      "\n",
      "Menu:\n",
      "1. Add Department\n",
      "2. Add Course\n",
      "3. Add Student\n",
      "4. Enroll Student in a Course\n",
      "5. Display Enrollments\n",
      "6. Exit\n"
     ]
    },
    {
     "name": "stdin",
     "output_type": "stream",
     "text": [
      "Enter your choice:  6\n"
     ]
    },
    {
     "name": "stdout",
     "output_type": "stream",
     "text": [
      "Exiting program. Goodbye!\n"
     ]
    }
   ],
   "source": [
    "# Base class: Person\n",
    "class Person:\n",
    "    def __init__(self, name):\n",
    "        self.name = name\n",
    "\n",
    "    def __str__(self):\n",
    "        return f\"Name: {self.name}\"\n",
    "\n",
    "\n",
    "# Student class inheriting from Person\n",
    "class Student(Person):\n",
    "    def __init__(self, name, roll_no):\n",
    "        super().__init__(name)\n",
    "        self.roll_no = roll_no\n",
    "\n",
    "    def __str__(self):\n",
    "        return f\"Student Name: {self.name}, Roll No: {self.roll_no}\"\n",
    "\n",
    "\n",
    "# Base class: AcademicEntity\n",
    "class AcademicEntity:\n",
    "    def __init__(self, name):\n",
    "        self.name = name\n",
    "\n",
    "    def __str__(self):\n",
    "        return f\"{self.__class__.__name__} Name: {self.name}\"\n",
    "\n",
    "\n",
    "# Course class inheriting from AcademicEntity\n",
    "class Course(AcademicEntity):\n",
    "    def __init__(self, name, code, year, semester):\n",
    "        super().__init__(name)\n",
    "        self.code = code\n",
    "        self.year = year\n",
    "        self.semester = semester\n",
    "\n",
    "    def __str__(self):\n",
    "        return f\"Course Name: {self.name}, Code: {self.code}, Year: {self.year}, Semester: {self.semester}\"\n",
    "\n",
    "\n",
    "# Department class inheriting from AcademicEntity\n",
    "class Department(AcademicEntity):\n",
    "    def __init__(self, name):\n",
    "        super().__init__(name)\n",
    "        self.courses = []  # List of courses in the department\n",
    "\n",
    "    def add_course(self, course):\n",
    "        self.courses.append(course)\n",
    "\n",
    "    def __str__(self):\n",
    "        return f\"Department Name: {self.name}\"\n",
    "\n",
    "\n",
    "# Enrollment system for handling enrollments\n",
    "class Enrollment:\n",
    "    def __init__(self):\n",
    "        self.enrollments = {}  # Maps students to courses\n",
    "\n",
    "    def enroll_student(self, student, course, department):\n",
    "        if student not in self.enrollments:\n",
    "            self.enrollments[student] = []\n",
    "        self.enrollments[student].append((course, department))\n",
    "\n",
    "    def display_enrollments(self):\n",
    "        for student, courses in self.enrollments.items():\n",
    "            print(f\"\\n{student}:\")\n",
    "            for course, department in courses:\n",
    "                print(f\"  Enrolled in {course} of {department}\")\n",
    "\n",
    "\n",
    "# Main menu-driven program\n",
    "if __name__ == \"__main__\":\n",
    "    # Initialize data structures\n",
    "    students = []\n",
    "    courses = []\n",
    "    departments = []\n",
    "    enrollment_system = Enrollment()\n",
    "\n",
    "    while True:\n",
    "        print(\"\\nMenu:\")\n",
    "        print(\"1. Add Department\")\n",
    "        print(\"2. Add Course\")\n",
    "        print(\"3. Add Student\")\n",
    "        print(\"4. Enroll Student in a Course\")\n",
    "        print(\"5. Display Enrollments\")\n",
    "        print(\"6. Exit\")\n",
    "\n",
    "        choice = input(\"Enter your choice: \")\n",
    "\n",
    "        if choice == \"1\":\n",
    "            # Add a department\n",
    "            dept_name = input(\"Enter department name: \")\n",
    "            department = Department(dept_name)\n",
    "            departments.append(department)\n",
    "            print(f\"Department '{dept_name}' added.\")\n",
    "\n",
    "        elif choice == \"2\":\n",
    "            # Add a course\n",
    "            if not departments:\n",
    "                print(\"No departments available. Add a department first.\")\n",
    "                continue\n",
    "            dept_name = input(\"Enter the department for the course: \")\n",
    "            department = next((d for d in departments if d.name == dept_name), None)\n",
    "            if not department:\n",
    "                print(\"Department not found.\")\n",
    "                continue\n",
    "            course_name = input(\"Enter course name: \")\n",
    "            course_code = input(\"Enter course code: \")\n",
    "            course_year = input(\"Enter course year: \")\n",
    "            course_semester = input(\"Enter course semester: \")\n",
    "            course = Course(course_name, course_code, course_year, course_semester)\n",
    "            department.add_course(course)\n",
    "            courses.append(course)\n",
    "            print(f\"Course '{course_name}' added to department '{dept_name}'.\")\n",
    "\n",
    "        elif choice == \"3\":\n",
    "            # Add a student\n",
    "            student_name = input(\"Enter student name: \")\n",
    "            student_roll_no = input(\"Enter student roll number: \")\n",
    "            student = Student(student_name, student_roll_no)\n",
    "            students.append(student)\n",
    "            print(f\"Student '{student_name}' added.\")\n",
    "\n",
    "        elif choice == \"4\":\n",
    "            # Enroll a student in a course\n",
    "            if not students or not courses:\n",
    "                print(\"No students or courses available. Add them first.\")\n",
    "                continue\n",
    "            student_roll_no = input(\"Enter student roll number: \")\n",
    "            student = next((s for s in students if s.roll_no == student_roll_no), None)\n",
    "            if not student:\n",
    "                print(\"Student not found.\")\n",
    "                continue\n",
    "            course_code = input(\"Enter course code: \")\n",
    "            course = next((c for c in courses if c.code == course_code), None)\n",
    "            if not course:\n",
    "                print(\"Course not found.\")\n",
    "                continue\n",
    "            department = next((d for d in departments if course in d.courses), None)\n",
    "            if not department:\n",
    "                print(\"Department for the course not found.\")\n",
    "                continue\n",
    "            enrollment_system.enroll_student(student, course, department)\n",
    "            print(f\"Student '{student.name}' enrolled in course '{course.name}'.\")\n",
    "\n",
    "        elif choice == \"5\":\n",
    "            # Display all enrollments\n",
    "            enrollment_system.display_enrollments()\n",
    "\n",
    "        elif choice == \"6\":\n",
    "            # Exit the program\n",
    "            print(\"Exiting program. Goodbye!\")\n",
    "            break\n",
    "\n",
    "        else:\n",
    "            print(\"Invalid choice. Please try again.\")\n"
   ]
  }
 ],
 "metadata": {
  "kernelspec": {
   "display_name": "Python 3 (ipykernel)",
   "language": "python",
   "name": "python3"
  },
  "language_info": {
   "codemirror_mode": {
    "name": "ipython",
    "version": 3
   },
   "file_extension": ".py",
   "mimetype": "text/x-python",
   "name": "python",
   "nbconvert_exporter": "python",
   "pygments_lexer": "ipython3",
   "version": "3.12.5"
  }
 },
 "nbformat": 4,
 "nbformat_minor": 5
}
