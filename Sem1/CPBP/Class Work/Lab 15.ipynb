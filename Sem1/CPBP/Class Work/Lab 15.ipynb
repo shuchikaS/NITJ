{
 "cells": [
  {
   "cell_type": "markdown",
   "id": "e9d27150-9cca-4d15-8421-e00c9c93d835",
   "metadata": {},
   "source": [
    "# File Handling"
   ]
  },
  {
   "cell_type": "code",
   "execution_count": 4,
   "id": "a6549d6c-d1b6-40b1-b37e-87f36bafc144",
   "metadata": {},
   "outputs": [
    {
     "name": "stdout",
     "output_type": "stream",
     "text": [
      "Hello World\n",
      "\n",
      "Hello Python\n",
      "\n",
      "Good morning\n",
      "\n",
      "How are you\n",
      "*************** How are you\n"
     ]
    }
   ],
   "source": [
    "# Program to read 4th line of file\n",
    "fo = open('test.txt', 'r')\n",
    "c = 1\n",
    "l = 4\n",
    "for line in fo:\n",
    "    print(line)\n",
    "    if c==l:\n",
    "        print(\"***************\", line)\n",
    "    c+=1"
   ]
  },
  {
   "cell_type": "code",
   "execution_count": null,
   "id": "a8e83769-cbc6-465f-9344-9b1a934fe0c6",
   "metadata": {},
   "outputs": [],
   "source": [
    "# Demonstrating pickle dump() function\n",
    "import pickle\n",
    "mfile = open(\"file.txt\", \"wb\")\n",
    "dict1 = {'ename': 'jitendra', \n",
    "        'phone': '3907489134'}\n",
    "pickle.dump(duct1, mfile)\n",
    "mfile.close()"
   ]
  },
  {
   "cell_type": "code",
   "execution_count": null,
   "id": "0a30eb5a-b31e-4feb-b048-7cb56bd10f45",
   "metadata": {},
   "outputs": [],
   "source": [
    "# Demonstrating pickle load() function\n",
    "mf = open(\"\", \"rb\")\n",
    "dict1 = pickle.load(mf)\n",
    "print(dict1)\n",
    "mf.close"
   ]
  },
  {
   "cell_type": "code",
   "execution_count": 5,
   "id": "d744d09e-d54a-448f-bebd-073ff9007833",
   "metadata": {},
   "outputs": [],
   "source": [
    "import csv"
   ]
  },
  {
   "cell_type": "code",
   "execution_count": null,
   "id": "ca022d37-b6cb-4a04-bc77-b960a4a55465",
   "metadata": {},
   "outputs": [],
   "source": []
  },
  {
   "cell_type": "code",
   "execution_count": null,
   "id": "e8c7647e-09b0-4bd8-8fa8-b74bb05826b2",
   "metadata": {},
   "outputs": [],
   "source": []
  },
  {
   "cell_type": "code",
   "execution_count": null,
   "id": "dc1a3311-2f83-4a5e-b5cb-9228ca7d67d7",
   "metadata": {},
   "outputs": [],
   "source": []
  },
  {
   "cell_type": "code",
   "execution_count": null,
   "id": "14711c73-9f74-4a1c-87ba-ca515fe3f6a6",
   "metadata": {},
   "outputs": [],
   "source": []
  },
  {
   "cell_type": "code",
   "execution_count": null,
   "id": "327a8872-8f06-47dd-8ade-a53a6bee27e9",
   "metadata": {},
   "outputs": [],
   "source": []
  },
  {
   "cell_type": "code",
   "execution_count": null,
   "id": "615f0a74-0e4c-4010-96f2-5d953fbc869a",
   "metadata": {},
   "outputs": [],
   "source": []
  },
  {
   "cell_type": "code",
   "execution_count": null,
   "id": "8ce4f0e8-01b5-4933-8007-dac0689b9a6e",
   "metadata": {},
   "outputs": [],
   "source": []
  },
  {
   "cell_type": "code",
   "execution_count": null,
   "id": "ea7bb403-683e-4a1b-818b-4fc8ad7744b0",
   "metadata": {},
   "outputs": [],
   "source": []
  },
  {
   "cell_type": "code",
   "execution_count": null,
   "id": "dde4c836-eb19-427a-a679-711a3d9c0ebb",
   "metadata": {},
   "outputs": [],
   "source": []
  },
  {
   "cell_type": "code",
   "execution_count": null,
   "id": "c1415c53-ba57-4def-8ae7-302e0b2a8d74",
   "metadata": {},
   "outputs": [],
   "source": []
  },
  {
   "cell_type": "code",
   "execution_count": null,
   "id": "96fcc4a8-0f2d-4c32-9c41-11bdfbd354f8",
   "metadata": {},
   "outputs": [],
   "source": []
  },
  {
   "cell_type": "code",
   "execution_count": null,
   "id": "c2cba54a-cf14-4cb3-9193-3cfcfc707a0d",
   "metadata": {},
   "outputs": [],
   "source": []
  },
  {
   "cell_type": "code",
   "execution_count": null,
   "id": "c89808f8-187a-4cd0-aa91-62faebafe69a",
   "metadata": {},
   "outputs": [],
   "source": []
  },
  {
   "cell_type": "code",
   "execution_count": null,
   "id": "930b5813-965d-401a-a0d8-2a46c83feca2",
   "metadata": {},
   "outputs": [],
   "source": []
  },
  {
   "cell_type": "code",
   "execution_count": null,
   "id": "1aa83dd2-b469-4d81-ab8d-b0022c47fa65",
   "metadata": {},
   "outputs": [],
   "source": []
  },
  {
   "cell_type": "code",
   "execution_count": null,
   "id": "0fd7888e-c031-4fff-a190-1719e96aec73",
   "metadata": {},
   "outputs": [],
   "source": []
  },
  {
   "cell_type": "code",
   "execution_count": null,
   "id": "e64c100e-0350-4c33-b7ff-3d427f21c454",
   "metadata": {},
   "outputs": [],
   "source": []
  },
  {
   "cell_type": "code",
   "execution_count": null,
   "id": "48079f64-3351-4ad1-af9b-4730afd2a767",
   "metadata": {},
   "outputs": [],
   "source": []
  },
  {
   "cell_type": "code",
   "execution_count": null,
   "id": "8e29a9e5-8085-4b05-8916-1fc2c3637921",
   "metadata": {},
   "outputs": [],
   "source": []
  },
  {
   "cell_type": "code",
   "execution_count": null,
   "id": "da2cd07b-010f-4f49-b478-a44bdb67b3e2",
   "metadata": {},
   "outputs": [],
   "source": []
  }
 ],
 "metadata": {
  "kernelspec": {
   "display_name": "Python 3 (ipykernel)",
   "language": "python",
   "name": "python3"
  },
  "language_info": {
   "codemirror_mode": {
    "name": "ipython",
    "version": 3
   },
   "file_extension": ".py",
   "mimetype": "text/x-python",
   "name": "python",
   "nbconvert_exporter": "python",
   "pygments_lexer": "ipython3",
   "version": "3.12.5"
  }
 },
 "nbformat": 4,
 "nbformat_minor": 5
}
