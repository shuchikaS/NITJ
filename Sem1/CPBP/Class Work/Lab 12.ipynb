{
 "cells": [
  {
   "cell_type": "markdown",
   "id": "5aa31aa4",
   "metadata": {},
   "source": [
    "# STRING METHODS Contd."
   ]
  },
  {
   "cell_type": "code",
   "execution_count": 3,
   "id": "f747a12b",
   "metadata": {},
   "outputs": [
    {
     "name": "stdout",
     "output_type": "stream",
     "text": [
      "7\n"
     ]
    }
   ],
   "source": [
    "msg = \"she is my best friend\"\n",
    "print(msg.find(\"my\", 0, len(msg)))"
   ]
  },
  {
   "cell_type": "code",
   "execution_count": 4,
   "id": "b981014e",
   "metadata": {},
   "outputs": [
    {
     "ename": "ValueError",
     "evalue": "substring not found",
     "output_type": "error",
     "traceback": [
      "\u001b[1;31m---------------------------------------------------------------------------\u001b[0m",
      "\u001b[1;31mValueError\u001b[0m                                Traceback (most recent call last)",
      "\u001b[1;32m<ipython-input-4-eeb8e1ea832a>\u001b[0m in \u001b[0;36m<module>\u001b[1;34m\u001b[0m\n\u001b[1;32m----> 1\u001b[1;33m \u001b[0mprint\u001b[0m\u001b[1;33m(\u001b[0m\u001b[0mmsg\u001b[0m\u001b[1;33m.\u001b[0m\u001b[0mindex\u001b[0m\u001b[1;33m(\u001b[0m\u001b[1;34m\"mine\"\u001b[0m\u001b[1;33m,\u001b[0m \u001b[1;36m0\u001b[0m\u001b[1;33m,\u001b[0m \u001b[0mlen\u001b[0m\u001b[1;33m(\u001b[0m\u001b[0mmsg\u001b[0m\u001b[1;33m)\u001b[0m\u001b[1;33m)\u001b[0m\u001b[1;33m)\u001b[0m\u001b[1;33m\u001b[0m\u001b[1;33m\u001b[0m\u001b[0m\n\u001b[0m",
      "\u001b[1;31mValueError\u001b[0m: substring not found"
     ]
    }
   ],
   "source": [
    "print(msg.index(\"mine\", 0, len(msg)))"
   ]
  },
  {
   "cell_type": "code",
   "execution_count": 10,
   "id": "32a7ddfb",
   "metadata": {},
   "outputs": [
    {
     "name": "stdout",
     "output_type": "stream",
     "text": [
      "5\n"
     ]
    }
   ],
   "source": [
    "# rfind searches from end\n",
    "msg = \"is this your bag?\"\n",
    "print(msg.rfind(\"is\", 0, len(msg)))"
   ]
  },
  {
   "cell_type": "code",
   "execution_count": 15,
   "id": "707c8902",
   "metadata": {},
   "outputs": [
    {
     "name": "stdout",
     "output_type": "stream",
     "text": [
      "5\n"
     ]
    },
    {
     "ename": "ValueError",
     "evalue": "substring not found",
     "output_type": "error",
     "traceback": [
      "\u001b[1;31m---------------------------------------------------------------------------\u001b[0m",
      "\u001b[1;31mValueError\u001b[0m                                Traceback (most recent call last)",
      "\u001b[1;32m<ipython-input-15-2021810b11ff>\u001b[0m in \u001b[0;36m<module>\u001b[1;34m\u001b[0m\n\u001b[0;32m      1\u001b[0m \u001b[0mprint\u001b[0m\u001b[1;33m(\u001b[0m\u001b[0mmsg\u001b[0m\u001b[1;33m.\u001b[0m\u001b[0mrindex\u001b[0m\u001b[1;33m(\u001b[0m\u001b[1;34m\"is\"\u001b[0m\u001b[1;33m)\u001b[0m\u001b[1;33m)\u001b[0m\u001b[1;33m\u001b[0m\u001b[1;33m\u001b[0m\u001b[0m\n\u001b[1;32m----> 2\u001b[1;33m \u001b[0mprint\u001b[0m\u001b[1;33m(\u001b[0m\u001b[0mmsg\u001b[0m\u001b[1;33m.\u001b[0m\u001b[0mrindex\u001b[0m\u001b[1;33m(\u001b[0m\u001b[1;34m\"z\"\u001b[0m\u001b[1;33m)\u001b[0m\u001b[1;33m)\u001b[0m\u001b[1;33m\u001b[0m\u001b[1;33m\u001b[0m\u001b[0m\n\u001b[0m",
      "\u001b[1;31mValueError\u001b[0m: substring not found"
     ]
    }
   ],
   "source": [
    "print(msg.rindex(\"is\"))\n",
    "print(msg.rindex(\"z\"))"
   ]
  },
  {
   "cell_type": "code",
   "execution_count": 19,
   "id": "bc61b53c",
   "metadata": {},
   "outputs": [
    {
     "name": "stdout",
     "output_type": "stream",
     "text": [
      "True\n"
     ]
    }
   ],
   "source": [
    "msg = \"jamesbond007\"\n",
    "print(msg.isalnum())"
   ]
  },
  {
   "cell_type": "code",
   "execution_count": 21,
   "id": "2fc16443",
   "metadata": {},
   "outputs": [
    {
     "name": "stdout",
     "output_type": "stream",
     "text": [
      "False\n",
      "True\n"
     ]
    }
   ],
   "source": [
    "print(msg.isalpha())\n",
    "msg = \"jamesbond\"\n",
    "print(msg.isalpha())\n"
   ]
  },
  {
   "cell_type": "code",
   "execution_count": 22,
   "id": "23c1b539",
   "metadata": {},
   "outputs": [
    {
     "name": "stdout",
     "output_type": "stream",
     "text": [
      "True\n"
     ]
    }
   ],
   "source": [
    "msg = \"007\"\n",
    "print(msg.isdigit())"
   ]
  },
  {
   "cell_type": "code",
   "execution_count": 27,
   "id": "d3c1cfb2",
   "metadata": {},
   "outputs": [
    {
     "name": "stdout",
     "output_type": "stream",
     "text": [
      "False\n"
     ]
    }
   ],
   "source": [
    "msg = \"Hello\"\n",
    "print(msg.islower())"
   ]
  },
  {
   "cell_type": "code",
   "execution_count": 28,
   "id": "0a888525",
   "metadata": {},
   "outputs": [
    {
     "name": "stdout",
     "output_type": "stream",
     "text": [
      "True\n"
     ]
    }
   ],
   "source": [
    "msg = \"   \"\n",
    "print(msg.isspace())"
   ]
  },
  {
   "cell_type": "code",
   "execution_count": 29,
   "id": "541e942a",
   "metadata": {},
   "outputs": [
    {
     "name": "stdout",
     "output_type": "stream",
     "text": [
      "False\n"
     ]
    }
   ],
   "source": [
    "msg = \"Hello\"\n",
    "print(msg.isupper())"
   ]
  },
  {
   "cell_type": "code",
   "execution_count": 30,
   "id": "b0e2cbf3",
   "metadata": {},
   "outputs": [
    {
     "name": "stdout",
     "output_type": "stream",
     "text": [
      "5\n"
     ]
    }
   ],
   "source": [
    "print(len(msg))"
   ]
  },
  {
   "cell_type": "code",
   "execution_count": 39,
   "id": "5ced7a89",
   "metadata": {},
   "outputs": [
    {
     "name": "stdout",
     "output_type": "stream",
     "text": [
      "Hello%%%%%\n"
     ]
    }
   ],
   "source": [
    "s = \"Hello\"\n",
    "print(s.ljust(10,'%'))"
   ]
  },
  {
   "cell_type": "code",
   "execution_count": 41,
   "id": "6308d772",
   "metadata": {},
   "outputs": [
    {
     "name": "stdout",
     "output_type": "stream",
     "text": [
      "*****Hello\n"
     ]
    }
   ],
   "source": [
    "print(s.rjust(10,'*'))"
   ]
  },
  {
   "cell_type": "code",
   "execution_count": 48,
   "id": "f65855dd",
   "metadata": {},
   "outputs": [
    {
     "name": "stdout",
     "output_type": "stream",
     "text": [
      "-000001234\n"
     ]
    }
   ],
   "source": [
    "s = \"-1234\"\n",
    "print(s.zfill(10))"
   ]
  },
  {
   "cell_type": "code",
   "execution_count": 54,
   "id": "a68ab080",
   "metadata": {},
   "outputs": [
    {
     "name": "stdout",
     "output_type": "stream",
     "text": [
      "abcHello  zyx\n"
     ]
    }
   ],
   "source": [
    "s = \"  Hello  \"\n",
    "\n",
    "print('abc' + s.lstrip() + 'zyx')"
   ]
  },
  {
   "cell_type": "code",
   "execution_count": 55,
   "id": "c62caa10",
   "metadata": {},
   "outputs": [
    {
     "name": "stdout",
     "output_type": "stream",
     "text": [
      "abc  Hellozyx\n"
     ]
    }
   ],
   "source": [
    "print('abc' + s.rstrip() + 'zyx')"
   ]
  },
  {
   "cell_type": "code",
   "execution_count": 56,
   "id": "cd2eb8a3",
   "metadata": {},
   "outputs": [
    {
     "name": "stdout",
     "output_type": "stream",
     "text": [
      "abcHellozyx\n"
     ]
    }
   ],
   "source": [
    "print('abc' + s.strip() + 'zyx')"
   ]
  },
  {
   "cell_type": "code",
   "execution_count": 59,
   "id": "1f99b9bb",
   "metadata": {},
   "outputs": [
    {
     "name": "stdout",
     "output_type": "stream",
     "text": [
      "s\n"
     ]
    }
   ],
   "source": [
    "s = \"Hello friends\"\n",
    "print(max(s))"
   ]
  },
  {
   "cell_type": "code",
   "execution_count": 60,
   "id": "f2e7fde3",
   "metadata": {},
   "outputs": [
    {
     "name": "stdout",
     "output_type": "stream",
     "text": [
      "Follo Follo Follo\n"
     ]
    }
   ],
   "source": [
    "s = \"Hello Hello Hello\"\n",
    "print(s.replace(\"He\", \"Fo\"))"
   ]
  },
  {
   "cell_type": "code",
   "execution_count": 61,
   "id": "06b594f8",
   "metadata": {},
   "outputs": [
    {
     "name": "stdout",
     "output_type": "stream",
     "text": [
      "The World Is Beautiful\n"
     ]
    }
   ],
   "source": [
    "s = \"The world is beautiful\"\n",
    "\n",
    "print(s.title())"
   ]
  },
  {
   "cell_type": "code",
   "execution_count": 63,
   "id": "f390715e",
   "metadata": {},
   "outputs": [
    {
     "name": "stdout",
     "output_type": "stream",
     "text": [
      "HeLLo wORld\n"
     ]
    }
   ],
   "source": [
    "s = \"hEllO WorLD\"\n",
    "print(s.swapcase())"
   ]
  },
  {
   "cell_type": "code",
   "execution_count": 67,
   "id": "57e023da",
   "metadata": {},
   "outputs": [
    {
     "name": "stdout",
     "output_type": "stream",
     "text": [
      "['abc', ' def', ' ghi', ' jkl']\n"
     ]
    }
   ],
   "source": [
    "s = \"abc, def, ghi, jkl\"\n",
    "print(s.split(','))"
   ]
  },
  {
   "cell_type": "code",
   "execution_count": 68,
   "id": "8b0aaf95",
   "metadata": {},
   "outputs": [
    {
     "name": "stdout",
     "output_type": "stream",
     "text": [
      "82\n"
     ]
    }
   ],
   "source": [
    "ch = 'R'\n",
    "print(ord(ch))"
   ]
  },
  {
   "cell_type": "code",
   "execution_count": 69,
   "id": "7809554d",
   "metadata": {},
   "outputs": [
    {
     "name": "stdout",
     "output_type": "stream",
     "text": [
      "R\n"
     ]
    }
   ],
   "source": [
    "ch = 82\n",
    "print(chr(ch))"
   ]
  },
  {
   "cell_type": "code",
   "execution_count": 70,
   "id": "f044b7d5",
   "metadata": {},
   "outputs": [
    {
     "name": "stdout",
     "output_type": "stream",
     "text": [
      "z\n"
     ]
    }
   ],
   "source": [
    "print(chr(122))"
   ]
  },
  {
   "cell_type": "code",
   "execution_count": 72,
   "id": "8237d3d1",
   "metadata": {},
   "outputs": [
    {
     "name": "stdout",
     "output_type": "stream",
     "text": [
      "112\n"
     ]
    }
   ],
   "source": [
    "print(ord('p'))"
   ]
  },
  {
   "cell_type": "code",
   "execution_count": 76,
   "id": "a6a3f9e1",
   "metadata": {},
   "outputs": [
    {
     "name": "stdout",
     "output_type": "stream",
     "text": [
      "\n",
      "A\n",
      "AB\n",
      "ABC\n",
      "ABCD\n",
      "ABCDE\n",
      "ABCDEF"
     ]
    }
   ],
   "source": [
    "for i in range(1, 7):\n",
    "    ch = 'A'\n",
    "    print()\n",
    "    for j in range(1, i+1):\n",
    "        print(ch, end=\"\")\n",
    "        ch = chr(ord(ch)+1)"
   ]
  },
  {
   "cell_type": "code",
   "execution_count": 77,
   "id": "3037bfd6",
   "metadata": {},
   "outputs": [
    {
     "name": "stdout",
     "output_type": "stream",
     "text": [
      "abc_def_ghi_jkl\n"
     ]
    }
   ],
   "source": [
    "s = \"abc, def, ghi, jkl\"\n",
    "print('_'.join(['abc', 'def', 'ghi', 'jkl']))"
   ]
  },
  {
   "cell_type": "code",
   "execution_count": 79,
   "id": "7e4fcf8f",
   "metadata": {},
   "outputs": [
    {
     "name": "stdout",
     "output_type": "stream",
     "text": [
      "False\n"
     ]
    }
   ],
   "source": [
    "s = \"hello%\"\n",
    "print(s.isidentifier())"
   ]
  },
  {
   "cell_type": "code",
   "execution_count": 85,
   "id": "a9ca25bb",
   "metadata": {},
   "outputs": [
    {
     "name": "stdout",
     "output_type": "stream",
     "text": [
      "[(0, 'H'), (1, 'e'), (2, 'l'), (3, 'l'), (4, 'o'), (5, ' '), (6, 'W'), (7, 'o'), (8, 'r'), (9, 'l'), (10, 'd')]\n"
     ]
    }
   ],
   "source": [
    "s = 'Hello World'\n",
    "print(list(enumerate(s)))\n"
   ]
  },
  {
   "cell_type": "code",
   "execution_count": 88,
   "id": "e0a67e07",
   "metadata": {},
   "outputs": [
    {
     "name": "stdout",
     "output_type": "stream",
     "text": [
      "Found\n"
     ]
    }
   ],
   "source": [
    "s = \"welcome to the world of python\"\n",
    "s2 = \"the\"\n",
    "if s2 in s:\n",
    "    print(\"Found\")\n",
    "else:\n",
    "    print(\"Not found\")"
   ]
  },
  {
   "cell_type": "code",
   "execution_count": 89,
   "id": "c162a9d9",
   "metadata": {},
   "outputs": [
    {
     "data": {
      "text/plain": [
       "False"
      ]
     },
     "execution_count": 89,
     "metadata": {},
     "output_type": "execute_result"
    }
   ],
   "source": [
    "'u' in \"starts\""
   ]
  },
  {
   "cell_type": "markdown",
   "id": "68197209",
   "metadata": {},
   "source": [
    "# Comparing Strings"
   ]
  },
  {
   "cell_type": "code",
   "execution_count": 93,
   "id": "4e1d4133",
   "metadata": {},
   "outputs": [
    {
     "ename": "SyntaxError",
     "evalue": "invalid syntax (<ipython-input-93-fc49e0c0cad4>, line 1)",
     "output_type": "error",
     "traceback": [
      "\u001b[1;36m  File \u001b[1;32m\"<ipython-input-93-fc49e0c0cad4>\"\u001b[1;36m, line \u001b[1;32m1\u001b[0m\n\u001b[1;33m    \"a\" <> \"A\"\u001b[0m\n\u001b[1;37m         ^\u001b[0m\n\u001b[1;31mSyntaxError\u001b[0m\u001b[1;31m:\u001b[0m invalid syntax\n"
     ]
    }
   ],
   "source": [
    "\"a\" <> \"A\""
   ]
  },
  {
   "cell_type": "code",
   "execution_count": 94,
   "id": "b4f4cbc8",
   "metadata": {},
   "outputs": [
    {
     "data": {
      "text/plain": [
       "False"
      ]
     },
     "execution_count": 94,
     "metadata": {},
     "output_type": "execute_result"
    }
   ],
   "source": [
    "\"TED\" == \"ted\""
   ]
  },
  {
   "cell_type": "code",
   "execution_count": 98,
   "id": "76762dc0",
   "metadata": {},
   "outputs": [
    {
     "name": "stdout",
     "output_type": "stream",
     "text": [
      "Welcome to Python"
     ]
    }
   ],
   "source": [
    "# WAP using while loop to iterate a given string\n",
    "\n",
    "s = \"Welcome to Python\"\n",
    "i = 0\n",
    "while i < len(s):\n",
    "    print(s[i], end=\"\")\n",
    "    i+=1"
   ]
  },
  {
   "cell_type": "code",
   "execution_count": 103,
   "id": "e43f3c72",
   "metadata": {},
   "outputs": [
    {
     "name": "stdout",
     "output_type": "stream",
     "text": [
      "Enter the string: HelloWorld\n",
      "Enter the encryption key: 3\n",
      "KhoorZruog\n"
     ]
    }
   ],
   "source": [
    "# WAP that encrypts a message by adding a key value to every character\n",
    "\n",
    "s = input(\"Enter the string: \")\n",
    "key = int(input(\"Enter the encryption key: \"))\n",
    "\n",
    "new_s = \"\"\n",
    "for i in s:\n",
    "    new_s += chr(ord(i)+key)\n",
    "print(new_s)"
   ]
  },
  {
   "cell_type": "code",
   "execution_count": 107,
   "id": "d0fc7042",
   "metadata": {},
   "outputs": [
    {
     "name": "stdout",
     "output_type": "stream",
     "text": [
      "['Dear Students, I am pleased to inform you that, there is a workshop on Python in college tomorrow.', 'Everyone should come and there will also be a quiz in Python, whosoever wins will win a gold medal.']\n"
     ]
    }
   ],
   "source": [
    "# WAP that uses split function to split a multi-line string \n",
    "\n",
    "s = '''Dear Students, I am pleased to inform you that, there is a workshop on Python in college tomorrow.\n",
    "Everyone should come and there will also be a quiz in Python, whosoever wins will win a gold medal.'''\n",
    "\n",
    "print(s.split('\\n'))"
   ]
  },
  {
   "cell_type": "code",
   "execution_count": 109,
   "id": "4413ed87",
   "metadata": {},
   "outputs": [
    {
     "name": "stdout",
     "output_type": "stream",
     "text": [
      "Enter the string: Shuchika Sharma\n",
      "Shchk Shrm"
     ]
    }
   ],
   "source": [
    "# WAP that accepts a string from user and re-displays the same string after removing vowels\n",
    "\n",
    "vowels = ['a', 'e', 'i', 'o', 'u', 'A', 'E', 'I', 'O', 'U']\n",
    "s = input(\"Enter the string: \")\n",
    "for i in s:\n",
    "    if i not in vowels:\n",
    "        print(i, end=\"\")"
   ]
  },
  {
   "cell_type": "code",
   "execution_count": null,
   "id": "fae61f87",
   "metadata": {},
   "outputs": [],
   "source": []
  },
  {
   "cell_type": "code",
   "execution_count": null,
   "id": "fd49e771",
   "metadata": {},
   "outputs": [],
   "source": []
  },
  {
   "cell_type": "code",
   "execution_count": null,
   "id": "86c1d42e",
   "metadata": {},
   "outputs": [],
   "source": []
  },
  {
   "cell_type": "code",
   "execution_count": null,
   "id": "6dc9482a",
   "metadata": {},
   "outputs": [],
   "source": []
  }
 ],
 "metadata": {
  "kernelspec": {
   "display_name": "Python 3",
   "language": "python",
   "name": "python3"
  },
  "language_info": {
   "codemirror_mode": {
    "name": "ipython",
    "version": 3
   },
   "file_extension": ".py",
   "mimetype": "text/x-python",
   "name": "python",
   "nbconvert_exporter": "python",
   "pygments_lexer": "ipython3",
   "version": "3.7.3"
  }
 },
 "nbformat": 4,
 "nbformat_minor": 5
}
