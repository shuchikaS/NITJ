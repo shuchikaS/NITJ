{
 "cells": [
  {
   "cell_type": "code",
   "execution_count": 6,
   "id": "0a997ee6-81ee-432b-9d3c-757df4e04dc6",
   "metadata": {
    "scrolled": true
   },
   "outputs": [
    {
     "name": "stdout",
     "output_type": "stream",
     "text": [
      "Average CRP 28.75333333333333\n",
      "Average Temp:  38.833333333333336\n",
      "\n",
      "Variance of CRP:  370.8369523809524\n",
      "Variance of Temp:  4.766666666666668\n",
      "\n",
      "Covariance Matrix: \n",
      "370.8369523809524 -16.90761904761904 \n",
      "-16.90761904761904 4.766666666666668 \n"
     ]
    }
   ],
   "source": [
    "# Program to calculate Covariance matrix of MFAI Mid-Sem Exam Question 3\n",
    "\n",
    "n = 15\n",
    "crp = [42, 10.3, 33.6, 20.8, 11.9, 2.9, 1.9, 10.4, 42, 31.1, 50, 61.4, 44.7, 17.3, 51]  # CRP\n",
    "temp = [36, 37.2, 36.5, 39.4, 39.6, 40.7, 41.9, 36.3, 37.6, 42.2, 38.5, 38.2, 37.6, 42.7, 38.1] # Temperature\n",
    "    \n",
    "avg_crp = sum(crp) / n\n",
    "avg_temp = sum(temp) / n\n",
    "\n",
    "print(\"Average CRP\", avg_crp)\n",
    "print(\"Average Temp: \", avg_temp)\n",
    "\n",
    "# Calculating var for crp and temp\n",
    "var_crp = 0\n",
    "var_temp = 0\n",
    "covar = 0\n",
    "for i in range(n):\n",
    "    var_crp += (avg_crp - crp[i])**2\n",
    "    var_temp += (avg_temp - temp[i])**2\n",
    "    covar += (crp[i] - avg_crp)*(temp[i] - avg_temp)\n",
    "    \n",
    "print()\n",
    "print(\"Variance of CRP: \", var_crp/(n-1))\n",
    "print(\"Variance of Temp: \", var_temp/(n-1))\n",
    "\n",
    "# Calculating Covariance matrix\n",
    "\n",
    "covar = [[var_crp/(n-1), covar/(n-1)], [covar/(n-1), var_temp/(n-1)]]\n",
    "print()\n",
    "print(\"Covariance Matrix: \")\n",
    "for i in covar:\n",
    "    for j in range(2):\n",
    "        print(i[j], end=' ')\n",
    "    print()\n"
   ]
  }
 ],
 "metadata": {
  "kernelspec": {
   "display_name": "Python 3 (ipykernel)",
   "language": "python",
   "name": "python3"
  },
  "language_info": {
   "codemirror_mode": {
    "name": "ipython",
    "version": 3
   },
   "file_extension": ".py",
   "mimetype": "text/x-python",
   "name": "python",
   "nbconvert_exporter": "python",
   "pygments_lexer": "ipython3",
   "version": "3.12.5"
  }
 },
 "nbformat": 4,
 "nbformat_minor": 5
}
