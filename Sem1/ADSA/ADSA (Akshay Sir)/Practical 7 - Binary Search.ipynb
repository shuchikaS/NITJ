{
 "cells": [
  {
   "cell_type": "code",
   "execution_count": 15,
   "id": "f5bb0cc9-35f2-4022-849f-63805a513c4d",
   "metadata": {},
   "outputs": [
    {
     "name": "stdout",
     "output_type": "stream",
     "text": [
      "True\n"
     ]
    }
   ],
   "source": [
    "def binary_search(a,value):\n",
    "    if len(a)==0 or (len(a)==1 and a[0]!=value):\n",
    "        return False\n",
    "        \n",
    "    mid=a[len(a)//2]\n",
    "    if value==mid:\n",
    "        return True\n",
    "    if value<mid:\n",
    "        return binary_search(a[:len(a)//2],value)\n",
    "    if value>mid:\n",
    "        return binary_search(a[len(a)//2+1:],value)\n",
    "\n",
    "\n",
    "a=sorted([1,98,34,2,63,54,90,87,5,70,18,93])\n",
    "print(binary_search(a,5))"
   ]
  }
 ],
 "metadata": {
  "kernelspec": {
   "display_name": "Python 3 (ipykernel)",
   "language": "python",
   "name": "python3"
  },
  "language_info": {
   "codemirror_mode": {
    "name": "ipython",
    "version": 3
   },
   "file_extension": ".py",
   "mimetype": "text/x-python",
   "name": "python",
   "nbconvert_exporter": "python",
   "pygments_lexer": "ipython3",
   "version": "3.12.5"
  }
 },
 "nbformat": 4,
 "nbformat_minor": 5
}
