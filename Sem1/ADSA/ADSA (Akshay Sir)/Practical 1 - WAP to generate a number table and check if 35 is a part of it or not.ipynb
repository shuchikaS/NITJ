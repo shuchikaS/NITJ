{
 "cells": [
  {
   "cell_type": "code",
   "execution_count": 14,
   "id": "e566105b",
   "metadata": {},
   "outputs": [
    {
     "name": "stdout",
     "output_type": "stream",
     "text": [
      "Enter the digit: 7\n",
      "The tabble of 7 is: [7, 14, 21, 28, 35, 42, 49, 56, 63, 70]\n",
      "*** Checking if 35 is in the arr ***\n",
      "Yes, 35 found\n"
     ]
    }
   ],
   "source": [
    "# WAP to generate a number table and check if 35 is a part of it or not.\n",
    "\n",
    "inp = int(input(\"Enter the digit: \"))\n",
    "l1 = []\n",
    "for i in range(1,11):\n",
    "    l1.append(inp*i)\n",
    "print(f'The tabble of {inp} is: {l1}')\n",
    "\n",
    "print(\"*** Checking if 35 is in the arr ***\")\n",
    "c = 35\n",
    "if c in l1:\n",
    "    print(\"Yes, 35 found\")\n",
    "else:\n",
    "    print(\"Not found\")"
   ]
  }
 ],
 "metadata": {
  "kernelspec": {
   "display_name": "Python 3 (ipykernel)",
   "language": "python",
   "name": "python3"
  },
  "language_info": {
   "codemirror_mode": {
    "name": "ipython",
    "version": 3
   },
   "file_extension": ".py",
   "mimetype": "text/x-python",
   "name": "python",
   "nbconvert_exporter": "python",
   "pygments_lexer": "ipython3",
   "version": "3.12.5"
  }
 },
 "nbformat": 4,
 "nbformat_minor": 5
}
