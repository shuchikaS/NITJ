{
 "cells": [
  {
   "cell_type": "markdown",
   "id": "4d8a33fe-5dbe-4c04-af4e-b607101a56be",
   "metadata": {},
   "source": [
    "# Linear Search"
   ]
  },
  {
   "cell_type": "code",
   "execution_count": 5,
   "id": "addaa971-dcd5-48c5-bb50-760f1efc3539",
   "metadata": {},
   "outputs": [
    {
     "name": "stdout",
     "output_type": "stream",
     "text": [
      "Found at position:  4\n"
     ]
    }
   ],
   "source": [
    "pos = -1\n",
    "\n",
    "def search(ls, n):\n",
    "    global pos\n",
    "    i = 0\n",
    "    while(i<len(ls)):\n",
    "        if ls[i] == n:\n",
    "            pos = i\n",
    "            return True\n",
    "        i += 1\n",
    "    return False\n",
    "\n",
    "ls = [5, 8, 4, 6, 9, 2]\n",
    "n = 9\n",
    "if search(ls, n):\n",
    "    print(\"Found at position: \", pos)\n",
    "else:\n",
    "    print(\"Not found\")"
   ]
  }
 ],
 "metadata": {
  "kernelspec": {
   "display_name": "Python 3 (ipykernel)",
   "language": "python",
   "name": "python3"
  },
  "language_info": {
   "codemirror_mode": {
    "name": "ipython",
    "version": 3
   },
   "file_extension": ".py",
   "mimetype": "text/x-python",
   "name": "python",
   "nbconvert_exporter": "python",
   "pygments_lexer": "ipython3",
   "version": "3.12.5"
  }
 },
 "nbformat": 4,
 "nbformat_minor": 5
}
