{
 "cells": [
  {
   "cell_type": "code",
   "execution_count": 13,
   "id": "3e139caf",
   "metadata": {
    "scrolled": true
   },
   "outputs": [
    {
     "name": "stdout",
     "output_type": "stream",
     "text": [
      "Average height 144.8\n",
      "Average weight:  71.7\n",
      "\n",
      "Variance of Ht:  424.06315789473683\n",
      "Variance of Wt:  229.69473684210521\n",
      "\n",
      "Covariance Matrix: \n",
      "424.06315789473683 231.72631578947374 \n",
      "231.72631578947374 229.69473684210521 \n"
     ]
    }
   ],
   "source": [
    "# Program to input Height and Weight of 'n' men and calculate avg height, avg weight, variance of height and weight, and covariance\n",
    "\n",
    "# Uncomment below in case manual input is required\n",
    "# n = int(input(\"Enter number of men: \"))\n",
    "# print(\"Enter the heights row-wise: \")\n",
    "# ht=[]\n",
    "# for i in range(n):\n",
    "#     ht.append(int(input()))\n",
    "    \n",
    "# print(\"Enter the weights row-wise: \")\n",
    "# wt=[]\n",
    "# for i in range(n):\n",
    "#     wt.append(int(input()))\n",
    "\n",
    "n = 20\n",
    "ht = [182, 162, 114, 134, 154, 155, 161, 170, 124, 136, 140, 127, 140, 129, 132, 124, 131, 173, 180, 128]\n",
    "wt = [78, 82, 58, 61, 79, 108, 81, 90, 67, 58, 64, 50, 74, 58, 60, 54, 59, 92, 83, 78]\n",
    "    \n",
    "avg_ht = sum(ht) / n\n",
    "avg_wt = sum(wt) / n\n",
    "\n",
    "print(\"Average height\", avg_ht)\n",
    "print(\"Average weight: \", avg_wt)\n",
    "\n",
    "# Calculating var for ht and wt\n",
    "var_ht = 0\n",
    "var_wt = 0\n",
    "covar = 0\n",
    "for i in range(n):\n",
    "    var_ht += (avg_ht - ht[i])**2\n",
    "    var_wt += (avg_wt - wt[i])**2\n",
    "    covar += (ht[i] - avg_ht)*(wt[i] - avg_wt)\n",
    "    \n",
    "print()\n",
    "print(\"Variance of Ht: \", var_ht/(n-1))\n",
    "print(\"Variance of Wt: \", var_wt/(n-1))\n",
    "\n",
    "# Calculating Covariance matrix\n",
    "\n",
    "covar = [[var_ht/(n-1), covar/(n-1)], [covar/(n-1), var_wt/(n-1)]]\n",
    "print()\n",
    "print(\"Covariance Matrix: \")\n",
    "for i in covar:\n",
    "    for j in range(2):\n",
    "        print(i[j], end=' ')\n",
    "    print()"
   ]
  },
  {
   "cell_type": "code",
   "execution_count": null,
   "id": "4257300b",
   "metadata": {},
   "outputs": [],
   "source": []
  }
 ],
 "metadata": {
  "kernelspec": {
   "display_name": "Python 3 (ipykernel)",
   "language": "python",
   "name": "python3"
  },
  "language_info": {
   "codemirror_mode": {
    "name": "ipython",
    "version": 3
   },
   "file_extension": ".py",
   "mimetype": "text/x-python",
   "name": "python",
   "nbconvert_exporter": "python",
   "pygments_lexer": "ipython3",
   "version": "3.12.5"
  }
 },
 "nbformat": 4,
 "nbformat_minor": 5
}
