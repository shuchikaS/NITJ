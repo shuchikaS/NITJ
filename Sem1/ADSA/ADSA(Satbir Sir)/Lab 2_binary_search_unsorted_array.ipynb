{
 "cells": [
  {
   "cell_type": "markdown",
   "id": "8b9c88ff",
   "metadata": {},
   "source": [
    "# WAP to calculate time complexity for searching an element in an Un-Sorted array"
   ]
  },
  {
   "cell_type": "code",
   "execution_count": 1,
   "id": "459ee56a",
   "metadata": {},
   "outputs": [],
   "source": [
    "import time\n",
    "from numpy import random\n",
    "import numpy as np\n",
    "\n",
    "# Function to search element in unsorted list\n",
    "def unsortedLinearSearch(val, item):\n",
    "    n = len(val)\n",
    "    low = 0\n",
    "    high = len(val) - 1\n",
    "    while low<=high:\n",
    "        mid = (high + low) //2\n",
    "        if val[mid] == item:\n",
    "            return True\n",
    "        elif item <val[mid]:\n",
    "            high = mid - 1\n",
    "        else:\n",
    "            low = mid + 1\n",
    "    return False"
   ]
  },
  {
   "cell_type": "markdown",
   "id": "0c16d40f",
   "metadata": {},
   "source": [
    "# Calculation for 100 elements"
   ]
  },
  {
   "cell_type": "code",
   "execution_count": 27,
   "id": "11130230",
   "metadata": {},
   "outputs": [],
   "source": [
    "# Avg case\n",
    "x_avg=random.randint(10000, size=(99))\n",
    "b_avg = np.insert(x_avg, 49, 77)\n",
    "\n",
    "# Worst case\n",
    "x_worst=random.randint(10000, size=(99))\n",
    "b_worst = np.insert(x_worst, 99, 9999)\n",
    "\n",
    "# Best Case\n",
    "x_best=random.randint(10000, size=(99))\n",
    "b_best = np.insert(x_best, 0, 1)"
   ]
  },
  {
   "cell_type": "code",
   "execution_count": 5,
   "id": "daf129fb",
   "metadata": {},
   "outputs": [
    {
     "name": "stdout",
     "output_type": "stream",
     "text": [
      "6.82 µs ± 227 ns per loop (mean ± std. dev. of 7 runs, 100000 loops each)\n"
     ]
    },
    {
     "data": {
      "text/plain": [
       "<TimeitResult : 6.82 µs ± 227 ns per loop (mean ± std. dev. of 7 runs, 100000 loops each)>"
      ]
     },
     "execution_count": 5,
     "metadata": {},
     "output_type": "execute_result"
    }
   ],
   "source": [
    "%%timeit -o\n",
    "\n",
    "# Best case for 100 elements\n",
    "a_best = unsortedLinearSearch(b_best, 1)\n"
   ]
  },
  {
   "cell_type": "code",
   "execution_count": 6,
   "id": "6f7c1f93",
   "metadata": {
    "scrolled": true
   },
   "outputs": [
    {
     "name": "stdout",
     "output_type": "stream",
     "text": [
      "6.82 µs ± 227 ns \n"
     ]
    }
   ],
   "source": [
    "x = _\n",
    "time_best_100 = str(x).split(\"per\")[0]\n",
    "print(time_best_100 )"
   ]
  },
  {
   "cell_type": "code",
   "execution_count": 28,
   "id": "13edde7e",
   "metadata": {
    "scrolled": true
   },
   "outputs": [
    {
     "name": "stdout",
     "output_type": "stream",
     "text": [
      "1.07 µs ± 25.5 ns per loop (mean ± std. dev. of 7 runs, 1000000 loops each)\n"
     ]
    },
    {
     "data": {
      "text/plain": [
       "<TimeitResult : 1.07 µs ± 25.5 ns per loop (mean ± std. dev. of 7 runs, 1000000 loops each)>"
      ]
     },
     "execution_count": 28,
     "metadata": {},
     "output_type": "execute_result"
    }
   ],
   "source": [
    "%%timeit -o\n",
    "\n",
    "# Average case for 100 elements\n",
    "a_avg = unsortedLinearSearch(b_avg, 77)\n"
   ]
  },
  {
   "cell_type": "code",
   "execution_count": 29,
   "id": "3c122abb",
   "metadata": {},
   "outputs": [
    {
     "name": "stdout",
     "output_type": "stream",
     "text": [
      "1.07 µs ± 25.5 ns \n"
     ]
    }
   ],
   "source": [
    "x = _\n",
    "time_avg_100 = str(x).split(\"per\")[0]\n",
    "print(time_avg_100 )"
   ]
  },
  {
   "cell_type": "code",
   "execution_count": 9,
   "id": "3e94a3e6",
   "metadata": {},
   "outputs": [
    {
     "name": "stdout",
     "output_type": "stream",
     "text": [
      "7.96 µs ± 88.4 ns per loop (mean ± std. dev. of 7 runs, 100000 loops each)\n"
     ]
    },
    {
     "data": {
      "text/plain": [
       "<TimeitResult : 7.96 µs ± 88.4 ns per loop (mean ± std. dev. of 7 runs, 100000 loops each)>"
      ]
     },
     "execution_count": 9,
     "metadata": {},
     "output_type": "execute_result"
    }
   ],
   "source": [
    "%%timeit -o\n",
    "\n",
    "# Worst case for 100 elements\n",
    "a_worst = unsortedLinearSearch(b_worst, 9999)\n"
   ]
  },
  {
   "cell_type": "code",
   "execution_count": 10,
   "id": "4d0cf091",
   "metadata": {},
   "outputs": [
    {
     "name": "stdout",
     "output_type": "stream",
     "text": [
      "7.96 µs ± 88.4 ns \n"
     ]
    }
   ],
   "source": [
    "x = _\n",
    "time_worst_100 = str(x).split(\"per\")[0]\n",
    "print(time_worst_100 )"
   ]
  },
  {
   "cell_type": "markdown",
   "id": "79aba0e3",
   "metadata": {},
   "source": [
    "# Calculation for 1000 elements"
   ]
  },
  {
   "cell_type": "code",
   "execution_count": 32,
   "id": "9be4fea9",
   "metadata": {},
   "outputs": [],
   "source": [
    "# Avg case for 1000 ele\n",
    "x_avg_1000=random.randint(10000, size=(999))\n",
    "b_avg_1000 = np.insert(x_avg_1000, 499, 77)\n",
    "\n",
    "# Worst case for 1000 ele\n",
    "x_worst_1000=random.randint(10000, size=(999))\n",
    "b_worst_1000 = np.insert(x_worst_1000, 999, 9999)\n",
    "\n",
    "# Best Case for 1000 ele\n",
    "x_best_1000=random.randint(10000, size=(999))\n",
    "b_best_1000 = np.insert(x_best_1000, 0, 1)"
   ]
  },
  {
   "cell_type": "code",
   "execution_count": 12,
   "id": "26c23e79",
   "metadata": {},
   "outputs": [
    {
     "name": "stdout",
     "output_type": "stream",
     "text": [
      "10.9 µs ± 703 ns per loop (mean ± std. dev. of 7 runs, 100000 loops each)\n"
     ]
    },
    {
     "data": {
      "text/plain": [
       "<TimeitResult : 10.9 µs ± 703 ns per loop (mean ± std. dev. of 7 runs, 100000 loops each)>"
      ]
     },
     "execution_count": 12,
     "metadata": {},
     "output_type": "execute_result"
    }
   ],
   "source": [
    "%%timeit -o\n",
    "\n",
    "# Best case for 1000 elements\n",
    "a_best_1000 = unsortedLinearSearch(b_best_1000, 1)\n"
   ]
  },
  {
   "cell_type": "code",
   "execution_count": 13,
   "id": "1c1b0426",
   "metadata": {},
   "outputs": [
    {
     "name": "stdout",
     "output_type": "stream",
     "text": [
      "10.9 µs ± 703 ns \n"
     ]
    }
   ],
   "source": [
    "x = _\n",
    "time_best_1000 = str(x).split(\"per\")[0]\n",
    "print(time_best_1000 )"
   ]
  },
  {
   "cell_type": "code",
   "execution_count": 33,
   "id": "9f6c0c5e",
   "metadata": {},
   "outputs": [
    {
     "name": "stdout",
     "output_type": "stream",
     "text": [
      "1.22 µs ± 57.1 ns per loop (mean ± std. dev. of 7 runs, 1000000 loops each)\n"
     ]
    },
    {
     "data": {
      "text/plain": [
       "<TimeitResult : 1.22 µs ± 57.1 ns per loop (mean ± std. dev. of 7 runs, 1000000 loops each)>"
      ]
     },
     "execution_count": 33,
     "metadata": {},
     "output_type": "execute_result"
    }
   ],
   "source": [
    "%%timeit -o\n",
    "\n",
    "# Average case for 1000 elements\n",
    "a_avg_1000 = unsortedLinearSearch(b_avg_1000, 77)\n"
   ]
  },
  {
   "cell_type": "code",
   "execution_count": 34,
   "id": "28dbbe34",
   "metadata": {},
   "outputs": [
    {
     "name": "stdout",
     "output_type": "stream",
     "text": [
      "1.22 µs ± 57.1 ns \n"
     ]
    }
   ],
   "source": [
    "x = _\n",
    "time_avg_1000 = str(x).split(\"per\")[0]\n",
    "print(time_avg_1000 )"
   ]
  },
  {
   "cell_type": "code",
   "execution_count": 16,
   "id": "84f3918b",
   "metadata": {},
   "outputs": [
    {
     "name": "stdout",
     "output_type": "stream",
     "text": [
      "11.8 µs ± 184 ns per loop (mean ± std. dev. of 7 runs, 100000 loops each)\n"
     ]
    },
    {
     "data": {
      "text/plain": [
       "<TimeitResult : 11.8 µs ± 184 ns per loop (mean ± std. dev. of 7 runs, 100000 loops each)>"
      ]
     },
     "execution_count": 16,
     "metadata": {},
     "output_type": "execute_result"
    }
   ],
   "source": [
    "%%timeit -o\n",
    "\n",
    "# Worst case for 1000 elements\n",
    "a_worst_1000 = unsortedLinearSearch(b_worst_1000, 9999)\n"
   ]
  },
  {
   "cell_type": "code",
   "execution_count": 17,
   "id": "7361bdc8",
   "metadata": {},
   "outputs": [
    {
     "name": "stdout",
     "output_type": "stream",
     "text": [
      "11.8 µs ± 184 ns \n"
     ]
    }
   ],
   "source": [
    "x = _\n",
    "time_worst_1000 = str(x).split(\"per\")[0]\n",
    "print(time_worst_1000 )"
   ]
  },
  {
   "cell_type": "markdown",
   "id": "27054ac3",
   "metadata": {},
   "source": [
    "# Calculation for 100000 elements"
   ]
  },
  {
   "cell_type": "code",
   "execution_count": 35,
   "id": "c4227369",
   "metadata": {},
   "outputs": [],
   "source": [
    "# Avg case for 100000 ele\n",
    "x_avg_100000=random.randint(1, 100000, size=(99999))\n",
    "b_avg_100000 = np.insert(x_avg_100000, 49999, 77)\n",
    "\n",
    "# Worst case for 100000 ele\n",
    "x_worst_100000=random.randint(1, 100000, size=(99999))\n",
    "b_worst_100000 = np.insert(x_worst_100000, 99999, 99999)\n",
    "\n",
    "# Best Case for 100000 ele\n",
    "x_best_100000=random.randint(1, 100000, size=(99999))\n",
    "b_best_100000 = np.insert(x_best_100000, 0, 1)"
   ]
  },
  {
   "cell_type": "code",
   "execution_count": 19,
   "id": "57d01600",
   "metadata": {},
   "outputs": [
    {
     "name": "stdout",
     "output_type": "stream",
     "text": [
      "18.9 µs ± 316 ns per loop (mean ± std. dev. of 7 runs, 10000 loops each)\n"
     ]
    },
    {
     "data": {
      "text/plain": [
       "<TimeitResult : 18.9 µs ± 316 ns per loop (mean ± std. dev. of 7 runs, 10000 loops each)>"
      ]
     },
     "execution_count": 19,
     "metadata": {},
     "output_type": "execute_result"
    }
   ],
   "source": [
    "%%timeit -o\n",
    "\n",
    "# Best case for 100000 elements\n",
    "a_best_100000 = unsortedLinearSearch(b_best_100000, 1)\n"
   ]
  },
  {
   "cell_type": "code",
   "execution_count": 20,
   "id": "41e0ea03",
   "metadata": {},
   "outputs": [
    {
     "name": "stdout",
     "output_type": "stream",
     "text": [
      "18.9 µs ± 316 ns \n"
     ]
    }
   ],
   "source": [
    "x = _\n",
    "time_best_100000 = str(x).split(\"per\")[0]\n",
    "print(time_best_100000 )"
   ]
  },
  {
   "cell_type": "code",
   "execution_count": 36,
   "id": "e33a2275",
   "metadata": {},
   "outputs": [
    {
     "name": "stdout",
     "output_type": "stream",
     "text": [
      "1.2 µs ± 24.4 ns per loop (mean ± std. dev. of 7 runs, 1000000 loops each)\n"
     ]
    },
    {
     "data": {
      "text/plain": [
       "<TimeitResult : 1.2 µs ± 24.4 ns per loop (mean ± std. dev. of 7 runs, 1000000 loops each)>"
      ]
     },
     "execution_count": 36,
     "metadata": {},
     "output_type": "execute_result"
    }
   ],
   "source": [
    "%%timeit -o\n",
    "\n",
    "# Average case for 100000 elements\n",
    "a_avg_100000 = unsortedLinearSearch(b_avg_100000, 77)\n"
   ]
  },
  {
   "cell_type": "code",
   "execution_count": 37,
   "id": "ea2a432d",
   "metadata": {},
   "outputs": [
    {
     "name": "stdout",
     "output_type": "stream",
     "text": [
      "1.2 µs ± 24.4 ns \n"
     ]
    }
   ],
   "source": [
    "x = _\n",
    "time_avg_100000 = str(x).split(\"per\")[0]\n",
    "print(time_avg_100000 )"
   ]
  },
  {
   "cell_type": "code",
   "execution_count": 23,
   "id": "58fe09d8",
   "metadata": {},
   "outputs": [
    {
     "name": "stdout",
     "output_type": "stream",
     "text": [
      "20 µs ± 243 ns per loop (mean ± std. dev. of 7 runs, 100000 loops each)\n"
     ]
    },
    {
     "data": {
      "text/plain": [
       "<TimeitResult : 20 µs ± 243 ns per loop (mean ± std. dev. of 7 runs, 100000 loops each)>"
      ]
     },
     "execution_count": 23,
     "metadata": {},
     "output_type": "execute_result"
    }
   ],
   "source": [
    "%%timeit -o\n",
    "\n",
    "# Worst case for 100000 elements\n",
    "a_worst_100000 = unsortedLinearSearch(b_worst_100000, 99999)\n"
   ]
  },
  {
   "cell_type": "code",
   "execution_count": 24,
   "id": "5f22df17",
   "metadata": {},
   "outputs": [
    {
     "name": "stdout",
     "output_type": "stream",
     "text": [
      "20 µs ± 243 ns \n"
     ]
    }
   ],
   "source": [
    "x = _\n",
    "time_worst_100000 = str(x).split(\"per\")[0]\n",
    "print(time_worst_100000 )"
   ]
  },
  {
   "cell_type": "markdown",
   "id": "e06a40f6",
   "metadata": {},
   "source": [
    "# Print time complexity table"
   ]
  },
  {
   "cell_type": "code",
   "execution_count": 40,
   "id": "ac019b79",
   "metadata": {},
   "outputs": [],
   "source": [
    "import pandas as pd\n",
    "\n",
    "data = {\n",
    "    \"No. of elements\": [100, 1000, 100000],\n",
    "    \"Best Case\": [time_avg_100, time_avg_1000, time_avg_100000],\n",
    "    \"Average Case\": [time_best_100, time_best_1000, time_best_100000],\n",
    "    \"Worst Case\": [time_worst_100, time_worst_1000, time_worst_100000]\n",
    "}\n"
   ]
  },
  {
   "cell_type": "code",
   "execution_count": 41,
   "id": "07f6cfd2",
   "metadata": {},
   "outputs": [
    {
     "name": "stdout",
     "output_type": "stream",
     "text": [
      "+-------------------+-------------------+------------------+-------------------+\n",
      "|   No. of elements | Best Case         | Average Case     | Worst Case        |\n",
      "+===================+===================+==================+===================+\n",
      "|               100 | 1.07 µs ± 25.5 ns | 6.82 µs ± 227 ns | 7.96 µs ± 88.4 ns |\n",
      "+-------------------+-------------------+------------------+-------------------+\n",
      "|              1000 | 1.22 µs ± 57.1 ns | 10.9 µs ± 703 ns | 11.8 µs ± 184 ns  |\n",
      "+-------------------+-------------------+------------------+-------------------+\n",
      "|            100000 | 1.2 µs ± 24.4 ns  | 18.9 µs ± 316 ns | 20 µs ± 243 ns    |\n",
      "+-------------------+-------------------+------------------+-------------------+\n"
     ]
    }
   ],
   "source": [
    "from tabulate import tabulate\n",
    "print(tabulate(data, headers=\"keys\", tablefmt=\"grid\"))"
   ]
  },
  {
   "cell_type": "code",
   "execution_count": null,
   "id": "9f26d3a7",
   "metadata": {},
   "outputs": [],
   "source": []
  }
 ],
 "metadata": {
  "kernelspec": {
   "display_name": "Python 3",
   "language": "python",
   "name": "python3"
  },
  "language_info": {
   "codemirror_mode": {
    "name": "ipython",
    "version": 3
   },
   "file_extension": ".py",
   "mimetype": "text/x-python",
   "name": "python",
   "nbconvert_exporter": "python",
   "pygments_lexer": "ipython3",
   "version": "3.7.3"
  }
 },
 "nbformat": 4,
 "nbformat_minor": 5
}
