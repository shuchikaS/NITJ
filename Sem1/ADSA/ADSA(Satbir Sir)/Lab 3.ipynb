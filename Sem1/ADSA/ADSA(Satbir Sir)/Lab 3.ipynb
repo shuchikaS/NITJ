{
 "cells": [
  {
   "cell_type": "code",
   "execution_count": 5,
   "id": "a57c7b4d",
   "metadata": {},
   "outputs": [
    {
     "name": "stdout",
     "output_type": "stream",
     "text": [
      "True\n",
      "3\n",
      "False\n"
     ]
    }
   ],
   "source": [
    "# Python implementation of Stack\n",
    "\n",
    "class Stack:\n",
    "    def __init__(self):\n",
    "        self.items=[]\n",
    "    def is_empty(self):\n",
    "        return self.items == []\n",
    "    def push(self, item):\n",
    "        self.items.append(item)\n",
    "    def pop(self):\n",
    "        return self.items.pop()\n",
    "    def peek(self):\n",
    "        return self.items[len(self.items) - 1]\n",
    "    def size(self):\n",
    "        return len(self.items)\n",
    "\n",
    "if __name__ == '__main__':\n",
    "    s = Stack()\n",
    "    print(s.is_empty())\n",
    "    s.push(4)\n",
    "    s.push('dog')\n",
    "    s.push(True)\n",
    "    print(s.size())\n",
    "    print(s.is_empty())\n",
    "    s.push(8.4)\n",
    "    "
   ]
  },
  {
   "cell_type": "code",
   "execution_count": null,
   "id": "672a1a49",
   "metadata": {},
   "outputs": [],
   "source": [
    "# Infix to postfix using Stack\n",
    "\n",
    "# Balanced paranthesis checking\n",
    "\n",
    "# Decimal to Binary"
   ]
  },
  {
   "cell_type": "code",
   "execution_count": 6,
   "id": "5ee7fb19",
   "metadata": {
    "scrolled": true
   },
   "outputs": [
    {
     "ename": "ModuleNotFoundError",
     "evalue": "No module named 'stack'",
     "output_type": "error",
     "traceback": [
      "\u001b[1;31m---------------------------------------------------------------------------\u001b[0m",
      "\u001b[1;31mModuleNotFoundError\u001b[0m                       Traceback (most recent call last)",
      "\u001b[1;32m<ipython-input-6-c3f02feb4b2d>\u001b[0m in \u001b[0;36m<module>\u001b[1;34m\u001b[0m\n\u001b[0;32m      1\u001b[0m \u001b[1;31m# Infix to postfix using Stack\u001b[0m\u001b[1;33m\u001b[0m\u001b[1;33m\u001b[0m\u001b[1;33m\u001b[0m\u001b[0m\n\u001b[0;32m      2\u001b[0m \u001b[1;33m\u001b[0m\u001b[0m\n\u001b[1;32m----> 3\u001b[1;33m \u001b[1;32mfrom\u001b[0m \u001b[0mstack\u001b[0m \u001b[1;32mimport\u001b[0m \u001b[0mStack\u001b[0m\u001b[1;33m\u001b[0m\u001b[1;33m\u001b[0m\u001b[0m\n\u001b[0m",
      "\u001b[1;31mModuleNotFoundError\u001b[0m: No module named 'stack'"
     ]
    }
   ],
   "source": [
    "# Infix to postfix using Stack\n",
    "\n",
    "from stack import Stack"
   ]
  },
  {
   "cell_type": "code",
   "execution_count": 3,
   "id": "f19845d3",
   "metadata": {
    "scrolled": true
   },
   "outputs": [
    {
     "name": "stdout",
     "output_type": "stream",
     "text": [
      "Note: you may need to restart the kernel to use updated packages.\n"
     ]
    },
    {
     "name": "stderr",
     "output_type": "stream",
     "text": [
      "ERROR: Could not find a version that satisfies the requirement stack (from versions: none)\n",
      "ERROR: No matching distribution found for stack\n",
      "WARNING: You are using pip version 21.2.4; however, version 24.0 is available.\n",
      "You should consider upgrading via the 'c:\\users\\hp\\appdata\\local\\programs\\python\\python37\\python.exe -m pip install --upgrade pip' command.\n"
     ]
    }
   ],
   "source": [
    "78+41-/"
   ]
  },
  {
   "cell_type": "code",
   "execution_count": null,
   "id": "8fe16b8c",
   "metadata": {},
   "outputs": [],
   "source": [
    "7+(8+41-)\n",
    "\n",
    "7+ "
   ]
  }
 ],
 "metadata": {
  "kernelspec": {
   "display_name": "Python 3",
   "language": "python",
   "name": "python3"
  },
  "language_info": {
   "codemirror_mode": {
    "name": "ipython",
    "version": 3
   },
   "file_extension": ".py",
   "mimetype": "text/x-python",
   "name": "python",
   "nbconvert_exporter": "python",
   "pygments_lexer": "ipython3",
   "version": "3.7.3"
  }
 },
 "nbformat": 4,
 "nbformat_minor": 5
}
