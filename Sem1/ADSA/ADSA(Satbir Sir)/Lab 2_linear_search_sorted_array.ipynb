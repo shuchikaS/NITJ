{
 "cells": [
  {
   "cell_type": "markdown",
   "id": "8b9c88ff",
   "metadata": {},
   "source": [
    "# WAP to calculate time complexity for searching an element in sorted array"
   ]
  },
  {
   "cell_type": "code",
   "execution_count": 1,
   "id": "459ee56a",
   "metadata": {},
   "outputs": [],
   "source": [
    "import time\n",
    "from numpy import random\n",
    "import numpy as np\n",
    "\n",
    "# Function to search element in sorted list\n",
    "def sortedLinearList(val, item):\n",
    "    n = len(val)\n",
    "    for i in range(n):\n",
    "        if val[i] == item:\n",
    "            return True\n",
    "        elif val[i] > item:\n",
    "            return False\n",
    "    return False"
   ]
  },
  {
   "cell_type": "markdown",
   "id": "0c16d40f",
   "metadata": {},
   "source": [
    "# Calculation for 100 elements"
   ]
  },
  {
   "cell_type": "code",
   "execution_count": 2,
   "id": "11130230",
   "metadata": {},
   "outputs": [],
   "source": [
    "# Avg case\n",
    "x_avg=random.randint(1, 10000, size=(99))\n",
    "b_avg = np.insert(x_avg, 49, 77)\n",
    "\n",
    "# Worst case\n",
    "x_worst=random.randint(1, 10000, size=(99))\n",
    "b_worst = np.insert(x_worst, 99, 9999)\n",
    "\n",
    "# Best Case\n",
    "x_best=random.randint(1, 10000, size=(99))\n",
    "b_best = np.insert(x_best, 0, 1)"
   ]
  },
  {
   "cell_type": "code",
   "execution_count": 3,
   "id": "daf129fb",
   "metadata": {},
   "outputs": [
    {
     "name": "stdout",
     "output_type": "stream",
     "text": [
      "1.18 µs ± 41.7 ns per loop (mean ± std. dev. of 7 runs, 1000000 loops each)\n"
     ]
    }
   ],
   "source": [
    "%%timeit\n",
    "\n",
    "# Best case for 100 elements\n",
    "a_best = sortedLinearList(b_best, 1)\n"
   ]
  },
  {
   "cell_type": "code",
   "execution_count": 4,
   "id": "13edde7e",
   "metadata": {
    "scrolled": true
   },
   "outputs": [
    {
     "name": "stdout",
     "output_type": "stream",
     "text": [
      "1.7 µs ± 69.3 ns per loop (mean ± std. dev. of 7 runs, 1000000 loops each)\n"
     ]
    }
   ],
   "source": [
    "%%timeit\n",
    "\n",
    "# Average case for 100 elements\n",
    "a_avg = sortedLinearList(b_avg, 77)\n"
   ]
  },
  {
   "cell_type": "code",
   "execution_count": 5,
   "id": "3e94a3e6",
   "metadata": {},
   "outputs": [
    {
     "name": "stdout",
     "output_type": "stream",
     "text": [
      "108 µs ± 23 µs per loop (mean ± std. dev. of 7 runs, 10000 loops each)\n"
     ]
    }
   ],
   "source": [
    "%%timeit\n",
    "\n",
    "# Worst case for 100 elements\n",
    "a_worst = sortedLinearList(b_worst, 9999)\n"
   ]
  },
  {
   "cell_type": "markdown",
   "id": "79aba0e3",
   "metadata": {},
   "source": [
    "# Calculation for 1000 elements"
   ]
  },
  {
   "cell_type": "code",
   "execution_count": 6,
   "id": "9be4fea9",
   "metadata": {},
   "outputs": [],
   "source": [
    "# Avg case for 1000 ele\n",
    "x_avg_1000=random.randint(1, 10000, size=(999))\n",
    "b_avg_1000 = np.insert(x_avg_1000, 499, 77)\n",
    "\n",
    "# Worst case for 1000 ele\n",
    "x_worst_1000=random.randint(1, 10000, size=(999))\n",
    "b_worst_1000 = np.insert(x_worst_1000, 999, 9999)\n",
    "\n",
    "# Best Case for 1000 ele\n",
    "x_best_1000=random.randint(1, 10000, size=(999))\n",
    "b_best_1000 = np.insert(x_best_1000, 0, 1)"
   ]
  },
  {
   "cell_type": "code",
   "execution_count": 7,
   "id": "26c23e79",
   "metadata": {},
   "outputs": [
    {
     "name": "stdout",
     "output_type": "stream",
     "text": [
      "1.34 µs ± 76.9 ns per loop (mean ± std. dev. of 7 runs, 1000000 loops each)\n"
     ]
    }
   ],
   "source": [
    "%%timeit\n",
    "\n",
    "# Best case for 1000 elements\n",
    "a_best_1000 = sortedLinearList(b_best_1000, 1)\n",
    "# print(\"Element found? : \", a_best)\n"
   ]
  },
  {
   "cell_type": "code",
   "execution_count": 8,
   "id": "9f6c0c5e",
   "metadata": {},
   "outputs": [
    {
     "name": "stdout",
     "output_type": "stream",
     "text": [
      "2.04 µs ± 540 ns per loop (mean ± std. dev. of 7 runs, 100000 loops each)\n"
     ]
    }
   ],
   "source": [
    "%%timeit\n",
    "\n",
    "# Average case for 1000 elements\n",
    "a_avg_1000 = sortedLinearList(b_avg_1000, 77)\n",
    "# print(\"Element found? : \", a_avg_1000)\n"
   ]
  },
  {
   "cell_type": "code",
   "execution_count": 9,
   "id": "84f3918b",
   "metadata": {},
   "outputs": [
    {
     "name": "stdout",
     "output_type": "stream",
     "text": [
      "1.15 ms ± 132 µs per loop (mean ± std. dev. of 7 runs, 1000 loops each)\n"
     ]
    }
   ],
   "source": [
    "%%timeit\n",
    "\n",
    "# Worst case for 1000 elements\n",
    "a_worst_1000 = sortedLinearList(b_worst_1000, 9999)\n",
    "# print(\"Element found? : \", a_worst)\n"
   ]
  },
  {
   "cell_type": "markdown",
   "id": "27054ac3",
   "metadata": {},
   "source": [
    "# Calculation for 100000 elements"
   ]
  },
  {
   "cell_type": "code",
   "execution_count": 10,
   "id": "c4227369",
   "metadata": {},
   "outputs": [],
   "source": [
    "# Avg case for 100000 ele\n",
    "x_avg_100000=random.randint(1, 100000, size=(99999))\n",
    "b_avg_100000 = np.insert(x_avg_100000, 49999, 77)\n",
    "\n",
    "# Worst case for 100000 ele\n",
    "x_worst_100000=random.randint(1, 100000, size=(99999))\n",
    "b_worst_100000 = np.insert(x_worst_100000, 99999, 99999)\n",
    "\n",
    "# Best Case for 100000 ele\n",
    "x_best_100000=random.randint(1, 100000, size=(99999))\n",
    "b_best_100000 = np.insert(x_best_100000, 0, 1)"
   ]
  },
  {
   "cell_type": "code",
   "execution_count": 11,
   "id": "57d01600",
   "metadata": {},
   "outputs": [
    {
     "name": "stdout",
     "output_type": "stream",
     "text": [
      "1.56 µs ± 190 ns per loop (mean ± std. dev. of 7 runs, 1000000 loops each)\n"
     ]
    }
   ],
   "source": [
    "%%timeit\n",
    "\n",
    "# Best case for 100000 elements\n",
    "a_best_1000 = sortedLinearList(b_best_100000, 1)\n"
   ]
  },
  {
   "cell_type": "code",
   "execution_count": 12,
   "id": "e33a2275",
   "metadata": {},
   "outputs": [
    {
     "name": "stdout",
     "output_type": "stream",
     "text": [
      "1.97 µs ± 148 ns per loop (mean ± std. dev. of 7 runs, 1000000 loops each)\n"
     ]
    }
   ],
   "source": [
    "%%timeit\n",
    "\n",
    "# Average case for 100000 elements\n",
    "a_avg_100000 = sortedLinearList(b_avg_100000, 77)\n"
   ]
  },
  {
   "cell_type": "code",
   "execution_count": 13,
   "id": "58fe09d8",
   "metadata": {},
   "outputs": [
    {
     "name": "stdout",
     "output_type": "stream",
     "text": [
      "99.9 ms ± 9.42 ms per loop (mean ± std. dev. of 7 runs, 10 loops each)\n"
     ]
    }
   ],
   "source": [
    "%%timeit\n",
    "\n",
    "# Worst case for 100000 elements\n",
    "a_worst_100000 = sortedLinearList(b_worst_100000, 99999)\n"
   ]
  },
  {
   "cell_type": "markdown",
   "id": "e06a40f6",
   "metadata": {},
   "source": [
    "# Print time complexity table"
   ]
  },
  {
   "cell_type": "code",
   "execution_count": 14,
   "id": "2daaa774",
   "metadata": {},
   "outputs": [],
   "source": [
    "best_100 = \"1.18 µs ± 41.7 ns\"\n",
    "avg_100 = \"1.7 µs ± 69.3 ns\"\n",
    "worst_100 = \"108 µs ± 23 µs\"\n",
    "\n",
    "best_1000 = \"1.34 µs ± 76.9 ns\"\n",
    "avg_1000 = \"2.04 µs ± 540 ns\"\n",
    "worst_1000 = \"1.15 ms ± 132 µs\"\n",
    "\n",
    "best_100000 = \"1.56 µs ± 190 ns\"\n",
    "avg_100000 = \"1.97 µs ± 148 ns\"\n",
    "worst_100000 = \"99.9 ms ± 9.42 ms\""
   ]
  },
  {
   "cell_type": "code",
   "execution_count": 15,
   "id": "ac019b79",
   "metadata": {},
   "outputs": [],
   "source": [
    "import pandas as pd\n",
    "\n",
    "data = {\n",
    "    \"No. of elements\": [100, 1000, 100000],\n",
    "    \"Best Case\": [best_100, best_1000, best_100000],\n",
    "    \"Average Case\": [avg_100, avg_1000, avg_100000],\n",
    "    \"Worst Case\": [worst_100, worst_1000, worst_100000]\n",
    "}\n",
    "\n",
    "# df = pd.DataFrame(data)\n",
    "# print(df) "
   ]
  },
  {
   "cell_type": "code",
   "execution_count": 16,
   "id": "07f6cfd2",
   "metadata": {},
   "outputs": [
    {
     "name": "stdout",
     "output_type": "stream",
     "text": [
      "+-------------------+-------------------+------------------+-------------------+\n",
      "|   No. of elements | Best Case         | Average Case     | Worst Case        |\n",
      "+===================+===================+==================+===================+\n",
      "|               100 | 1.18 µs ± 41.7 ns | 1.7 µs ± 69.3 ns | 108 µs ± 23 µs    |\n",
      "+-------------------+-------------------+------------------+-------------------+\n",
      "|              1000 | 1.34 µs ± 76.9 ns | 2.04 µs ± 540 ns | 1.15 ms ± 132 µs  |\n",
      "+-------------------+-------------------+------------------+-------------------+\n",
      "|            100000 | 1.56 µs ± 190 ns  | 1.97 µs ± 148 ns | 99.9 ms ± 9.42 ms |\n",
      "+-------------------+-------------------+------------------+-------------------+\n"
     ]
    }
   ],
   "source": [
    "from tabulate import tabulate\n",
    "print(tabulate(data, headers=\"keys\", tablefmt=\"grid\"))"
   ]
  },
  {
   "cell_type": "code",
   "execution_count": null,
   "id": "9f26d3a7",
   "metadata": {},
   "outputs": [],
   "source": []
  }
 ],
 "metadata": {
  "kernelspec": {
   "display_name": "Python 3",
   "language": "python",
   "name": "python3"
  },
  "language_info": {
   "codemirror_mode": {
    "name": "ipython",
    "version": 3
   },
   "file_extension": ".py",
   "mimetype": "text/x-python",
   "name": "python",
   "nbconvert_exporter": "python",
   "pygments_lexer": "ipython3",
   "version": "3.7.3"
  }
 },
 "nbformat": 4,
 "nbformat_minor": 5
}
