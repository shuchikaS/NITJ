{
 "cells": [
  {
   "cell_type": "code",
   "execution_count": 14,
   "id": "e566105b",
   "metadata": {},
   "outputs": [
    {
     "name": "stdout",
     "output_type": "stream",
     "text": [
      "Enter the digit: 7\n",
      "The tabble of 7 is: [7, 14, 21, 28, 35, 42, 49, 56, 63, 70]\n",
      "*** Checking if 35 is in the arr ***\n",
      "Yes, 35 found\n"
     ]
    }
   ],
   "source": [
    "inp = int(input(\"Enter the digit: \"))\n",
    "l1 = []\n",
    "for i in range(1,11):\n",
    "    l1.append(inp*i)\n",
    "print(f'The tabble of {inp} is: {l1}')\n",
    "\n",
    "print(\"*** Checking if 35 is in the arr ***\")\n",
    "c = 35\n",
    "if c in l1:\n",
    "    print(\"Yes, 35 found\")\n",
    "else:\n",
    "    print(\"Not found\")"
   ]
  },
  {
   "cell_type": "code",
   "execution_count": 15,
   "id": "ea204bf6",
   "metadata": {},
   "outputs": [
    {
     "name": "stdout",
     "output_type": "stream",
     "text": [
      "*** Program to input 2 matrices A and B and calculate AB' ***\n",
      "Enter no. of rows of matrix a: 3\n",
      "Enter no. of cols of matrix a: 3\n",
      "Enter no. of rows of matrix b: 2\n",
      "Enter no. of cols of matrix b: 3\n",
      "Enter values of Matrix A row-wise:\n",
      "1\n",
      "2\n",
      "1\n",
      "3\n",
      "1\n",
      "0\n",
      "0\n",
      "1\n",
      "1\n",
      "Matrix A:  [[1, 2, 1], [3, 1, 0], [0, 1, 1]]\n",
      "Enter values of Matrix B row-wise:\n",
      "2\n",
      "1\n",
      "0\n",
      "1\n",
      "1\n",
      "1\n",
      "Matrix B:  [[2, 1, 0], [1, 1, 1]]\n",
      "Transpose of Matrix B:  [[2, 1], [1, 1], [0, 1]]\n",
      "Result of Matrix Multiplication of A and B' :  [[4, 4], [7, 4], [1, 2]]\n"
     ]
    }
   ],
   "source": [
    "# Program 2 - \n",
    "import sys\n",
    "print(\"*** Program to input 2 matrices A and B, then print B' and calculate AB' ***\")\n",
    "\n",
    "rows1 = int(input(\"Enter no. of rows of matrix a: \"))\n",
    "cols1 = int(input(\"Enter no. of cols of matrix a: \"))\n",
    "\n",
    "rows2 = int(input(\"Enter no. of rows of matrix b: \"))\n",
    "cols2 = int(input(\"Enter no. of cols of matrix b: \"))\n",
    "\n",
    "if cols1 != cols2:\n",
    "    sys.exit(\"Incorrect dimensions of the two arrays!!! Cols of A should match cols of B to calculate AB' correctly!\")\n",
    "\n",
    " # Input first Array\n",
    "print(\"Enter values of Matrix A row-wise:\")\n",
    "mat1 = []\n",
    "for i in range(rows1):\n",
    "    a = []\n",
    "    for j in range(cols1):\n",
    "        a.append(int(input()))\n",
    "    mat1.append(a)\n",
    "print(\"Matrix A: \", mat1)\n",
    "\n",
    "# Input second array\n",
    "print(\"Enter values of Matrix B row-wise:\")\n",
    "mat2 = []\n",
    "for i in range(rows2):\n",
    "    a = []\n",
    "    for j in range(cols2):\n",
    "        a.append(int(input()))\n",
    "    mat2.append(a)\n",
    "print(\"Matrix B: \", mat2)\n",
    "\n",
    "# Calculate Transpose\n",
    "rows3 = cols2\n",
    "cols3 = rows2\n",
    "\n",
    "mat3 = []\n",
    "for i in range(rows3):\n",
    "    a = []\n",
    "    for j in range(cols3):\n",
    "        a.append(0)\n",
    "    mat3.append(a)\n",
    "\n",
    "for i in range(rows3):\n",
    "    for j in range(cols3):\n",
    "        mat3[i][j] = mat2[j][i]\n",
    "        \n",
    "print(\"Transpose of Matrix B: \", mat3)\n",
    "\n",
    "# Compute Dot product\n",
    "\n",
    "mat4 = []\n",
    "for i in range(rows1):\n",
    "    a = []\n",
    "    for j in range(cols3):\n",
    "        a.append(0)\n",
    "    mat4.append(a)\n",
    "\n",
    "    \n",
    "for i in range(rows1):\n",
    "    for j in range(cols3):\n",
    "        mat4[i][j] = 0\n",
    "        for k in range(cols1):\n",
    "            mat4[i][j] += mat1[i][k] * mat3[k][j]\n",
    "print(\"Result of Matrix Multiplication of A and B' : \", mat4)"
   ]
  }
 ],
 "metadata": {
  "kernelspec": {
   "display_name": "Python 3",
   "language": "python",
   "name": "python3"
  },
  "language_info": {
   "codemirror_mode": {
    "name": "ipython",
    "version": 3
   },
   "file_extension": ".py",
   "mimetype": "text/x-python",
   "name": "python",
   "nbconvert_exporter": "python",
   "pygments_lexer": "ipython3",
   "version": "3.7.3"
  }
 },
 "nbformat": 4,
 "nbformat_minor": 5
}
