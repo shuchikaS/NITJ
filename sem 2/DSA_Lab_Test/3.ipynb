{
 "cells": [
  {
   "cell_type": "code",
   "execution_count": 1,
   "id": "dafabb63-6c45-4e21-ac8b-2050ef22de61",
   "metadata": {},
   "outputs": [
    {
     "name": "stdout",
     "output_type": "stream",
     "text": [
      "Recommend item 2 with similarity 0.96\n",
      "Recommend item 4 with similarity 0.69\n",
      "Recommend item 5 with similarity -0.49\n"
     ]
    }
   ],
   "source": [
    "import pandas as pd\n",
    "import numpy as np\n",
    "from sklearn.metrics.pairwise import cosine_similarity\n",
    "from sklearn.preprocessing import StandardScaler\n",
    "\n",
    "# Example dataset\n",
    "df = pd.DataFrame({\n",
    "    'item_id': [1, 2, 3, 4, 5],\n",
    "    'feature1': [0.1, 0.2, 0.3, 0.1, 0.5],\n",
    "    'feature2': [0.9, 0.8, 0.6, 0.7, 0.4],\n",
    "    'price': [100, 120, 200, 90, 300]\n",
    "})\n",
    "\n",
    "# Separate content features and price\n",
    "features = df[['feature1', 'feature2']]\n",
    "prices = df['price'].values\n",
    "item_ids = df['item_id'].values\n",
    "\n",
    "# Normalize features (optional but useful)\n",
    "scaler = StandardScaler()\n",
    "features_scaled = scaler.fit_transform(features)\n",
    "\n",
    "# Step 1: Compute cosine similarity\n",
    "similarity_matrix = cosine_similarity(features_scaled)\n",
    "\n",
    "# Step 2: Compute average price\n",
    "avg_price = np.mean(prices)\n",
    "\n",
    "# Step 3: Apply penalty\n",
    "penalty_factor = 0.5  # e.g. reduce similarity scores by 50%\n",
    "\n",
    "for i in range(len(prices)):\n",
    "    if prices[i] > 1.2 * avg_price:\n",
    "        similarity_matrix[i, :] *= penalty_factor\n",
    "        similarity_matrix[:, i] *= penalty_factor\n",
    "\n",
    "# Step 4: Recommend similar items for target item (example: item 0)\n",
    "target_idx = 0\n",
    "similarities = similarity_matrix[target_idx]\n",
    "\n",
    "# Exclude the target item itself\n",
    "similarities[target_idx] = -1\n",
    "\n",
    "# Get top-3 similar items\n",
    "top_indices = similarities.argsort()[::-1][:3]\n",
    "top_item_ids = item_ids[top_indices]\n",
    "top_similarities = similarities[top_indices]\n",
    "\n",
    "# Display recommendations\n",
    "for item_id, sim in zip(top_item_ids, top_similarities):\n",
    "    print(f\"Recommend item {item_id} with similarity {sim:.2f}\")\n"
   ]
  }
 ],
 "metadata": {
  "kernelspec": {
   "display_name": "Python 3 (ipykernel)",
   "language": "python",
   "name": "python3"
  },
  "language_info": {
   "codemirror_mode": {
    "name": "ipython",
    "version": 3
   },
   "file_extension": ".py",
   "mimetype": "text/x-python",
   "name": "python",
   "nbconvert_exporter": "python",
   "pygments_lexer": "ipython3",
   "version": "3.12.5"
  }
 },
 "nbformat": 4,
 "nbformat_minor": 5
}
