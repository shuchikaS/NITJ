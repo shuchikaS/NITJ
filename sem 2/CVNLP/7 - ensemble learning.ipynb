{
 "cells": [
  {
   "cell_type": "markdown",
   "id": "4496d79e-8ed3-4920-a569-a195e30c5802",
   "metadata": {},
   "source": [
    "# Majority Voting"
   ]
  },
  {
   "cell_type": "code",
   "execution_count": 4,
   "id": "2aa3d958-88e6-45d4-96a7-f94ecd85a740",
   "metadata": {},
   "outputs": [],
   "source": [
    "from sklearn.ensemble import VotingClassifier\n",
    "from sklearn.linear_model import LogisticRegression\n",
    "from sklearn.tree import DecisionTreeClassifier\n",
    "from sklearn.svm import SVC\n",
    "from sklearn.datasets import make_classification\n",
    "from sklearn.model_selection import train_test_split"
   ]
  },
  {
   "cell_type": "code",
   "execution_count": 9,
   "id": "efd636fe-36fa-4da0-914a-08d3f437bcbf",
   "metadata": {},
   "outputs": [
    {
     "name": "stdout",
     "output_type": "stream",
     "text": [
      "Accuracy of the ensemble:  85.5 %\n"
     ]
    }
   ],
   "source": [
    "X, y = make_classification(n_samples = 1000, random_state = 42)\n",
    "\n",
    "X_train, X_test, y_train, y_test = train_test_split(X, y, test_size = 0.2, random_state = 42)\n",
    "\n",
    "model1 = LogisticRegression(random_state = 42)\n",
    "model2 = DecisionTreeClassifier(random_state = 42)\n",
    "model3 = SVC(random_state = 42, probability = True)\n",
    "\n",
    "ensemble = VotingClassifier(estimators = [('lr', model1), ('dt', model2), ('svc', model3)], voting = 'hard')\n",
    "ensemble.fit(X_train, y_train)\n",
    "\n",
    "print(\"Accuracy of the ensemble: \", (ensemble.score(X_test, y_test)*100), \"%\")"
   ]
  },
  {
   "cell_type": "markdown",
   "id": "86634b26-be60-4449-9f56-87c3e65cb8e7",
   "metadata": {},
   "source": [
    "# Average/Mean Ensemble"
   ]
  },
  {
   "cell_type": "code",
   "execution_count": 11,
   "id": "6195bf32-2c2f-4b9e-8485-c394c6035b95",
   "metadata": {},
   "outputs": [],
   "source": [
    "from sklearn.ensemble import VotingRegressor\n",
    "from sklearn.linear_model import LinearRegression\n",
    "from sklearn.tree import DecisionTreeRegressor\n",
    "from sklearn.neighbors import KNeighborsRegressor\n",
    "from sklearn.datasets import fetch_california_housing\n",
    "from sklearn.metrics import mean_squared_error"
   ]
  },
  {
   "cell_type": "code",
   "execution_count": 13,
   "id": "019a3cbc-1c4b-447f-ae08-541449190a39",
   "metadata": {},
   "outputs": [
    {
     "name": "stdout",
     "output_type": "stream",
     "text": [
      "MSE: 0.22\n"
     ]
    }
   ],
   "source": [
    "california = fetch_california_housing(as_frame = True)\n",
    "X = california.data\n",
    "y = california.target\n",
    "\n",
    "lr = LinearRegression()\n",
    "dt = DecisionTreeRegressor()\n",
    "knn = KNeighborsRegressor()\n",
    "\n",
    "avg = VotingRegressor(estimators = [('lr', lr), ('dt', dt), ('knn', knn)])\n",
    "avg.fit(X, y)\n",
    "\n",
    "y_pred = avg.predict(X)\n",
    "\n",
    "mse = mean_squared_error(y, y_pred)\n",
    "print(f'MSE: {mse:.2f}')"
   ]
  },
  {
   "cell_type": "markdown",
   "id": "ff7a0e8e-753c-47ef-829c-6316c1da3285",
   "metadata": {},
   "source": [
    "# Stacking"
   ]
  },
  {
   "cell_type": "code",
   "execution_count": 15,
   "id": "688ac8df-78dc-4f2b-bd01-ea3656acc3a6",
   "metadata": {},
   "outputs": [
    {
     "name": "stderr",
     "output_type": "stream",
     "text": [
      "C:\\Users\\shuch\\AppData\\Local\\Programs\\Python\\Python312\\Lib\\site-packages\\sklearn\\linear_model\\_logistic.py:465: ConvergenceWarning: lbfgs failed to converge (status=1):\n",
      "STOP: TOTAL NO. OF ITERATIONS REACHED LIMIT.\n",
      "\n",
      "Increase the number of iterations (max_iter) or scale the data as shown in:\n",
      "    https://scikit-learn.org/stable/modules/preprocessing.html\n",
      "Please also refer to the documentation for alternative solver options:\n",
      "    https://scikit-learn.org/stable/modules/linear_model.html#logistic-regression\n",
      "  n_iter_i = _check_optimize_result(\n",
      "C:\\Users\\shuch\\AppData\\Local\\Programs\\Python\\Python312\\Lib\\site-packages\\sklearn\\linear_model\\_logistic.py:465: ConvergenceWarning: lbfgs failed to converge (status=1):\n",
      "STOP: TOTAL NO. OF ITERATIONS REACHED LIMIT.\n",
      "\n",
      "Increase the number of iterations (max_iter) or scale the data as shown in:\n",
      "    https://scikit-learn.org/stable/modules/preprocessing.html\n",
      "Please also refer to the documentation for alternative solver options:\n",
      "    https://scikit-learn.org/stable/modules/linear_model.html#logistic-regression\n",
      "  n_iter_i = _check_optimize_result(\n"
     ]
    },
    {
     "name": "stdout",
     "output_type": "stream",
     "text": [
      "Accuracy: 99.33 %\n"
     ]
    }
   ],
   "source": [
    "from sklearn.ensemble import StackingClassifier\n",
    "from sklearn.linear_model import LogisticRegression\n",
    "from sklearn.tree import DecisionTreeClassifier\n",
    "from sklearn.neighbors import KNeighborsClassifier\n",
    "from sklearn.datasets import load_iris\n",
    "from sklearn.metrics import accuracy_score\n",
    "\n",
    "X, y = load_iris(return_X_y = True)\n",
    "\n",
    "lr = LogisticRegression()\n",
    "dt = DecisionTreeClassifier()\n",
    "knn = KNeighborsClassifier()\n",
    "\n",
    "stack = StackingClassifier(estimators = [('lr', lr), ('dt', dt), ('knn', knn)], final_estimator=LogisticRegression())\n",
    "stack.fit(X, y)\n",
    "\n",
    "y_pred = stack.predict(X)\n",
    "\n",
    "acc = accuracy_score(y, y_pred)\n",
    "acc = acc*100\n",
    "print(f'Accuracy: {acc:.2f} %')"
   ]
  },
  {
   "cell_type": "markdown",
   "id": "03808b2c-8eba-4976-a776-38c5261780ea",
   "metadata": {},
   "source": [
    "# Bagging"
   ]
  },
  {
   "cell_type": "code",
   "execution_count": null,
   "id": "c3c6559f-fa0f-4cd3-837d-c8ecd38ee368",
   "metadata": {},
   "outputs": [],
   "source": [
    "from sklearn.tree import DecisionTreeClassifier\n",
    "from sklearn.ensemble import BaggingClassifier\n",
    "from sklearn.datasets import load_iris\n",
    "from sklearn.metrics import accuracy_score\n",
    "\n",
    "X, y = load_iris(return_X_y = True)\n",
    "\n",
    "bag = BaggingClassifier()"
   ]
  },
  {
   "cell_type": "code",
   "execution_count": null,
   "id": "18db32e6-1b66-4c50-94ef-49cb5e8e929d",
   "metadata": {},
   "outputs": [],
   "source": []
  }
 ],
 "metadata": {
  "kernelspec": {
   "display_name": "Python 3 (ipykernel)",
   "language": "python",
   "name": "python3"
  },
  "language_info": {
   "codemirror_mode": {
    "name": "ipython",
    "version": 3
   },
   "file_extension": ".py",
   "mimetype": "text/x-python",
   "name": "python",
   "nbconvert_exporter": "python",
   "pygments_lexer": "ipython3",
   "version": "3.12.5"
  }
 },
 "nbformat": 4,
 "nbformat_minor": 5
}
