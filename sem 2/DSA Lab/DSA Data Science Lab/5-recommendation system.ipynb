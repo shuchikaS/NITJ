{
 "cells": [
  {
   "cell_type": "code",
   "execution_count": 1,
   "id": "02331227-a5a1-4f3f-8524-d1bff0257441",
   "metadata": {},
   "outputs": [],
   "source": [
    "import numpy as np\n",
    "from sklearn.metrics.pairwise import cosine_similarity"
   ]
  },
  {
   "cell_type": "code",
   "execution_count": 3,
   "id": "1c64c869-fac0-401b-8abe-b62ec7b28cac",
   "metadata": {},
   "outputs": [],
   "source": [
    "# Sample user-item matrix\n",
    "user_item_matrix = np.array([\n",
    "    [1, 0, 1, 0, 0],\n",
    "    [0, 1, 1, 0, 0],\n",
    "    [1, 0, 0, 1, 1],\n",
    "    [0, 0, 1, 0, 1]\n",
    "])\n"
   ]
  },
  {
   "cell_type": "code",
   "execution_count": 5,
   "id": "bb2ef70b-399f-49f5-855a-a9042c60e4fb",
   "metadata": {},
   "outputs": [],
   "source": [
    "# Compute item-item similarity\n",
    "item_similarity = cosine_similarity(user_item_matrix.T)"
   ]
  },
  {
   "cell_type": "code",
   "execution_count": 6,
   "id": "c901861d-2999-4d5b-951b-331c09c008f6",
   "metadata": {},
   "outputs": [
    {
     "name": "stdout",
     "output_type": "stream",
     "text": [
      "[[1.         0.         0.40824829 0.70710678 0.5       ]\n",
      " [0.         1.         0.57735027 0.         0.        ]\n",
      " [0.40824829 0.57735027 1.         0.         0.40824829]\n",
      " [0.70710678 0.         0.         1.         0.70710678]\n",
      " [0.5        0.         0.40824829 0.70710678 1.        ]]\n"
     ]
    }
   ],
   "source": [
    "print(item_similarity)"
   ]
  },
  {
   "cell_type": "code",
   "execution_count": 7,
   "id": "a5c45db6-aa3d-4299-aefb-f8d2c9d667de",
   "metadata": {},
   "outputs": [
    {
     "name": "stdout",
     "output_type": "stream",
     "text": [
      "[1.5        0.         0.81649658 1.41421356 1.5       ]\n"
     ]
    }
   ],
   "source": [
    "# Making recommendations\n",
    "\n",
    "# Example user's interactions\n",
    "user_interactions = np.array([1, 0, 0, 0, 1])\n",
    "\n",
    "# Calculate item scores based on user's interactions and item similarity\n",
    "item_scores = user_interactions.dot(item_similarity)\n",
    "print(item_scores)\n"
   ]
  },
  {
   "cell_type": "code",
   "execution_count": 8,
   "id": "a3f4a350-940d-43ac-9bd6-4ecc6265599b",
   "metadata": {},
   "outputs": [
    {
     "name": "stdout",
     "output_type": "stream",
     "text": [
      "[4 0]\n"
     ]
    }
   ],
   "source": [
    "\n",
    "# Sort items by score and recommend the top n\n",
    "n = 2\n",
    "recommended_items = np.argsort(item_scores)[::-1][:n]\n",
    "print(recommended_items)"
   ]
  },
  {
   "cell_type": "code",
   "execution_count": 10,
   "id": "3ec8b523-77f5-4a45-8eb4-bff629cd1b66",
   "metadata": {},
   "outputs": [
    {
     "name": "stdout",
     "output_type": "stream",
     "text": [
      "Recommended items: \n",
      "Item 5\n",
      "Item 1\n"
     ]
    }
   ],
   "source": [
    "# Display recommendations\n",
    "print(\"Recommended items: \")\n",
    "for i in recommended_items:\n",
    "    print(f\"Item {i+1}\")"
   ]
  },
  {
   "cell_type": "code",
   "execution_count": null,
   "id": "d550db8c-f859-4ef2-b3a0-58f2bb0f7911",
   "metadata": {},
   "outputs": [],
   "source": []
  }
 ],
 "metadata": {
  "kernelspec": {
   "display_name": "Python 3 (ipykernel)",
   "language": "python",
   "name": "python3"
  },
  "language_info": {
   "codemirror_mode": {
    "name": "ipython",
    "version": 3
   },
   "file_extension": ".py",
   "mimetype": "text/x-python",
   "name": "python",
   "nbconvert_exporter": "python",
   "pygments_lexer": "ipython3",
   "version": "3.12.5"
  }
 },
 "nbformat": 4,
 "nbformat_minor": 5
}
